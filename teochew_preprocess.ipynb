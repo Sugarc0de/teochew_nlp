{
 "cells": [
  {
   "cell_type": "code",
   "execution_count": 2,
   "metadata": {},
   "outputs": [],
   "source": [
    "import pandas as pd \n",
    "import seaborn as sns\n",
    "import numpy as np \n",
    "import re \n",
    "import sys \n",
    "sys.path.append('/Users/elaineye/data_science/teochew_nlp/src/')\n",
    "from pinyin_utils import extract_pinyin_tones"
   ]
  },
  {
   "cell_type": "code",
   "execution_count": 37,
   "metadata": {},
   "outputs": [],
   "source": [
    "data = pd.read_csv(\"teochew-clean-data.txt\", names=['teochew', 'word'], sep='-')"
   ]
  },
  {
   "cell_type": "code",
   "execution_count": 45,
   "metadata": {
    "collapsed": true
   },
   "outputs": [
    {
     "data": {
      "text/html": [
       "<div>\n",
       "<style scoped>\n",
       "    .dataframe tbody tr th:only-of-type {\n",
       "        vertical-align: middle;\n",
       "    }\n",
       "\n",
       "    .dataframe tbody tr th {\n",
       "        vertical-align: top;\n",
       "    }\n",
       "\n",
       "    .dataframe thead th {\n",
       "        text-align: right;\n",
       "    }\n",
       "</style>\n",
       "<table border=\"1\" class=\"dataframe\">\n",
       "  <thead>\n",
       "    <tr style=\"text-align: right;\">\n",
       "      <th></th>\n",
       "      <th>teochew</th>\n",
       "      <th>word</th>\n",
       "    </tr>\n",
       "  </thead>\n",
       "  <tbody>\n",
       "    <tr>\n",
       "      <td>0</td>\n",
       "      <td>ua52</td>\n",
       "      <td>我</td>\n",
       "    </tr>\n",
       "    <tr>\n",
       "      <td>1</td>\n",
       "      <td>le52</td>\n",
       "      <td>你</td>\n",
       "    </tr>\n",
       "    <tr>\n",
       "      <td>2</td>\n",
       "      <td>i3</td>\n",
       "      <td>他</td>\n",
       "    </tr>\n",
       "    <tr>\n",
       "      <td>3</td>\n",
       "      <td>eui21</td>\n",
       "      <td>会</td>\n",
       "    </tr>\n",
       "    <tr>\n",
       "      <td>4</td>\n",
       "      <td>da5</td>\n",
       "      <td>说</td>\n",
       "    </tr>\n",
       "    <tr>\n",
       "      <td>5</td>\n",
       "      <td>deo3 jiu5 wei1</td>\n",
       "      <td>潮州话</td>\n",
       "    </tr>\n",
       "    <tr>\n",
       "      <td>6</td>\n",
       "      <td>nang5</td>\n",
       "      <td>人</td>\n",
       "    </tr>\n",
       "    <tr>\n",
       "      <td>7</td>\n",
       "      <td>neng35 peng1 iu52</td>\n",
       "      <td>女朋友</td>\n",
       "    </tr>\n",
       "    <tr>\n",
       "      <td>8</td>\n",
       "      <td>gai5</td>\n",
       "      <td>是</td>\n",
       "    </tr>\n",
       "    <tr>\n",
       "      <td>9</td>\n",
       "      <td>dzeik5</td>\n",
       "      <td>一</td>\n",
       "    </tr>\n",
       "  </tbody>\n",
       "</table>\n",
       "</div>"
      ],
      "text/plain": [
       "             teochew word\n",
       "0               ua52    我\n",
       "1               le52    你\n",
       "2                 i3    他\n",
       "3              eui21    会\n",
       "4                da5    说\n",
       "5     deo3 jiu5 wei1  潮州话\n",
       "6              nang5    人\n",
       "7  neng35 peng1 iu52  女朋友\n",
       "8               gai5    是\n",
       "9             dzeik5    一"
      ]
     },
     "execution_count": 45,
     "metadata": {},
     "output_type": "execute_result"
    }
   ],
   "source": [
    "def replace_tilde(tones):\n",
    "    tones = tones.strip() \n",
    "    return tones.replace('~', 'n')\n",
    "\n",
    "data['teochew'] = data['teochew'].apply(replace_tilde)\n",
    "data.word = data.word.apply(lambda x: x.strip())\n",
    "data.head(10)"
   ]
  },
  {
   "cell_type": "code",
   "execution_count": 66,
   "metadata": {
    "collapsed": true
   },
   "outputs": [
    {
     "data": {
      "text/html": [
       "<div>\n",
       "<style scoped>\n",
       "    .dataframe tbody tr th:only-of-type {\n",
       "        vertical-align: middle;\n",
       "    }\n",
       "\n",
       "    .dataframe tbody tr th {\n",
       "        vertical-align: top;\n",
       "    }\n",
       "\n",
       "    .dataframe thead th {\n",
       "        text-align: right;\n",
       "    }\n",
       "</style>\n",
       "<table border=\"1\" class=\"dataframe\">\n",
       "  <thead>\n",
       "    <tr style=\"text-align: right;\">\n",
       "      <th></th>\n",
       "      <th>teochew</th>\n",
       "      <th>word</th>\n",
       "    </tr>\n",
       "  </thead>\n",
       "  <tbody>\n",
       "    <tr>\n",
       "      <td>0</td>\n",
       "      <td>ua52</td>\n",
       "      <td>我</td>\n",
       "    </tr>\n",
       "    <tr>\n",
       "      <td>1</td>\n",
       "      <td>le52</td>\n",
       "      <td>你</td>\n",
       "    </tr>\n",
       "    <tr>\n",
       "      <td>2</td>\n",
       "      <td>i3</td>\n",
       "      <td>他</td>\n",
       "    </tr>\n",
       "    <tr>\n",
       "      <td>3</td>\n",
       "      <td>eui21</td>\n",
       "      <td>会</td>\n",
       "    </tr>\n",
       "    <tr>\n",
       "      <td>4</td>\n",
       "      <td>da5</td>\n",
       "      <td>说</td>\n",
       "    </tr>\n",
       "    <tr>\n",
       "      <td>5</td>\n",
       "      <td>deo3</td>\n",
       "      <td>潮</td>\n",
       "    </tr>\n",
       "    <tr>\n",
       "      <td>6</td>\n",
       "      <td>jiu5</td>\n",
       "      <td>州</td>\n",
       "    </tr>\n",
       "    <tr>\n",
       "      <td>7</td>\n",
       "      <td>wei1</td>\n",
       "      <td>话</td>\n",
       "    </tr>\n",
       "    <tr>\n",
       "      <td>8</td>\n",
       "      <td>nang5</td>\n",
       "      <td>人</td>\n",
       "    </tr>\n",
       "    <tr>\n",
       "      <td>9</td>\n",
       "      <td>neng35</td>\n",
       "      <td>女</td>\n",
       "    </tr>\n",
       "  </tbody>\n",
       "</table>\n",
       "</div>"
      ],
      "text/plain": [
       "  teochew word\n",
       "0    ua52    我\n",
       "1    le52    你\n",
       "2      i3    他\n",
       "3   eui21    会\n",
       "4     da5    说\n",
       "5    deo3    潮\n",
       "6    jiu5    州\n",
       "7    wei1    话\n",
       "8   nang5    人\n",
       "9  neng35    女"
      ]
     },
     "execution_count": 66,
     "metadata": {},
     "output_type": "execute_result"
    }
   ],
   "source": [
    "# different way to split the characters\n",
    "split_df = []\n",
    "for ix, row in data.iterrows():\n",
    "    teochew_word = row['teochew'].split()\n",
    "    mandarin_word = list(row['word'])\n",
    "    for teochew_char, mandarin_char in zip(teochew_word, mandarin_word):\n",
    "        split_df.append(pd.Series({\"teochew\": teochew_char, \"word\": mandarin_char}))\n",
    "split_df = pd.DataFrame(split_df)\n",
    "split_df.head(10)"
   ]
  },
  {
   "cell_type": "code",
   "execution_count": 70,
   "metadata": {},
   "outputs": [],
   "source": [
    "data['teochew_length'] = data.teochew.apply(lambda x: len(x.split()))\n",
    "data['word_length'] = data.word.apply(lambda x: len(x))\n",
    "data2 = data[data.teochew_length == data.word_length]"
   ]
  },
  {
   "cell_type": "code",
   "execution_count": 6,
   "metadata": {},
   "outputs": [
    {
     "data": {
      "text/plain": [
       "'52'"
      ]
     },
     "execution_count": 6,
     "metadata": {},
     "output_type": "execute_result"
    }
   ],
   "source": [
    "def extract_teochew_tones(input_teochew):\n",
    "    return \"\".join([c for c in input_teochew if not c.isalpha()])\n",
    "\n",
    "extract_teochew_tones('ua52')"
   ]
  },
  {
   "cell_type": "code",
   "execution_count": 71,
   "metadata": {},
   "outputs": [
    {
     "data": {
      "text/plain": [
       "word            252\n",
       "teochew         252\n",
       "teochew_tone    252\n",
       "dtype: int64"
      ]
     },
     "execution_count": 71,
     "metadata": {},
     "output_type": "execute_result"
    }
   ],
   "source": [
    "# split the teochew/mandarin character\n",
    "data3 = pd.DataFrame(data2.word.apply(lambda x: list(x)[-1]))\n",
    "data4 = pd.DataFrame(data2.teochew.apply(lambda x: x.split(' ')[-1]))\n",
    "data3 = data3.explode('word')\n",
    "data4 = data4.explode('teochew')\n",
    "data4['teochew_tone'] = data4.teochew.apply(extract_teochew_tones)\n",
    "combined_data = pd.concat([data3, data4], axis=1)\n",
    "combined_data.drop_duplicates(subset='word', keep='first', inplace=True)\n",
    "combined_data.count() "
   ]
  },
  {
   "cell_type": "code",
   "execution_count": 72,
   "metadata": {
    "collapsed": true
   },
   "outputs": [
    {
     "name": "stdout",
     "output_type": "stream",
     "text": [
      "['52', '52', '3', '21', '5', '1', '5', '52', '5', '5', '35', '35', '3', '1', '35', '5', '1', '21', '52', '5', '1', '52', '1', '52', '5', '35', '5', '1', '5', '21', '1', '3', '1', '35', '35', '35', '1', '35', '1', '52', '35', '35', '1', '52', '1', '5', '52', '3', '3', '5', '21', '3', '5', '21', '3', '5', '52', '5', '5', '35', '5', '3', '52', '1', '5', '1', '21', '52', '1', '1', '5', '1', '3', '52', '3', '1', '35', '1', '35', '21', '5', '1', '3', '5', '3', '35', '3', '52', '5', '1', '5', '5', '1', '52', '1', '3', '5', '35', '3', '52', '1', '35', '52', '52', '3', '3', '52', '3', '5', '1', '5', '5', '5', '5', '1', '3', '35', '5', '1', '3', '52', '3', '52', '1', '52', '3', '3', '35', '5', '5', '1', '1', '35', '5', '5', '3', '1', '3', '5', '1', '1', '52', '1', '1', '5', '3', '21', '3', '3', '3', '52', '1', '1', '35', '1', '52', '35', '5', '3', '3', '35', '5', '5', '3', '5', '1', '52', '5', '35', '52', '52', '5', '35', '35', '3', '3', '1', '21', '35', '3', '3', '21', '3', '5', '3', '3', '1', '52', '1', '3', '21', '52', '5', '52', '5', '5', '3', '5', '5', '35', '5', '5', '1', '1', '52', '1', '35', '3', '3', '21', '1', '1', '1', '1', '5', '35', '3', '5', '3', '5', '3', '1', '3', '35', '35', '52', '5', '1', '52', '3', '1', '5', '5', '3', '5', '1', '1', '52', '5', '3', '3', '1', '21', '35', '5', '1', '1', '5', '5', '21', '5', '52']\n"
     ]
    }
   ],
   "source": [
    "tones_only_list = combined_data['teochew_tone'].values.tolist()\n",
    "print(tones_only_list)"
   ]
  },
  {
   "cell_type": "code",
   "execution_count": 73,
   "metadata": {},
   "outputs": [
    {
     "data": {
      "text/plain": [
       "<matplotlib.axes._subplots.AxesSubplot at 0x1a17fc0940>"
      ]
     },
     "execution_count": 73,
     "metadata": {},
     "output_type": "execute_result"
    },
    {
     "data": {
      "image/png": "[encoded data removed]",
      "text/plain": [
       "<matplotlib.figure.Figure at 0x1a17f8fd30>"
      ]
     },
     "metadata": {},
     "output_type": "display_data"
    }
   ],
   "source": [
    "tones_only_list = np.array(tones_only_list) \n",
    "sns.countplot(tones_only_list)"
   ]
  },
  {
   "cell_type": "code",
   "execution_count": null,
   "metadata": {},
   "outputs": [],
   "source": []
  }
 ],
 "metadata": {
  "kernelspec": {
   "display_name": "Python 3",
   "language": "python",
   "name": "python3"
  },
  "language_info": {
   "codemirror_mode": {
    "name": "ipython",
    "version": 3
   },
   "file_extension": ".py",
   "mimetype": "text/x-python",
   "name": "python",
   "nbconvert_exporter": "python",
   "pygments_lexer": "ipython3",
   "version": "3.6.8"
  }
 },
 "nbformat": 4,
 "nbformat_minor": 2
}
