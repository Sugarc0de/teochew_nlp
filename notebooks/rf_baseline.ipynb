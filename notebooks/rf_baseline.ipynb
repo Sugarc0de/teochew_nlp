{
 "cells": [
  {
   "cell_type": "code",
   "execution_count": 1,
   "metadata": {},
   "outputs": [
    {
     "name": "stderr",
     "output_type": "stream",
     "text": [
      "../src/load_transform_data.py:64: SettingWithCopyWarning: \n",
      "A value is trying to be set on a copy of a slice from a DataFrame.\n",
      "Try using .loc[row_indexer,col_indexer] = value instead\n",
      "\n",
      "See the caveats in the documentation: http://pandas.pydata.org/pandas-docs/stable/user_guide/indexing.html#returning-a-view-versus-a-copy\n",
      "  test_y['final_teo'] = test_y['final_teo'].apply(lambda x: self.le_dict.get(x, -1))\n"
     ]
    }
   ],
   "source": [
    "import sys\n",
    "import pandas as pd \n",
    "import numpy as np \n",
    "sys.path.append('../src/')\n",
    "import load_transform_data\n",
    "\n",
    "transformed = load_transform_data.TransformXY()\n",
    "transformed.transform_data('LabelEncoder')"
   ]
  },
  {
   "cell_type": "code",
   "execution_count": 2,
   "metadata": {},
   "outputs": [
    {
     "data": {
      "text/plain": [
       "(640, 64)"
      ]
     },
     "execution_count": 2,
     "metadata": {},
     "output_type": "execute_result"
    }
   ],
   "source": [
    "from sklearn.ensemble import RandomForestClassifier\n",
    "\n",
    "X_train = np.concatenate([transformed.X_train_tone,transformed.X_train_initial,\\\n",
    "                          transformed.X_train_final], axis=1)\n",
    "X_train.shape"
   ]
  },
  {
   "cell_type": "code",
   "execution_count": 3,
   "metadata": {},
   "outputs": [],
   "source": [
    "X_test = np.concatenate([transformed.X_test_tone,transformed.X_test_initial,\\\n",
    "                          transformed.X_test_final], axis=1)"
   ]
  },
  {
   "cell_type": "code",
   "execution_count": 4,
   "metadata": {},
   "outputs": [],
   "source": [
    "#from sklearn.svm import LinearSVC\n",
    "from sklearn.ensemble import RandomForestClassifier\n",
    "\n",
    "RFs = [RandomForestClassifier(n_estimators=100, max_samples=0.7, random_state=i) for i in range(3)]\n",
    "\n",
    "Y_train = [transformed.Y_train_tone,transformed.Y_train_initial,transformed.Y_train_final]\n",
    "\n",
    "for idx, rf in enumerate(RFs):\n",
    "    rf.fit(X_train, Y_train[idx])\n",
    "\n",
    "pred_tone = np.array(RFs[0].predict(X_test))\n",
    "pred_initial = np.array(RFs[1].predict(X_test))\n",
    "pred_final = np.array(RFs[2].predict(X_test))"
   ]
  },
  {
   "cell_type": "code",
   "execution_count": 5,
   "metadata": {},
   "outputs": [
    {
     "data": {
      "text/plain": [
       "697    53\n",
       "668    15\n",
       "63     10\n",
       "534    14\n",
       "66      3\n",
       "       ..\n",
       "799    15\n",
       "745    62\n",
       "513    48\n",
       "671    41\n",
       "264    -1\n",
       "Name: final_teo, Length: 161, dtype: int64"
      ]
     },
     "execution_count": 5,
     "metadata": {},
     "output_type": "execute_result"
    }
   ],
   "source": [
    "transformed.Y_test_final"
   ]
  },
  {
   "cell_type": "code",
   "execution_count": 6,
   "metadata": {},
   "outputs": [],
   "source": [
    "feature_imp0 = RFs[0].feature_importances_.reshape(-1, 1)\n",
    "feature_imp1 = RFs[1].feature_importances_.reshape(-1, 1)\n",
    "feature_imp2 = RFs[2].feature_importances_.reshape(-1, 1)"
   ]
  },
  {
   "cell_type": "code",
   "execution_count": 16,
   "metadata": {},
   "outputs": [
    {
     "data": {
      "text/html": [
       "<div>\n",
       "<style scoped>\n",
       "    .dataframe tbody tr th:only-of-type {\n",
       "        vertical-align: middle;\n",
       "    }\n",
       "\n",
       "    .dataframe tbody tr th {\n",
       "        vertical-align: top;\n",
       "    }\n",
       "\n",
       "    .dataframe thead th {\n",
       "        text-align: right;\n",
       "    }\n",
       "</style>\n",
       "<table border=\"1\" class=\"dataframe\">\n",
       "  <thead>\n",
       "    <tr style=\"text-align: right;\">\n",
       "      <th></th>\n",
       "      <th>feature_importance</th>\n",
       "      <th>features</th>\n",
       "    </tr>\n",
       "  </thead>\n",
       "  <tbody>\n",
       "    <tr>\n",
       "      <td>0</td>\n",
       "      <td>0.1418</td>\n",
       "      <td>1</td>\n",
       "    </tr>\n",
       "    <tr>\n",
       "      <td>1</td>\n",
       "      <td>0.104914</td>\n",
       "      <td>2</td>\n",
       "    </tr>\n",
       "    <tr>\n",
       "      <td>2</td>\n",
       "      <td>0.0973116</td>\n",
       "      <td>3</td>\n",
       "    </tr>\n",
       "    <tr>\n",
       "      <td>3</td>\n",
       "      <td>0.0763801</td>\n",
       "      <td>4</td>\n",
       "    </tr>\n",
       "    <tr>\n",
       "      <td>38</td>\n",
       "      <td>0.0281555</td>\n",
       "      <td>i</td>\n",
       "    </tr>\n",
       "    <tr>\n",
       "      <td>5</td>\n",
       "      <td>0.0227322</td>\n",
       "      <td>b</td>\n",
       "    </tr>\n",
       "    <tr>\n",
       "      <td>12</td>\n",
       "      <td>0.0211497</td>\n",
       "      <td>j</td>\n",
       "    </tr>\n",
       "    <tr>\n",
       "      <td>27</td>\n",
       "      <td>0.0195108</td>\n",
       "      <td>zh</td>\n",
       "    </tr>\n",
       "    <tr>\n",
       "      <td>14</td>\n",
       "      <td>0.0191988</td>\n",
       "      <td>l</td>\n",
       "    </tr>\n",
       "    <tr>\n",
       "      <td>21</td>\n",
       "      <td>0.0179787</td>\n",
       "      <td>sh</td>\n",
       "    </tr>\n",
       "  </tbody>\n",
       "</table>\n",
       "</div>"
      ],
      "text/plain": [
       "   feature_importance features\n",
       "0              0.1418        1\n",
       "1            0.104914        2\n",
       "2           0.0973116        3\n",
       "3           0.0763801        4\n",
       "38          0.0281555        i\n",
       "5           0.0227322        b\n",
       "12          0.0211497        j\n",
       "27          0.0195108       zh\n",
       "14          0.0191988        l\n",
       "21          0.0179787       sh"
      ]
     },
     "execution_count": 16,
     "metadata": {},
     "output_type": "execute_result"
    }
   ],
   "source": [
    "cat = transformed.encX.categories_\n",
    "man_feature = np.concatenate([cat[0], cat[1], cat[2]], axis=0).reshape(-1, 1)\n",
    "feature_initial = pd.DataFrame(np.concatenate([feature_imp0, man_feature], axis=1), \\\n",
    "                               columns=['feature_importance', 'features'])\n",
    "feature_initial.sort_values(by='feature_importance', ascending=False).head(10)                         "
   ]
  },
  {
   "cell_type": "code",
   "execution_count": 8,
   "metadata": {},
   "outputs": [
    {
     "data": {
      "text/plain": [
       "((161,), (161,), (161,))"
      ]
     },
     "execution_count": 8,
     "metadata": {},
     "output_type": "execute_result"
    }
   ],
   "source": [
    "pred_tone.shape, pred_initial.shape, pred_final.shape"
   ]
  },
  {
   "cell_type": "code",
   "execution_count": 9,
   "metadata": {},
   "outputs": [
    {
     "data": {
      "text/plain": [
       "array(['a', 'ai', 'aim', 'ak', 'am', 'an', 'ap', 'au', 'aŋ', 'aŋ̍', 'aʔ',\n",
       "       'e', 'ek', 'eŋ', 'eʔ', 'i', 'ia', 'iak', 'iaŋ', 'iaʔ', 'ie', 'iem',\n",
       "       'ieŋ', 'ieʔ', 'ik', 'im', 'ip', 'iu', 'iŋ', 'iəm', 'iəp', 'iəu',\n",
       "       'iʔ', 'iẽ∼', 'o', 'oi', 'oiʔ', 'ok', 'ou', 'oŋ', 'oʔ', 'u', 'ua',\n",
       "       'uai', 'uaŋ', 'uaʔ', 'ue', 'ueŋ', 'ueʔ', 'ui', 'uk', 'un', 'uŋ',\n",
       "       'ã∼', 'õĩ∼', 'õũ∼', 'ĩã∼', 'ĩũ∼', 'ĩẽ∼', 'ĩ∼', 'ŋ', 'ŋ̍', 'ũã∼',\n",
       "       'ũĩ∼', 'ũẽ∼', 'ɯ', 'ɯk', 'ɯŋ', 'ɿ', 'ẽ∼'], dtype='<U3')"
      ]
     },
     "execution_count": 9,
     "metadata": {},
     "output_type": "execute_result"
    }
   ],
   "source": [
    "pred_tone_df = transformed.encT.inverse_transform(pred_tone)\n",
    "pred_initial_df = transformed.encI.inverse_transform(pred_initial)\n",
    "pred_final_df = transformed.encF.inverse_transform(pred_final)\n",
    "\n",
    "pred_df = np.column_stack((pred_tone_df.T, pred_initial_df.T, pred_final_df.T))\n",
    "#len(pred_tone_df), len(pred_initial_df), len(pred_final_df), pred_tone.shape\n",
    "transformed.encF.classes_"
   ]
  },
  {
   "cell_type": "code",
   "execution_count": 10,
   "metadata": {},
   "outputs": [],
   "source": [
    "test_tone_df = transformed.encT.inverse_transform(transformed.Y_test_tone)\n",
    "test_initial_df = transformed.encI.inverse_transform(transformed.Y_test_initial)\n",
    "outliers = ['-1', '53']\n",
    "test_final_df = transformed.Y_test_final.apply(lambda x: \\\n",
    "                                               transformed.encF.inverse_transform(np.array([x]))[0]\n",
    "                                               if str(x) not in outliers else 'unknown')\n",
    "#test_final_df = transformed.Y_test_final.apply(lambda x: x if x not in outliers else 'unknown')"
   ]
  },
  {
   "cell_type": "code",
   "execution_count": 11,
   "metadata": {},
   "outputs": [
    {
     "data": {
      "text/plain": [
       "697    unknown\n",
       "360    unknown\n",
       "667    unknown\n",
       "481    unknown\n",
       "231    unknown\n",
       "49     unknown\n",
       "365    unknown\n",
       "76     unknown\n",
       "765    unknown\n",
       "425    unknown\n",
       "541    unknown\n",
       "264    unknown\n",
       "Name: final_teo, dtype: object"
      ]
     },
     "execution_count": 11,
     "metadata": {},
     "output_type": "execute_result"
    }
   ],
   "source": [
    "test_final_df[test_final_df=='unknown']"
   ]
  },
  {
   "cell_type": "code",
   "execution_count": 12,
   "metadata": {},
   "outputs": [],
   "source": [
    "test_df = np.column_stack((test_tone_df.T, test_initial_df.T, test_final_df.T))"
   ]
  },
  {
   "cell_type": "code",
   "execution_count": 13,
   "metadata": {},
   "outputs": [],
   "source": [
    "#test_df"
   ]
  },
  {
   "cell_type": "code",
   "execution_count": 14,
   "metadata": {},
   "outputs": [
    {
     "name": "stdout",
     "output_type": "stream",
     "text": [
      "85 103 52\n"
     ]
    }
   ],
   "source": [
    "results = np.sum(pred_df==test_df, axis=0)\n",
    "print(results[0], results[1], results[2])"
   ]
  },
  {
   "cell_type": "code",
   "execution_count": 15,
   "metadata": {},
   "outputs": [
    {
     "name": "stdout",
     "output_type": "stream",
     "text": [
      "accuracy for tones prediction: 52.79503105590062%\n",
      "accuracy for initials prediction: 63.975155279503106%\n",
      "accuracy for finals prediction: 32.298136645962735%\n"
     ]
    }
   ],
   "source": [
    "# Accuracy for teochew_tones, teochew_initials, and teochew_finals \n",
    "print('accuracy for tones prediction: {}%'.format(results[0]/pred_tone.shape[0]*100))\n",
    "print('accuracy for initials prediction: {}%'.format(results[1]/pred_initial.shape[0]*100))\n",
    "print('accuracy for finals prediction: {}%'.format(results[2]/pred_final.shape[0]*100))\n",
    "\n",
    "cols = [['citation', 'initial', 'final', 'pred_citation', 'pred_initial', 'pred_final']]\n",
    "result_df = pd.DataFrame(np.concatenate([test_df, pred_df], axis=1), columns=cols)\n",
    "\n",
    "result_df.columns = ['citation','initial','final',\n",
    "                     'pred_citation','pred_initial','pred_final']\n",
    "result_df['pred_final'].isnull().sum()\n",
    "\n",
    "result_df[(result_df['citation']==result_df['pred_citation'])\n",
    "          &(result_df['initial']==result_df['pred_initial'])\n",
    "          &(result_df['final']==result_df['pred_final'])]\n",
    "\n",
    "# harsh metrics, when all three predictions are equal \n",
    "26/pred_tone.shape[0]*100\n",
    "\n",
    "result_df.to_csv('../output/rf.csv', index = None, header=True)"
   ]
  }
 ],
 "metadata": {
  "kernelspec": {
   "display_name": "Python 3",
   "language": "python",
   "name": "python3"
  },
  "language_info": {
   "codemirror_mode": {
    "name": "ipython",
    "version": 3
   },
   "file_extension": ".py",
   "mimetype": "text/x-python",
   "name": "python",
   "nbconvert_exporter": "python",
   "pygments_lexer": "ipython3",
   "version": "3.7.4"
  }
 },
 "nbformat": 4,
 "nbformat_minor": 4
}
