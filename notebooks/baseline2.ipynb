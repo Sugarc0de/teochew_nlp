{
 "cells": [
  {
   "cell_type": "code",
   "execution_count": 1,
   "metadata": {},
   "outputs": [],
   "source": [
    "import pandas as pd\n",
    "import numpy as np \n",
    "%matplotlib inline"
   ]
  },
  {
   "cell_type": "code",
   "execution_count": 2,
   "metadata": {},
   "outputs": [],
   "source": [
    "data_dir = '../data/clean_data/'"
   ]
  },
  {
   "cell_type": "code",
   "execution_count": 3,
   "metadata": {},
   "outputs": [
    {
     "data": {
      "text/html": [
       "<div>\n",
       "<style scoped>\n",
       "    .dataframe tbody tr th:only-of-type {\n",
       "        vertical-align: middle;\n",
       "    }\n",
       "\n",
       "    .dataframe tbody tr th {\n",
       "        vertical-align: top;\n",
       "    }\n",
       "\n",
       "    .dataframe thead th {\n",
       "        text-align: right;\n",
       "    }\n",
       "</style>\n",
       "<table border=\"1\" class=\"dataframe\">\n",
       "  <thead>\n",
       "    <tr style=\"text-align: right;\">\n",
       "      <th></th>\n",
       "      <th>BENZI_IN_SOURCE_teo</th>\n",
       "      <th>BENZI_man</th>\n",
       "      <th>citation_teo</th>\n",
       "      <th>initial_teo</th>\n",
       "      <th>final_teo</th>\n",
       "      <th>citation_man</th>\n",
       "      <th>initial_man</th>\n",
       "      <th>final_man</th>\n",
       "    </tr>\n",
       "  </thead>\n",
       "  <tbody>\n",
       "    <tr>\n",
       "      <td>0</td>\n",
       "      <td>三</td>\n",
       "      <td>三</td>\n",
       "      <td>33</td>\n",
       "      <td>s</td>\n",
       "      <td>['ã', '∼']</td>\n",
       "      <td>1</td>\n",
       "      <td>s</td>\n",
       "      <td>an</td>\n",
       "    </tr>\n",
       "    <tr>\n",
       "      <td>1</td>\n",
       "      <td>十</td>\n",
       "      <td>十</td>\n",
       "      <td>4</td>\n",
       "      <td>ts</td>\n",
       "      <td>['a', 'p']</td>\n",
       "      <td>2</td>\n",
       "      <td>sh</td>\n",
       "      <td>i</td>\n",
       "    </tr>\n",
       "    <tr>\n",
       "      <td>2</td>\n",
       "      <td>夜</td>\n",
       "      <td>夜</td>\n",
       "      <td>55</td>\n",
       "      <td>m</td>\n",
       "      <td>['e']</td>\n",
       "      <td>4</td>\n",
       "      <td>y</td>\n",
       "      <td>e</td>\n",
       "    </tr>\n",
       "    <tr>\n",
       "      <td>3</td>\n",
       "      <td>我</td>\n",
       "      <td>我</td>\n",
       "      <td>53</td>\n",
       "      <td>u</td>\n",
       "      <td>['a']</td>\n",
       "      <td>3</td>\n",
       "      <td>w</td>\n",
       "      <td>o</td>\n",
       "    </tr>\n",
       "    <tr>\n",
       "      <td>4</td>\n",
       "      <td>裌</td>\n",
       "      <td>裌</td>\n",
       "      <td>21</td>\n",
       "      <td>k</td>\n",
       "      <td>['o', 'i', 'ʔ']</td>\n",
       "      <td>2</td>\n",
       "      <td>j</td>\n",
       "      <td>ia</td>\n",
       "    </tr>\n",
       "  </tbody>\n",
       "</table>\n",
       "</div>"
      ],
      "text/plain": [
       "  BENZI_IN_SOURCE_teo BENZI_man  citation_teo initial_teo        final_teo  \\\n",
       "0                   三         三            33           s       ['ã', '∼']   \n",
       "1                   十         十             4          ts       ['a', 'p']   \n",
       "2                   夜         夜            55           m            ['e']   \n",
       "3                   我         我            53           u            ['a']   \n",
       "4                   裌         裌            21           k  ['o', 'i', 'ʔ']   \n",
       "\n",
       "   citation_man initial_man final_man  \n",
       "0             1           s        an  \n",
       "1             2          sh         i  \n",
       "2             4           y         e  \n",
       "3             3           w         o  \n",
       "4             2           j        ia  "
      ]
     },
     "execution_count": 3,
     "metadata": {},
     "output_type": "execute_result"
    }
   ],
   "source": [
    "data = pd.read_csv(data_dir+'model_input.csv')\n",
    "data.head()"
   ]
  },
  {
   "cell_type": "markdown",
   "metadata": {},
   "source": [
    "### Explore the Sparsity in Data "
   ]
  },
  {
   "cell_type": "code",
   "execution_count": 4,
   "metadata": {},
   "outputs": [
    {
     "data": {
      "text/plain": [
       "['i']              57\n",
       "['a', 'ŋ']         35\n",
       "['o']              33\n",
       "['ɯ', 'ŋ']         32\n",
       "['o', 'u']         30\n",
       "                   ..\n",
       "['i', 'p']          1\n",
       "['ũ', 'ĩ', '∼']     1\n",
       "['u', 'n']          1\n",
       "['i', 'a', 'k']     1\n",
       "['i', 'a', 'p']     1\n",
       "Name: final_teo, Length: 83, dtype: int64"
      ]
     },
     "execution_count": 4,
     "metadata": {},
     "output_type": "execute_result"
    }
   ],
   "source": [
    "# the first 30 items has frequency greater than 10 \n",
    "# the last 21 items has only appear once in the dataset\n",
    "data['final_teo'].value_counts()"
   ]
  },
  {
   "cell_type": "markdown",
   "metadata": {},
   "source": [
    "import ast\n",
    "data[['final_teo1', 'final_teo2', 'final_teo3']] = \\\n",
    "data['final_teo'].apply(lambda x: pd.Series(ast.literal_eval(x)+[\"\"]*(3-len(x))))"
   ]
  },
  {
   "cell_type": "code",
   "execution_count": 5,
   "metadata": {},
   "outputs": [
    {
     "data": {
      "text/html": [
       "<div>\n",
       "<style scoped>\n",
       "    .dataframe tbody tr th:only-of-type {\n",
       "        vertical-align: middle;\n",
       "    }\n",
       "\n",
       "    .dataframe tbody tr th {\n",
       "        vertical-align: top;\n",
       "    }\n",
       "\n",
       "    .dataframe thead th {\n",
       "        text-align: right;\n",
       "    }\n",
       "</style>\n",
       "<table border=\"1\" class=\"dataframe\">\n",
       "  <thead>\n",
       "    <tr style=\"text-align: right;\">\n",
       "      <th></th>\n",
       "      <th>BENZI_IN_SOURCE_teo</th>\n",
       "      <th>BENZI_man</th>\n",
       "      <th>citation_teo</th>\n",
       "      <th>initial_teo</th>\n",
       "      <th>final_teo</th>\n",
       "      <th>citation_man</th>\n",
       "      <th>initial_man</th>\n",
       "      <th>final_man</th>\n",
       "    </tr>\n",
       "  </thead>\n",
       "  <tbody>\n",
       "  </tbody>\n",
       "</table>\n",
       "</div>"
      ],
      "text/plain": [
       "Empty DataFrame\n",
       "Columns: [BENZI_IN_SOURCE_teo, BENZI_man, citation_teo, initial_teo, final_teo, citation_man, initial_man, final_man]\n",
       "Index: []"
      ]
     },
     "execution_count": 5,
     "metadata": {},
     "output_type": "execute_result"
    }
   ],
   "source": [
    "import ast \n",
    "data['final_teo'] = data['final_teo'].apply(lambda x: \"\".join(ast.literal_eval(x)))\n",
    "df = data.fillna(value=' ', axis=1)\n",
    "df[df['initial_man'].isnull()]"
   ]
  },
  {
   "cell_type": "code",
   "execution_count": 6,
   "metadata": {},
   "outputs": [
    {
     "data": {
      "text/html": [
       "<div>\n",
       "<style scoped>\n",
       "    .dataframe tbody tr th:only-of-type {\n",
       "        vertical-align: middle;\n",
       "    }\n",
       "\n",
       "    .dataframe tbody tr th {\n",
       "        vertical-align: top;\n",
       "    }\n",
       "\n",
       "    .dataframe thead th {\n",
       "        text-align: right;\n",
       "    }\n",
       "</style>\n",
       "<table border=\"1\" class=\"dataframe\">\n",
       "  <thead>\n",
       "    <tr style=\"text-align: right;\">\n",
       "      <th></th>\n",
       "      <th>BENZI_IN_SOURCE_teo</th>\n",
       "      <th>BENZI_man</th>\n",
       "      <th>citation_teo</th>\n",
       "      <th>initial_teo</th>\n",
       "      <th>final_teo</th>\n",
       "      <th>citation_man</th>\n",
       "      <th>initial_man</th>\n",
       "      <th>final_man</th>\n",
       "    </tr>\n",
       "  </thead>\n",
       "  <tbody>\n",
       "    <tr>\n",
       "      <td>463</td>\n",
       "      <td>年</td>\n",
       "      <td>年</td>\n",
       "      <td>55</td>\n",
       "      <td>n</td>\n",
       "      <td>i</td>\n",
       "      <td>2</td>\n",
       "      <td>n</td>\n",
       "      <td>ian</td>\n",
       "    </tr>\n",
       "    <tr>\n",
       "      <td>76</td>\n",
       "      <td>唔</td>\n",
       "      <td>唔</td>\n",
       "      <td>11</td>\n",
       "      <td></td>\n",
       "      <td>m̩</td>\n",
       "      <td>2</td>\n",
       "      <td>w</td>\n",
       "      <td>u</td>\n",
       "    </tr>\n",
       "    <tr>\n",
       "      <td>360</td>\n",
       "      <td>揲</td>\n",
       "      <td>揲</td>\n",
       "      <td>4</td>\n",
       "      <td>t</td>\n",
       "      <td>iap</td>\n",
       "      <td>2</td>\n",
       "      <td>sh</td>\n",
       "      <td>e</td>\n",
       "    </tr>\n",
       "    <tr>\n",
       "      <td>25</td>\n",
       "      <td>經</td>\n",
       "      <td>经</td>\n",
       "      <td>33</td>\n",
       "      <td>k</td>\n",
       "      <td>iŋ</td>\n",
       "      <td>1</td>\n",
       "      <td>j</td>\n",
       "      <td>ing</td>\n",
       "    </tr>\n",
       "    <tr>\n",
       "      <td>775</td>\n",
       "      <td>戴</td>\n",
       "      <td>戴</td>\n",
       "      <td>213</td>\n",
       "      <td>t</td>\n",
       "      <td>i</td>\n",
       "      <td>4</td>\n",
       "      <td>d</td>\n",
       "      <td>ai</td>\n",
       "    </tr>\n",
       "    <tr>\n",
       "      <td>767</td>\n",
       "      <td>浴</td>\n",
       "      <td>浴</td>\n",
       "      <td>4</td>\n",
       "      <td>e</td>\n",
       "      <td>k</td>\n",
       "      <td>4</td>\n",
       "      <td>y</td>\n",
       "      <td>v</td>\n",
       "    </tr>\n",
       "    <tr>\n",
       "      <td>490</td>\n",
       "      <td>仁</td>\n",
       "      <td>仁</td>\n",
       "      <td>55</td>\n",
       "      <td>z</td>\n",
       "      <td>iŋ</td>\n",
       "      <td>2</td>\n",
       "      <td>r</td>\n",
       "      <td>en</td>\n",
       "    </tr>\n",
       "    <tr>\n",
       "      <td>215</td>\n",
       "      <td>銅</td>\n",
       "      <td>铜</td>\n",
       "      <td>55</td>\n",
       "      <td>t</td>\n",
       "      <td>aŋ</td>\n",
       "      <td>2</td>\n",
       "      <td>t</td>\n",
       "      <td>ong</td>\n",
       "    </tr>\n",
       "    <tr>\n",
       "      <td>613</td>\n",
       "      <td>粟</td>\n",
       "      <td>粟</td>\n",
       "      <td>21</td>\n",
       "      <td>tʰ</td>\n",
       "      <td>ek</td>\n",
       "      <td>4</td>\n",
       "      <td>s</td>\n",
       "      <td>u</td>\n",
       "    </tr>\n",
       "    <tr>\n",
       "      <td>206</td>\n",
       "      <td>活</td>\n",
       "      <td>活</td>\n",
       "      <td>4</td>\n",
       "      <td>u</td>\n",
       "      <td>aʔ</td>\n",
       "      <td>2</td>\n",
       "      <td>h</td>\n",
       "      <td>uo</td>\n",
       "    </tr>\n",
       "  </tbody>\n",
       "</table>\n",
       "</div>"
      ],
      "text/plain": [
       "    BENZI_IN_SOURCE_teo BENZI_man  citation_teo initial_teo final_teo  \\\n",
       "463                   年         年            55           n         i   \n",
       "76                    唔         唔            11                    m̩   \n",
       "360                   揲         揲             4           t       iap   \n",
       "25                    經         经            33           k        iŋ   \n",
       "775                   戴         戴           213           t         i   \n",
       "767                   浴         浴             4           e         k   \n",
       "490                   仁         仁            55           z        iŋ   \n",
       "215                   銅         铜            55           t        aŋ   \n",
       "613                   粟         粟            21          tʰ        ek   \n",
       "206                   活         活             4           u        aʔ   \n",
       "\n",
       "     citation_man initial_man final_man  \n",
       "463             2           n       ian  \n",
       "76              2           w         u  \n",
       "360             2          sh         e  \n",
       "25              1           j       ing  \n",
       "775             4           d        ai  \n",
       "767             4           y         v  \n",
       "490             2           r        en  \n",
       "215             2           t       ong  \n",
       "613             4           s         u  \n",
       "206             2           h        uo  "
      ]
     },
     "execution_count": 6,
     "metadata": {},
     "output_type": "execute_result"
    }
   ],
   "source": [
    "df.sample(10)"
   ]
  },
  {
   "cell_type": "code",
   "execution_count": 7,
   "metadata": {},
   "outputs": [
    {
     "data": {
      "text/plain": [
       "BENZI_IN_SOURCE_teo    object\n",
       "BENZI_man              object\n",
       "citation_teo           object\n",
       "initial_teo            object\n",
       "final_teo              object\n",
       "citation_man           object\n",
       "initial_man            object\n",
       "final_man              object\n",
       "dtype: object"
      ]
     },
     "execution_count": 7,
     "metadata": {},
     "output_type": "execute_result"
    }
   ],
   "source": [
    "df['citation_teo'] = df['citation_teo'].astype(str)\n",
    "df['citation_man'] = df['citation_man'].astype(str)\n",
    "df.dtypes"
   ]
  },
  {
   "cell_type": "markdown",
   "metadata": {},
   "source": [
    "### Regression Analysis"
   ]
  },
  {
   "cell_type": "code",
   "execution_count": 8,
   "metadata": {},
   "outputs": [],
   "source": [
    "# split into train test set \n",
    "from sklearn.model_selection import train_test_split\n",
    "\n",
    "mandarin_df = df[['citation_man', 'initial_man', 'final_man']].copy()\n",
    "teochew_df = df[['citation_teo', 'initial_teo', 'final_teo']].copy()\n",
    "\n",
    "train_x, test_x = train_test_split(mandarin_df, test_size=0.2, random_state=42)\n",
    "train_y, test_y = train_test_split(teochew_df, test_size=0.2, random_state=42)"
   ]
  },
  {
   "cell_type": "code",
   "execution_count": 9,
   "metadata": {},
   "outputs": [],
   "source": [
    "from sklearn.preprocessing import OneHotEncoder\n",
    "from sklearn.preprocessing import LabelEncoder\n",
    "\n",
    "# convert categorical values to one-hot encoding \n",
    "encX = OneHotEncoder(handle_unknown='ignore')\n",
    "X_train = encX.fit_transform(train_x).toarray()\n",
    "X_test = encX.transform(test_x).toarray()\n",
    "\n",
    "# LabelEncoder for Y \n",
    "encT = LabelEncoder()\n",
    "encI = LabelEncoder()\n",
    "encF = LabelEncoder()"
   ]
  },
  {
   "cell_type": "code",
   "execution_count": 10,
   "metadata": {},
   "outputs": [
    {
     "data": {
      "text/plain": [
       "LabelEncoder()"
      ]
     },
     "execution_count": 10,
     "metadata": {},
     "output_type": "execute_result"
    }
   ],
   "source": [
    "encT.fit(teochew_df['citation_teo'].values.tolist())\n",
    "encI.fit(teochew_df['initial_teo'].values.tolist())\n",
    "encF.fit(teochew_df['final_teo'].values.tolist())"
   ]
  },
  {
   "cell_type": "code",
   "execution_count": 11,
   "metadata": {},
   "outputs": [],
   "source": [
    "Y_train_tone = encT.transform(train_y['citation_teo'].values.tolist())\n",
    "Y_train_initial = encI.transform(train_y['initial_teo'].values.tolist())\n",
    "Y_train_final = encF.transform(train_y['final_teo'].values.tolist())\n",
    "\n",
    "Y_test_tone = encT.transform(test_y['citation_teo'].values.tolist())\n",
    "Y_test_initial = encI.transform(test_y['initial_teo'].values.tolist())\n",
    "Y_test_final = encF.transform(test_y['final_teo'].values.tolist())"
   ]
  },
  {
   "cell_type": "code",
   "execution_count": 12,
   "metadata": {},
   "outputs": [
    {
     "data": {
      "text/plain": [
       "((640,), (161,))"
      ]
     },
     "execution_count": 12,
     "metadata": {},
     "output_type": "execute_result"
    }
   ],
   "source": [
    "Y_train_tone.shape, Y_test_tone.shape"
   ]
  },
  {
   "cell_type": "code",
   "execution_count": 14,
   "metadata": {},
   "outputs": [],
   "source": [
    "# handles train\n",
    "man_tone_unique = mandarin_df['citation_man'].nunique()\n",
    "\n",
    "man_initial_unique = mandarin_df['initial_man'].nunique()\n",
    "\n",
    "man_final_unique = mandarin_df['final_man'].nunique()\n",
    "\n",
    "man_unique = mandarin_df['citation_man'].nunique() + \\\n",
    "mandarin_df['initial_man'].nunique() + mandarin_df['final_man'].nunique()"
   ]
  },
  {
   "cell_type": "code",
   "execution_count": 15,
   "metadata": {},
   "outputs": [],
   "source": [
    "def slice_idx(model, start, end):\n",
    "    return model[:, start:end]\n",
    "\n",
    "# handles train\n",
    "X_train_tone = slice_idx(X_train, 0, man_tone_unique)\n",
    "X_train_initial = slice_idx(X_train, man_tone_unique, man_tone_unique+man_initial_unique)\n",
    "X_train_final = slice_idx(X_train, man_tone_unique+man_initial_unique, man_unique)\n",
    "\n",
    "# handles test \n",
    "X_test_tone = slice_idx(X_test, 0, man_tone_unique)\n",
    "X_test_initial = slice_idx(X_test, man_tone_unique, man_tone_unique+man_initial_unique)\n",
    "X_test_final = slice_idx(X_test, man_tone_unique+man_initial_unique, man_unique)"
   ]
  },
  {
   "cell_type": "code",
   "execution_count": 16,
   "metadata": {},
   "outputs": [],
   "source": [
    "#from sklearn.svm import LinearSVC\n",
    "from sklearn.ensemble import RandomForestClassifier\n",
    "\n",
    "chains = [RandomForestClassifier(n_estimators=100, max_samples=0.6) for i in range(3)]\n",
    "\n",
    "train_models = [X_train_tone,Y_train_tone,\n",
    "                X_train_initial,Y_train_initial,\n",
    "                X_train_final,Y_train_final]\n",
    "\n",
    "for idx, chain in enumerate(chains):\n",
    "    chain.fit(train_models[2*idx], train_models[2*idx+1])\n",
    "\n",
    "pred_tone = np.array(chains[0].predict(X_test_tone))\n",
    "pred_initial = np.array(chains[1].predict(X_test_initial))\n",
    "pred_final = np.array(chains[2].predict(X_test_final))"
   ]
  },
  {
   "cell_type": "code",
   "execution_count": 17,
   "metadata": {},
   "outputs": [
    {
     "data": {
      "text/plain": [
       "((161,), (161,), (161,))"
      ]
     },
     "execution_count": 17,
     "metadata": {},
     "output_type": "execute_result"
    }
   ],
   "source": [
    "pred_tone.shape, pred_initial.shape, pred_final.shape"
   ]
  },
  {
   "cell_type": "code",
   "execution_count": 18,
   "metadata": {},
   "outputs": [],
   "source": [
    "pred_tone_df = encT.inverse_transform(pred_tone)\n",
    "pred_initial_df = encI.inverse_transform(pred_initial)\n",
    "pred_final_df = encF.inverse_transform(pred_final)"
   ]
  },
  {
   "cell_type": "code",
   "execution_count": 19,
   "metadata": {},
   "outputs": [],
   "source": [
    "pred_df = np.column_stack((pred_tone_df.T, pred_initial_df.T, pred_final_df.T))\n",
    "#len(pred_tone_df), len(pred_initial_df), len(pred_final_df), pred_tone.shape"
   ]
  },
  {
   "cell_type": "code",
   "execution_count": 20,
   "metadata": {},
   "outputs": [],
   "source": [
    "test_tone_df = encT.inverse_transform(Y_test_tone)\n",
    "test_initial_df = encI.inverse_transform(Y_test_initial)\n",
    "test_final_df = encF.inverse_transform(Y_test_final)\n",
    "\n",
    "test_df = np.column_stack((test_tone_df.T, test_initial_df.T, test_final_df.T))"
   ]
  },
  {
   "cell_type": "code",
   "execution_count": 21,
   "metadata": {},
   "outputs": [
    {
     "name": "stdout",
     "output_type": "stream",
     "text": [
      "91 99 49\n"
     ]
    }
   ],
   "source": [
    "results = np.sum(pred_df==test_df, axis=0)\n",
    "print(results[0], results[1], results[2])"
   ]
  },
  {
   "cell_type": "code",
   "execution_count": 22,
   "metadata": {},
   "outputs": [
    {
     "name": "stdout",
     "output_type": "stream",
     "text": [
      "accuracy for tones prediction: 56.52173913043478%\n",
      "accuracy for initials prediction: 61.49068322981367%\n",
      "accuracy for finals prediction: 30.434782608695656%\n"
     ]
    }
   ],
   "source": [
    "# Accuracy for teochew_tones, teochew_initials, and teochew_finals \n",
    "print('accuracy for tones prediction: {}%'.format(results[0]/pred_tone.shape[0]*100))\n",
    "print('accuracy for initials prediction: {}%'.format(results[1]/pred_initial.shape[0]*100))\n",
    "print('accuracy for finals prediction: {}%'.format(results[2]/pred_final.shape[0]*100))"
   ]
  },
  {
   "cell_type": "code",
   "execution_count": 23,
   "metadata": {},
   "outputs": [],
   "source": [
    "cols = [['citation', 'initial', 'final', 'pred_citation', 'pred_initial', 'pred_final']]\n",
    "result_df = pd.DataFrame(np.concatenate([test_df, pred_df], axis=1), columns=cols)"
   ]
  },
  {
   "cell_type": "code",
   "execution_count": 29,
   "metadata": {},
   "outputs": [
    {
     "data": {
      "text/html": [
       "<div>\n",
       "<style scoped>\n",
       "    .dataframe tbody tr th:only-of-type {\n",
       "        vertical-align: middle;\n",
       "    }\n",
       "\n",
       "    .dataframe tbody tr th {\n",
       "        vertical-align: top;\n",
       "    }\n",
       "\n",
       "    .dataframe thead th {\n",
       "        text-align: right;\n",
       "    }\n",
       "</style>\n",
       "<table border=\"1\" class=\"dataframe\">\n",
       "  <thead>\n",
       "    <tr style=\"text-align: right;\">\n",
       "      <th></th>\n",
       "      <th>citation</th>\n",
       "      <th>initial</th>\n",
       "      <th>final</th>\n",
       "      <th>pred_citation</th>\n",
       "      <th>pred_initial</th>\n",
       "      <th>pred_final</th>\n",
       "    </tr>\n",
       "  </thead>\n",
       "  <tbody>\n",
       "    <tr>\n",
       "      <td>53</td>\n",
       "      <td>213</td>\n",
       "      <td>tʰ</td>\n",
       "      <td>o</td>\n",
       "      <td>213</td>\n",
       "      <td>tʰ</td>\n",
       "      <td>ui</td>\n",
       "    </tr>\n",
       "    <tr>\n",
       "      <td>114</td>\n",
       "      <td>33</td>\n",
       "      <td>t</td>\n",
       "      <td>oŋ</td>\n",
       "      <td>33</td>\n",
       "      <td>ts</td>\n",
       "      <td>aŋ</td>\n",
       "    </tr>\n",
       "    <tr>\n",
       "      <td>27</td>\n",
       "      <td>213</td>\n",
       "      <td>h</td>\n",
       "      <td>am</td>\n",
       "      <td>53</td>\n",
       "      <td>h</td>\n",
       "      <td>ũã∼</td>\n",
       "    </tr>\n",
       "    <tr>\n",
       "      <td>86</td>\n",
       "      <td>55</td>\n",
       "      <td>l</td>\n",
       "      <td>aŋ</td>\n",
       "      <td>55</td>\n",
       "      <td>l</td>\n",
       "      <td>ɯŋ</td>\n",
       "    </tr>\n",
       "    <tr>\n",
       "      <td>139</td>\n",
       "      <td>213</td>\n",
       "      <td>k</td>\n",
       "      <td>ai</td>\n",
       "      <td>213</td>\n",
       "      <td>k</td>\n",
       "      <td>ai</td>\n",
       "    </tr>\n",
       "    <tr>\n",
       "      <td>8</td>\n",
       "      <td>33</td>\n",
       "      <td>p</td>\n",
       "      <td>aŋ</td>\n",
       "      <td>33</td>\n",
       "      <td>p</td>\n",
       "      <td>ɯŋ</td>\n",
       "    </tr>\n",
       "    <tr>\n",
       "      <td>96</td>\n",
       "      <td>213</td>\n",
       "      <td>ts</td>\n",
       "      <td>iu</td>\n",
       "      <td>213</td>\n",
       "      <td>ts</td>\n",
       "      <td>au</td>\n",
       "    </tr>\n",
       "    <tr>\n",
       "      <td>70</td>\n",
       "      <td>35</td>\n",
       "      <td>kʰ</td>\n",
       "      <td>ia</td>\n",
       "      <td>53</td>\n",
       "      <td>kʰ</td>\n",
       "      <td>i</td>\n",
       "    </tr>\n",
       "    <tr>\n",
       "      <td>67</td>\n",
       "      <td>55</td>\n",
       "      <td>s</td>\n",
       "      <td>ai</td>\n",
       "      <td>55</td>\n",
       "      <td>tsʰ</td>\n",
       "      <td>ai</td>\n",
       "    </tr>\n",
       "    <tr>\n",
       "      <td>23</td>\n",
       "      <td>53</td>\n",
       "      <td>h</td>\n",
       "      <td>ɯ</td>\n",
       "      <td>53</td>\n",
       "      <td>s</td>\n",
       "      <td>ɯ</td>\n",
       "    </tr>\n",
       "    <tr>\n",
       "      <td>40</td>\n",
       "      <td>53</td>\n",
       "      <td>k</td>\n",
       "      <td>ue</td>\n",
       "      <td>53</td>\n",
       "      <td>k</td>\n",
       "      <td>o</td>\n",
       "    </tr>\n",
       "    <tr>\n",
       "      <td>0</td>\n",
       "      <td>11</td>\n",
       "      <td>ã</td>\n",
       "      <td>∼</td>\n",
       "      <td>213</td>\n",
       "      <td>s</td>\n",
       "      <td>iəm</td>\n",
       "    </tr>\n",
       "    <tr>\n",
       "      <td>28</td>\n",
       "      <td>4</td>\n",
       "      <td>p</td>\n",
       "      <td>oiʔ</td>\n",
       "      <td>55</td>\n",
       "      <td>p</td>\n",
       "      <td>e</td>\n",
       "    </tr>\n",
       "    <tr>\n",
       "      <td>59</td>\n",
       "      <td>53</td>\n",
       "      <td>ĩ</td>\n",
       "      <td>∼</td>\n",
       "      <td>53</td>\n",
       "      <td>i</td>\n",
       "      <td>i</td>\n",
       "    </tr>\n",
       "    <tr>\n",
       "      <td>46</td>\n",
       "      <td>213</td>\n",
       "      <td>tʰ</td>\n",
       "      <td>ɯŋ</td>\n",
       "      <td>213</td>\n",
       "      <td>tʰ</td>\n",
       "      <td>ɯŋ</td>\n",
       "    </tr>\n",
       "    <tr>\n",
       "      <td>32</td>\n",
       "      <td>21</td>\n",
       "      <td>tʰ</td>\n",
       "      <td>ik</td>\n",
       "      <td>33</td>\n",
       "      <td>tʰ</td>\n",
       "      <td>i</td>\n",
       "    </tr>\n",
       "    <tr>\n",
       "      <td>126</td>\n",
       "      <td>55</td>\n",
       "      <td>m</td>\n",
       "      <td>oŋ</td>\n",
       "      <td>33</td>\n",
       "      <td>m</td>\n",
       "      <td>ak</td>\n",
       "    </tr>\n",
       "    <tr>\n",
       "      <td>29</td>\n",
       "      <td>53</td>\n",
       "      <td>b</td>\n",
       "      <td>e</td>\n",
       "      <td>53</td>\n",
       "      <td>m</td>\n",
       "      <td>e</td>\n",
       "    </tr>\n",
       "    <tr>\n",
       "      <td>119</td>\n",
       "      <td>21</td>\n",
       "      <td>ts</td>\n",
       "      <td>oʔ</td>\n",
       "      <td>213</td>\n",
       "      <td>ts</td>\n",
       "      <td>o</td>\n",
       "    </tr>\n",
       "    <tr>\n",
       "      <td>17</td>\n",
       "      <td>53</td>\n",
       "      <td>h</td>\n",
       "      <td>o</td>\n",
       "      <td>53</td>\n",
       "      <td>h</td>\n",
       "      <td>o</td>\n",
       "    </tr>\n",
       "    <tr>\n",
       "      <td>44</td>\n",
       "      <td>21</td>\n",
       "      <td>pʰ</td>\n",
       "      <td>uaʔ</td>\n",
       "      <td>33</td>\n",
       "      <td>pʰ</td>\n",
       "      <td>ak</td>\n",
       "    </tr>\n",
       "    <tr>\n",
       "      <td>68</td>\n",
       "      <td>33</td>\n",
       "      <td>s</td>\n",
       "      <td>iu</td>\n",
       "      <td>33</td>\n",
       "      <td>s</td>\n",
       "      <td>au</td>\n",
       "    </tr>\n",
       "    <tr>\n",
       "      <td>15</td>\n",
       "      <td>33</td>\n",
       "      <td>s</td>\n",
       "      <td>ie</td>\n",
       "      <td>33</td>\n",
       "      <td>s</td>\n",
       "      <td>o</td>\n",
       "    </tr>\n",
       "    <tr>\n",
       "      <td>39</td>\n",
       "      <td>35</td>\n",
       "      <td>kʰ</td>\n",
       "      <td>eŋ</td>\n",
       "      <td>55</td>\n",
       "      <td>h</td>\n",
       "      <td>aŋ</td>\n",
       "    </tr>\n",
       "    <tr>\n",
       "      <td>159</td>\n",
       "      <td>55</td>\n",
       "      <td>h</td>\n",
       "      <td>u</td>\n",
       "      <td>55</td>\n",
       "      <td>h</td>\n",
       "      <td>ou</td>\n",
       "    </tr>\n",
       "    <tr>\n",
       "      <td>42</td>\n",
       "      <td>35</td>\n",
       "      <td>k</td>\n",
       "      <td>au</td>\n",
       "      <td>213</td>\n",
       "      <td>h</td>\n",
       "      <td>au</td>\n",
       "    </tr>\n",
       "    <tr>\n",
       "      <td>131</td>\n",
       "      <td>33</td>\n",
       "      <td>s</td>\n",
       "      <td>ẽ∼</td>\n",
       "      <td>33</td>\n",
       "      <td>s</td>\n",
       "      <td>aŋ</td>\n",
       "    </tr>\n",
       "    <tr>\n",
       "      <td>4</td>\n",
       "      <td>4</td>\n",
       "      <td>kʰ</td>\n",
       "      <td>ak</td>\n",
       "      <td>55</td>\n",
       "      <td>kʰ</td>\n",
       "      <td>o</td>\n",
       "    </tr>\n",
       "    <tr>\n",
       "      <td>160</td>\n",
       "      <td>4</td>\n",
       "      <td>m</td>\n",
       "      <td>uəʔ</td>\n",
       "      <td>213</td>\n",
       "      <td>b</td>\n",
       "      <td>ou</td>\n",
       "    </tr>\n",
       "    <tr>\n",
       "      <td>12</td>\n",
       "      <td>21</td>\n",
       "      <td>s</td>\n",
       "      <td>uk</td>\n",
       "      <td>213</td>\n",
       "      <td>s</td>\n",
       "      <td>ɯ</td>\n",
       "    </tr>\n",
       "  </tbody>\n",
       "</table>\n",
       "</div>"
      ],
      "text/plain": [
       "    citation initial final pred_citation pred_initial pred_final\n",
       "53       213      tʰ     o           213           tʰ         ui\n",
       "114       33       t    oŋ            33           ts         aŋ\n",
       "27       213       h    am            53            h        ũã∼\n",
       "86        55       l    aŋ            55            l         ɯŋ\n",
       "139      213       k    ai           213            k         ai\n",
       "8         33       p    aŋ            33            p         ɯŋ\n",
       "96       213      ts    iu           213           ts         au\n",
       "70        35      kʰ    ia            53           kʰ          i\n",
       "67        55       s    ai            55          tsʰ         ai\n",
       "23        53       h     ɯ            53            s          ɯ\n",
       "40        53       k    ue            53            k          o\n",
       "0         11       ã     ∼           213            s        iəm\n",
       "28         4       p   oiʔ            55            p          e\n",
       "59        53       ĩ     ∼            53            i          i\n",
       "46       213      tʰ    ɯŋ           213           tʰ         ɯŋ\n",
       "32        21      tʰ    ik            33           tʰ          i\n",
       "126       55       m    oŋ            33            m         ak\n",
       "29        53       b     e            53            m          e\n",
       "119       21      ts    oʔ           213           ts          o\n",
       "17        53       h     o            53            h          o\n",
       "44        21      pʰ   uaʔ            33           pʰ         ak\n",
       "68        33       s    iu            33            s         au\n",
       "15        33       s    ie            33            s          o\n",
       "39        35      kʰ    eŋ            55            h         aŋ\n",
       "159       55       h     u            55            h         ou\n",
       "42        35       k    au           213            h         au\n",
       "131       33       s    ẽ∼            33            s         aŋ\n",
       "4          4      kʰ    ak            55           kʰ          o\n",
       "160        4       m   uəʔ           213            b         ou\n",
       "12        21       s    uk           213            s          ɯ"
      ]
     },
     "execution_count": 29,
     "metadata": {},
     "output_type": "execute_result"
    }
   ],
   "source": [
    "result_df.sample(30)"
   ]
  },
  {
   "cell_type": "code",
   "execution_count": 25,
   "metadata": {},
   "outputs": [
    {
     "data": {
      "text/plain": [
       "Index(['citation', 'initial', 'final', 'pred_citation', 'pred_initial',\n",
       "       'pred_final'],\n",
       "      dtype='object')"
      ]
     },
     "execution_count": 25,
     "metadata": {},
     "output_type": "execute_result"
    }
   ],
   "source": [
    "result_df.columns = ['citation','initial','final',\n",
    "                     'pred_citation','pred_initial','pred_final']\n",
    "result_df.columns"
   ]
  },
  {
   "cell_type": "code",
   "execution_count": 26,
   "metadata": {},
   "outputs": [
    {
     "data": {
      "text/plain": [
       "citation         25\n",
       "initial          25\n",
       "final            25\n",
       "pred_citation    25\n",
       "pred_initial     25\n",
       "pred_final       25\n",
       "dtype: int64"
      ]
     },
     "execution_count": 26,
     "metadata": {},
     "output_type": "execute_result"
    }
   ],
   "source": [
    "result_df[(result_df['citation']==result_df['pred_citation'])\n",
    "          &(result_df['initial']==result_df['pred_initial'])\n",
    "          &(result_df['final']==result_df['pred_final'])].count()"
   ]
  },
  {
   "cell_type": "code",
   "execution_count": 27,
   "metadata": {},
   "outputs": [
    {
     "data": {
      "text/plain": [
       "15.527950310559005"
      ]
     },
     "execution_count": 27,
     "metadata": {},
     "output_type": "execute_result"
    }
   ],
   "source": [
    "# harsh metrics, when all three predictions are equal \n",
    "25/pred_tone.shape[0]*100"
   ]
  }
 ],
 "metadata": {
  "kernelspec": {
   "display_name": "Python 3",
   "language": "python",
   "name": "python3"
  },
  "language_info": {
   "codemirror_mode": {
    "name": "ipython",
    "version": 3
   },
   "file_extension": ".py",
   "mimetype": "text/x-python",
   "name": "python",
   "nbconvert_exporter": "python",
   "pygments_lexer": "ipython3",
   "version": "3.7.4"
  }
 },
 "nbformat": 4,
 "nbformat_minor": 2
}
