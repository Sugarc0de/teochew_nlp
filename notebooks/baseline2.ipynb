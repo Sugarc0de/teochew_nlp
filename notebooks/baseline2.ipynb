{
 "cells": [
  {
   "cell_type": "code",
   "execution_count": 1,
   "metadata": {},
   "outputs": [],
   "source": [
    "import pandas as pd\n",
    "import numpy as np \n",
    "%matplotlib inline"
   ]
  },
  {
   "cell_type": "code",
   "execution_count": 2,
   "metadata": {},
   "outputs": [],
   "source": [
    "data_dir = '../data/clean_data/'"
   ]
  },
  {
   "cell_type": "code",
   "execution_count": 3,
   "metadata": {},
   "outputs": [
    {
     "data": {
      "text/html": [
       "<div>\n",
       "<style scoped>\n",
       "    .dataframe tbody tr th:only-of-type {\n",
       "        vertical-align: middle;\n",
       "    }\n",
       "\n",
       "    .dataframe tbody tr th {\n",
       "        vertical-align: top;\n",
       "    }\n",
       "\n",
       "    .dataframe thead th {\n",
       "        text-align: right;\n",
       "    }\n",
       "</style>\n",
       "<table border=\"1\" class=\"dataframe\">\n",
       "  <thead>\n",
       "    <tr style=\"text-align: right;\">\n",
       "      <th></th>\n",
       "      <th>BENZI_IN_SOURCE_teo</th>\n",
       "      <th>BENZI_man</th>\n",
       "      <th>citation_teo</th>\n",
       "      <th>initial_teo</th>\n",
       "      <th>final_teo</th>\n",
       "      <th>citation_man</th>\n",
       "      <th>initial_man</th>\n",
       "      <th>final_man</th>\n",
       "    </tr>\n",
       "  </thead>\n",
       "  <tbody>\n",
       "    <tr>\n",
       "      <td>0</td>\n",
       "      <td>三</td>\n",
       "      <td>三</td>\n",
       "      <td>33</td>\n",
       "      <td>s</td>\n",
       "      <td>['ã', '∼']</td>\n",
       "      <td>1</td>\n",
       "      <td>s</td>\n",
       "      <td>an</td>\n",
       "    </tr>\n",
       "    <tr>\n",
       "      <td>1</td>\n",
       "      <td>十</td>\n",
       "      <td>十</td>\n",
       "      <td>4</td>\n",
       "      <td>ts</td>\n",
       "      <td>['a', 'p']</td>\n",
       "      <td>2</td>\n",
       "      <td>sh</td>\n",
       "      <td>i</td>\n",
       "    </tr>\n",
       "    <tr>\n",
       "      <td>2</td>\n",
       "      <td>夜</td>\n",
       "      <td>夜</td>\n",
       "      <td>55</td>\n",
       "      <td>m</td>\n",
       "      <td>['e']</td>\n",
       "      <td>4</td>\n",
       "      <td>y</td>\n",
       "      <td>e</td>\n",
       "    </tr>\n",
       "    <tr>\n",
       "      <td>3</td>\n",
       "      <td>我</td>\n",
       "      <td>我</td>\n",
       "      <td>53</td>\n",
       "      <td>u</td>\n",
       "      <td>['a']</td>\n",
       "      <td>3</td>\n",
       "      <td>w</td>\n",
       "      <td>o</td>\n",
       "    </tr>\n",
       "    <tr>\n",
       "      <td>4</td>\n",
       "      <td>裌</td>\n",
       "      <td>裌</td>\n",
       "      <td>21</td>\n",
       "      <td>k</td>\n",
       "      <td>['o', 'i', 'ʔ']</td>\n",
       "      <td>2</td>\n",
       "      <td>j</td>\n",
       "      <td>ia</td>\n",
       "    </tr>\n",
       "  </tbody>\n",
       "</table>\n",
       "</div>"
      ],
      "text/plain": [
       "  BENZI_IN_SOURCE_teo BENZI_man  citation_teo initial_teo        final_teo  \\\n",
       "0                   三         三            33           s       ['ã', '∼']   \n",
       "1                   十         十             4          ts       ['a', 'p']   \n",
       "2                   夜         夜            55           m            ['e']   \n",
       "3                   我         我            53           u            ['a']   \n",
       "4                   裌         裌            21           k  ['o', 'i', 'ʔ']   \n",
       "\n",
       "   citation_man initial_man final_man  \n",
       "0             1           s        an  \n",
       "1             2          sh         i  \n",
       "2             4           y         e  \n",
       "3             3           w         o  \n",
       "4             2           j        ia  "
      ]
     },
     "execution_count": 3,
     "metadata": {},
     "output_type": "execute_result"
    }
   ],
   "source": [
    "data = pd.read_csv(data_dir+'model_input.csv')\n",
    "data.head()"
   ]
  },
  {
   "cell_type": "markdown",
   "metadata": {},
   "source": [
    "### Explore the Sparsity in Data "
   ]
  },
  {
   "cell_type": "code",
   "execution_count": 4,
   "metadata": {},
   "outputs": [
    {
     "data": {
      "text/plain": [
       "['i']              57\n",
       "['a', 'ŋ']         35\n",
       "['o']              33\n",
       "['ɯ', 'ŋ']         32\n",
       "['o', 'u']         30\n",
       "                   ..\n",
       "['p']               1\n",
       "['i', 'e', 'm']     1\n",
       "['i', 'e', 'k']     1\n",
       "['ɯ', 'ŋ̍']         1\n",
       "['ũ', 'ĩ', '∼']     1\n",
       "Name: final_teo, Length: 83, dtype: int64"
      ]
     },
     "execution_count": 4,
     "metadata": {},
     "output_type": "execute_result"
    }
   ],
   "source": [
    "# the first 30 items has frequency greater than 10 \n",
    "# the last 21 items has only appear once in the dataset\n",
    "data['final_teo'].value_counts()"
   ]
  },
  {
   "cell_type": "markdown",
   "metadata": {},
   "source": [
    "import ast\n",
    "data[['final_teo1', 'final_teo2', 'final_teo3']] = \\\n",
    "data['final_teo'].apply(lambda x: pd.Series(ast.literal_eval(x)+[\"\"]*(3-len(x))))"
   ]
  },
  {
   "cell_type": "code",
   "execution_count": 5,
   "metadata": {},
   "outputs": [
    {
     "data": {
      "text/html": [
       "<div>\n",
       "<style scoped>\n",
       "    .dataframe tbody tr th:only-of-type {\n",
       "        vertical-align: middle;\n",
       "    }\n",
       "\n",
       "    .dataframe tbody tr th {\n",
       "        vertical-align: top;\n",
       "    }\n",
       "\n",
       "    .dataframe thead th {\n",
       "        text-align: right;\n",
       "    }\n",
       "</style>\n",
       "<table border=\"1\" class=\"dataframe\">\n",
       "  <thead>\n",
       "    <tr style=\"text-align: right;\">\n",
       "      <th></th>\n",
       "      <th>BENZI_IN_SOURCE_teo</th>\n",
       "      <th>BENZI_man</th>\n",
       "      <th>citation_teo</th>\n",
       "      <th>initial_teo</th>\n",
       "      <th>final_teo</th>\n",
       "      <th>citation_man</th>\n",
       "      <th>initial_man</th>\n",
       "      <th>final_man</th>\n",
       "    </tr>\n",
       "  </thead>\n",
       "  <tbody>\n",
       "  </tbody>\n",
       "</table>\n",
       "</div>"
      ],
      "text/plain": [
       "Empty DataFrame\n",
       "Columns: [BENZI_IN_SOURCE_teo, BENZI_man, citation_teo, initial_teo, final_teo, citation_man, initial_man, final_man]\n",
       "Index: []"
      ]
     },
     "execution_count": 5,
     "metadata": {},
     "output_type": "execute_result"
    }
   ],
   "source": [
    "import ast \n",
    "data['final_teo'] = data['final_teo'].apply(lambda x: \"\".join(ast.literal_eval(x)))\n",
    "df = data.fillna(value=' ', axis=1)\n",
    "df[df['initial_man'].isnull()]"
   ]
  },
  {
   "cell_type": "code",
   "execution_count": 6,
   "metadata": {},
   "outputs": [
    {
     "data": {
      "text/html": [
       "<div>\n",
       "<style scoped>\n",
       "    .dataframe tbody tr th:only-of-type {\n",
       "        vertical-align: middle;\n",
       "    }\n",
       "\n",
       "    .dataframe tbody tr th {\n",
       "        vertical-align: top;\n",
       "    }\n",
       "\n",
       "    .dataframe thead th {\n",
       "        text-align: right;\n",
       "    }\n",
       "</style>\n",
       "<table border=\"1\" class=\"dataframe\">\n",
       "  <thead>\n",
       "    <tr style=\"text-align: right;\">\n",
       "      <th></th>\n",
       "      <th>BENZI_IN_SOURCE_teo</th>\n",
       "      <th>BENZI_man</th>\n",
       "      <th>citation_teo</th>\n",
       "      <th>initial_teo</th>\n",
       "      <th>final_teo</th>\n",
       "      <th>citation_man</th>\n",
       "      <th>initial_man</th>\n",
       "      <th>final_man</th>\n",
       "    </tr>\n",
       "  </thead>\n",
       "  <tbody>\n",
       "    <tr>\n",
       "      <td>231</td>\n",
       "      <td>熱</td>\n",
       "      <td>热</td>\n",
       "      <td>4</td>\n",
       "      <td>z</td>\n",
       "      <td>iek</td>\n",
       "      <td>4</td>\n",
       "      <td>r</td>\n",
       "      <td>e</td>\n",
       "    </tr>\n",
       "    <tr>\n",
       "      <td>736</td>\n",
       "      <td>漸</td>\n",
       "      <td>渐</td>\n",
       "      <td>53</td>\n",
       "      <td>ts</td>\n",
       "      <td>iəm</td>\n",
       "      <td>4</td>\n",
       "      <td>j</td>\n",
       "      <td>ian</td>\n",
       "    </tr>\n",
       "    <tr>\n",
       "      <td>538</td>\n",
       "      <td>簿</td>\n",
       "      <td>簿</td>\n",
       "      <td>35</td>\n",
       "      <td>pʰ</td>\n",
       "      <td>ou</td>\n",
       "      <td>4</td>\n",
       "      <td>b</td>\n",
       "      <td>u</td>\n",
       "    </tr>\n",
       "    <tr>\n",
       "      <td>140</td>\n",
       "      <td>叫</td>\n",
       "      <td>叫</td>\n",
       "      <td>213</td>\n",
       "      <td>k</td>\n",
       "      <td>ie</td>\n",
       "      <td>4</td>\n",
       "      <td>j</td>\n",
       "      <td>iao</td>\n",
       "    </tr>\n",
       "    <tr>\n",
       "      <td>786</td>\n",
       "      <td>拭</td>\n",
       "      <td>拭</td>\n",
       "      <td>21</td>\n",
       "      <td>tsʰ</td>\n",
       "      <td>ik</td>\n",
       "      <td>4</td>\n",
       "      <td>sh</td>\n",
       "      <td>i</td>\n",
       "    </tr>\n",
       "    <tr>\n",
       "      <td>548</td>\n",
       "      <td>雙</td>\n",
       "      <td>双</td>\n",
       "      <td>33</td>\n",
       "      <td>s</td>\n",
       "      <td>aŋ</td>\n",
       "      <td>1</td>\n",
       "      <td>sh</td>\n",
       "      <td>uang</td>\n",
       "    </tr>\n",
       "    <tr>\n",
       "      <td>639</td>\n",
       "      <td>蝦</td>\n",
       "      <td>虾</td>\n",
       "      <td>55</td>\n",
       "      <td>h</td>\n",
       "      <td>e</td>\n",
       "      <td>1</td>\n",
       "      <td>x</td>\n",
       "      <td>ia</td>\n",
       "    </tr>\n",
       "    <tr>\n",
       "      <td>157</td>\n",
       "      <td>牲</td>\n",
       "      <td>牲</td>\n",
       "      <td>33</td>\n",
       "      <td>s</td>\n",
       "      <td>ẽ∼</td>\n",
       "      <td>1</td>\n",
       "      <td>sh</td>\n",
       "      <td>eng</td>\n",
       "    </tr>\n",
       "    <tr>\n",
       "      <td>287</td>\n",
       "      <td>茄</td>\n",
       "      <td>茄</td>\n",
       "      <td>55</td>\n",
       "      <td>k</td>\n",
       "      <td>ie</td>\n",
       "      <td>2</td>\n",
       "      <td>q</td>\n",
       "      <td>ie</td>\n",
       "    </tr>\n",
       "    <tr>\n",
       "      <td>729</td>\n",
       "      <td>飮</td>\n",
       "      <td>飮</td>\n",
       "      <td>53</td>\n",
       "      <td>a</td>\n",
       "      <td>m</td>\n",
       "      <td>3</td>\n",
       "      <td>y</td>\n",
       "      <td>in</td>\n",
       "    </tr>\n",
       "  </tbody>\n",
       "</table>\n",
       "</div>"
      ],
      "text/plain": [
       "    BENZI_IN_SOURCE_teo BENZI_man  citation_teo initial_teo final_teo  \\\n",
       "231                   熱         热             4           z       iek   \n",
       "736                   漸         渐            53          ts       iəm   \n",
       "538                   簿         簿            35          pʰ        ou   \n",
       "140                   叫         叫           213           k        ie   \n",
       "786                   拭         拭            21         tsʰ        ik   \n",
       "548                   雙         双            33           s        aŋ   \n",
       "639                   蝦         虾            55           h         e   \n",
       "157                   牲         牲            33           s        ẽ∼   \n",
       "287                   茄         茄            55           k        ie   \n",
       "729                   飮         飮            53           a         m   \n",
       "\n",
       "     citation_man initial_man final_man  \n",
       "231             4           r         e  \n",
       "736             4           j       ian  \n",
       "538             4           b         u  \n",
       "140             4           j       iao  \n",
       "786             4          sh         i  \n",
       "548             1          sh      uang  \n",
       "639             1           x        ia  \n",
       "157             1          sh       eng  \n",
       "287             2           q        ie  \n",
       "729             3           y        in  "
      ]
     },
     "execution_count": 6,
     "metadata": {},
     "output_type": "execute_result"
    }
   ],
   "source": [
    "df.sample(10)"
   ]
  },
  {
   "cell_type": "code",
   "execution_count": 7,
   "metadata": {},
   "outputs": [
    {
     "data": {
      "text/plain": [
       "BENZI_IN_SOURCE_teo    object\n",
       "BENZI_man              object\n",
       "citation_teo           object\n",
       "initial_teo            object\n",
       "final_teo              object\n",
       "citation_man           object\n",
       "initial_man            object\n",
       "final_man              object\n",
       "dtype: object"
      ]
     },
     "execution_count": 7,
     "metadata": {},
     "output_type": "execute_result"
    }
   ],
   "source": [
    "df['citation_teo'] = df['citation_teo'].astype(str)\n",
    "df['citation_man'] = df['citation_man'].astype(str)\n",
    "df.dtypes"
   ]
  },
  {
   "cell_type": "markdown",
   "metadata": {},
   "source": [
    "### Regression Analysis"
   ]
  },
  {
   "cell_type": "code",
   "execution_count": 8,
   "metadata": {},
   "outputs": [],
   "source": [
    "# split into train test set \n",
    "from sklearn.model_selection import train_test_split\n",
    "\n",
    "mandarin_df = df[['citation_man', 'initial_man', 'final_man']].copy()\n",
    "teochew_df = df[['citation_teo', 'initial_teo', 'final_teo']].copy()\n",
    "\n",
    "train_x, test_x = train_test_split(mandarin_df, test_size=0.2, random_state=42)\n",
    "train_y, test_y = train_test_split(teochew_df, test_size=0.2, random_state=42)"
   ]
  },
  {
   "cell_type": "code",
   "execution_count": 9,
   "metadata": {},
   "outputs": [],
   "source": [
    "from sklearn.preprocessing import OneHotEncoder\n",
    "\n",
    "# convert categorical values to one-hot encoding \n",
    "encX = OneHotEncoder(handle_unknown='ignore')\n",
    "X_train = encX.fit_transform(train_x).toarray()\n",
    "X_test = encX.transform(test_x).toarray()\n",
    "\n",
    "encY = OneHotEncoder(handle_unknown='ignore')\n",
    "Y_train = encY.fit_transform(train_y).toarray()\n",
    "Y_test = encY.transform(test_y).toarray()"
   ]
  },
  {
   "cell_type": "code",
   "execution_count": 10,
   "metadata": {},
   "outputs": [
    {
     "data": {
      "text/plain": [
       "((640, 107), (161, 107))"
      ]
     },
     "execution_count": 10,
     "metadata": {},
     "output_type": "execute_result"
    }
   ],
   "source": [
    "Y_train.shape, Y_test.shape"
   ]
  },
  {
   "cell_type": "code",
   "execution_count": 11,
   "metadata": {},
   "outputs": [],
   "source": [
    "# handles train\n",
    "man_tone_unique = mandarin_df['citation_man'].nunique()\n",
    "teo_tone_unique = teochew_df['citation_teo'].nunique()\n",
    "\n",
    "man_initial_unique = mandarin_df['initial_man'].nunique()\n",
    "teo_initial_unique = teochew_df['initial_teo'].nunique()\n",
    "\n",
    "man_final_unique = mandarin_df['final_man'].nunique()\n",
    "teo_final_unique = teochew_df['final_teo'].nunique()\n",
    "\n",
    "man_unique = mandarin_df['citation_man'].nunique() + \\\n",
    "mandarin_df['initial_man'].nunique() + mandarin_df['final_man'].nunique()\n",
    "\n",
    "# teo_unique = teochew_df['citation_teo'].nunique()+ \\\n",
    "# teochew_df['initial_teo'].nunique()+teochew_df['final_teo'].nunique()\n",
    "teo_unique = train_y['citation_teo'].nunique()+ \\\n",
    "train_y['initial_teo'].nunique()+train_y['final_teo'].nunique()"
   ]
  },
  {
   "cell_type": "code",
   "execution_count": 12,
   "metadata": {},
   "outputs": [],
   "source": [
    "def slice_idx(model, start, end):\n",
    "    return model[:, start:end]\n",
    "\n",
    "X_train_tone = slice_idx(X_train, 0, man_tone_unique)\n",
    "Y_train_tone = slice_idx(Y_train, 0, teo_tone_unique)\n",
    "\n",
    "X_train_initial = slice_idx(X_train, man_tone_unique, man_tone_unique+man_initial_unique)\n",
    "Y_train_initial = slice_idx(Y_train, teo_tone_unique, teo_tone_unique+teo_initial_unique)\n",
    "\n",
    "X_train_final = slice_idx(X_train, man_tone_unique+man_initial_unique, man_unique)\n",
    "Y_train_final = slice_idx(Y_train, teo_tone_unique+teo_initial_unique, teo_unique)\n",
    "\n",
    "# handles test \n",
    "X_test_tone = slice_idx(X_test, 0, man_tone_unique)\n",
    "Y_test_tone = slice_idx(Y_test, 0, teo_tone_unique)\n",
    "\n",
    "X_test_initial = slice_idx(X_test, man_tone_unique, man_tone_unique+man_initial_unique)\n",
    "Y_test_initial = slice_idx(Y_test, teo_tone_unique, teo_tone_unique+teo_initial_unique)\n",
    "\n",
    "X_test_final = slice_idx(X_test, man_tone_unique+man_initial_unique, man_unique)\n",
    "Y_test_final = slice_idx(Y_test, teo_tone_unique+teo_initial_unique, teo_unique)"
   ]
  },
  {
   "cell_type": "code",
   "execution_count": 13,
   "metadata": {},
   "outputs": [
    {
     "data": {
      "text/plain": [
       "(107, (640, 107), (161, 107), (640, 8))"
      ]
     },
     "execution_count": 13,
     "metadata": {},
     "output_type": "execute_result"
    }
   ],
   "source": [
    "teo_unique, Y_train.shape, Y_test.shape, Y_train_tone.shape"
   ]
  },
  {
   "cell_type": "code",
   "execution_count": 14,
   "metadata": {},
   "outputs": [
    {
     "ename": "ValueError",
     "evalue": "bad input shape (640, 8)",
     "output_type": "error",
     "traceback": [
      "\u001b[0;31m---------------------------------------------------------------------------\u001b[0m",
      "\u001b[0;31mValueError\u001b[0m                                Traceback (most recent call last)",
      "\u001b[0;32m<ipython-input-14-8e076a503401>\u001b[0m in \u001b[0;36m<module>\u001b[0;34m\u001b[0m\n\u001b[1;32m      8\u001b[0m \u001b[0;34m\u001b[0m\u001b[0m\n\u001b[1;32m      9\u001b[0m \u001b[0;32mfor\u001b[0m \u001b[0midx\u001b[0m\u001b[0;34m,\u001b[0m \u001b[0mchain\u001b[0m \u001b[0;32min\u001b[0m \u001b[0menumerate\u001b[0m\u001b[0;34m(\u001b[0m\u001b[0mchains\u001b[0m\u001b[0;34m)\u001b[0m\u001b[0;34m:\u001b[0m\u001b[0;34m\u001b[0m\u001b[0;34m\u001b[0m\u001b[0m\n\u001b[0;32m---> 10\u001b[0;31m     \u001b[0mchain\u001b[0m\u001b[0;34m.\u001b[0m\u001b[0mfit\u001b[0m\u001b[0;34m(\u001b[0m\u001b[0mtrain_models\u001b[0m\u001b[0;34m[\u001b[0m\u001b[0;36m2\u001b[0m\u001b[0;34m*\u001b[0m\u001b[0midx\u001b[0m\u001b[0;34m]\u001b[0m\u001b[0;34m,\u001b[0m \u001b[0mtrain_models\u001b[0m\u001b[0;34m[\u001b[0m\u001b[0;36m2\u001b[0m\u001b[0;34m*\u001b[0m\u001b[0midx\u001b[0m\u001b[0;34m+\u001b[0m\u001b[0;36m1\u001b[0m\u001b[0;34m]\u001b[0m\u001b[0;34m)\u001b[0m\u001b[0;34m\u001b[0m\u001b[0;34m\u001b[0m\u001b[0m\n\u001b[0m\u001b[1;32m     11\u001b[0m \u001b[0;34m\u001b[0m\u001b[0m\n\u001b[1;32m     12\u001b[0m \u001b[0mpred_tone\u001b[0m \u001b[0;34m=\u001b[0m \u001b[0mnp\u001b[0m\u001b[0;34m.\u001b[0m\u001b[0marray\u001b[0m\u001b[0;34m(\u001b[0m\u001b[0mchains\u001b[0m\u001b[0;34m[\u001b[0m\u001b[0;36m0\u001b[0m\u001b[0;34m]\u001b[0m\u001b[0;34m.\u001b[0m\u001b[0mpredict\u001b[0m\u001b[0;34m(\u001b[0m\u001b[0mX_test_tone\u001b[0m\u001b[0;34m)\u001b[0m\u001b[0;34m)\u001b[0m\u001b[0;34m\u001b[0m\u001b[0;34m\u001b[0m\u001b[0m\n",
      "\u001b[0;32m~/anaconda3/envs/py37/lib/python3.7/site-packages/sklearn/svm/classes.py\u001b[0m in \u001b[0;36mfit\u001b[0;34m(self, X, y, sample_weight)\u001b[0m\n\u001b[1;32m    227\u001b[0m         X, y = check_X_y(X, y, accept_sparse='csr',\n\u001b[1;32m    228\u001b[0m                          \u001b[0mdtype\u001b[0m\u001b[0;34m=\u001b[0m\u001b[0mnp\u001b[0m\u001b[0;34m.\u001b[0m\u001b[0mfloat64\u001b[0m\u001b[0;34m,\u001b[0m \u001b[0morder\u001b[0m\u001b[0;34m=\u001b[0m\u001b[0;34m\"C\"\u001b[0m\u001b[0;34m,\u001b[0m\u001b[0;34m\u001b[0m\u001b[0;34m\u001b[0m\u001b[0m\n\u001b[0;32m--> 229\u001b[0;31m                          accept_large_sparse=False)\n\u001b[0m\u001b[1;32m    230\u001b[0m         \u001b[0mcheck_classification_targets\u001b[0m\u001b[0;34m(\u001b[0m\u001b[0my\u001b[0m\u001b[0;34m)\u001b[0m\u001b[0;34m\u001b[0m\u001b[0;34m\u001b[0m\u001b[0m\n\u001b[1;32m    231\u001b[0m         \u001b[0mself\u001b[0m\u001b[0;34m.\u001b[0m\u001b[0mclasses_\u001b[0m \u001b[0;34m=\u001b[0m \u001b[0mnp\u001b[0m\u001b[0;34m.\u001b[0m\u001b[0munique\u001b[0m\u001b[0;34m(\u001b[0m\u001b[0my\u001b[0m\u001b[0;34m)\u001b[0m\u001b[0;34m\u001b[0m\u001b[0;34m\u001b[0m\u001b[0m\n",
      "\u001b[0;32m~/anaconda3/envs/py37/lib/python3.7/site-packages/sklearn/utils/validation.py\u001b[0m in \u001b[0;36mcheck_X_y\u001b[0;34m(X, y, accept_sparse, accept_large_sparse, dtype, order, copy, force_all_finite, ensure_2d, allow_nd, multi_output, ensure_min_samples, ensure_min_features, y_numeric, warn_on_dtype, estimator)\u001b[0m\n\u001b[1;32m    722\u001b[0m                         dtype=None)\n\u001b[1;32m    723\u001b[0m     \u001b[0;32melse\u001b[0m\u001b[0;34m:\u001b[0m\u001b[0;34m\u001b[0m\u001b[0;34m\u001b[0m\u001b[0m\n\u001b[0;32m--> 724\u001b[0;31m         \u001b[0my\u001b[0m \u001b[0;34m=\u001b[0m \u001b[0mcolumn_or_1d\u001b[0m\u001b[0;34m(\u001b[0m\u001b[0my\u001b[0m\u001b[0;34m,\u001b[0m \u001b[0mwarn\u001b[0m\u001b[0;34m=\u001b[0m\u001b[0;32mTrue\u001b[0m\u001b[0;34m)\u001b[0m\u001b[0;34m\u001b[0m\u001b[0;34m\u001b[0m\u001b[0m\n\u001b[0m\u001b[1;32m    725\u001b[0m         \u001b[0m_assert_all_finite\u001b[0m\u001b[0;34m(\u001b[0m\u001b[0my\u001b[0m\u001b[0;34m)\u001b[0m\u001b[0;34m\u001b[0m\u001b[0;34m\u001b[0m\u001b[0m\n\u001b[1;32m    726\u001b[0m     \u001b[0;32mif\u001b[0m \u001b[0my_numeric\u001b[0m \u001b[0;32mand\u001b[0m \u001b[0my\u001b[0m\u001b[0;34m.\u001b[0m\u001b[0mdtype\u001b[0m\u001b[0;34m.\u001b[0m\u001b[0mkind\u001b[0m \u001b[0;34m==\u001b[0m \u001b[0;34m'O'\u001b[0m\u001b[0;34m:\u001b[0m\u001b[0;34m\u001b[0m\u001b[0;34m\u001b[0m\u001b[0m\n",
      "\u001b[0;32m~/anaconda3/envs/py37/lib/python3.7/site-packages/sklearn/utils/validation.py\u001b[0m in \u001b[0;36mcolumn_or_1d\u001b[0;34m(y, warn)\u001b[0m\n\u001b[1;32m    758\u001b[0m         \u001b[0;32mreturn\u001b[0m \u001b[0mnp\u001b[0m\u001b[0;34m.\u001b[0m\u001b[0mravel\u001b[0m\u001b[0;34m(\u001b[0m\u001b[0my\u001b[0m\u001b[0;34m)\u001b[0m\u001b[0;34m\u001b[0m\u001b[0;34m\u001b[0m\u001b[0m\n\u001b[1;32m    759\u001b[0m \u001b[0;34m\u001b[0m\u001b[0m\n\u001b[0;32m--> 760\u001b[0;31m     \u001b[0;32mraise\u001b[0m \u001b[0mValueError\u001b[0m\u001b[0;34m(\u001b[0m\u001b[0;34m\"bad input shape {0}\"\u001b[0m\u001b[0;34m.\u001b[0m\u001b[0mformat\u001b[0m\u001b[0;34m(\u001b[0m\u001b[0mshape\u001b[0m\u001b[0;34m)\u001b[0m\u001b[0;34m)\u001b[0m\u001b[0;34m\u001b[0m\u001b[0;34m\u001b[0m\u001b[0m\n\u001b[0m\u001b[1;32m    761\u001b[0m \u001b[0;34m\u001b[0m\u001b[0m\n\u001b[1;32m    762\u001b[0m \u001b[0;34m\u001b[0m\u001b[0m\n",
      "\u001b[0;31mValueError\u001b[0m: bad input shape (640, 8)"
     ]
    }
   ],
   "source": [
    "from sklearn.svm import LinearSVC\n",
    "\n",
    "chains = [LinearSVC(random_state=i) for i in range(3)]\n",
    "\n",
    "train_models = [X_train_tone,Y_train_tone,\n",
    "                X_train_initial,Y_train_initial,\n",
    "                X_train_final,Y_train_final]\n",
    "\n",
    "for idx, chain in enumerate(chains):\n",
    "    chain.fit(train_models[2*idx], train_models[2*idx+1])\n",
    "\n",
    "pred_tone = np.array(chains[0].predict(X_test_tone))\n",
    "pred_initial = np.array(chains[1].predict(X_test_initial))\n",
    "pred_final = np.array(chains[2].predict(X_test_final))\n",
    "\n",
    "Y_pred = np.concatenate((pred_tone, pred_initial, pred_final), axis=1)"
   ]
  },
  {
   "cell_type": "code",
   "execution_count": null,
   "metadata": {},
   "outputs": [],
   "source": [
    "pred_tone[0]"
   ]
  },
  {
   "cell_type": "code",
   "execution_count": null,
   "metadata": {},
   "outputs": [],
   "source": [
    "pred_tone.shape, pred_initial.shape"
   ]
  },
  {
   "cell_type": "code",
   "execution_count": null,
   "metadata": {},
   "outputs": [],
   "source": [
    "pred_df = encY.inverse_transform(Y_pred)\n",
    "test_df = encY.inverse_transform(Y_test)"
   ]
  },
  {
   "cell_type": "code",
   "execution_count": null,
   "metadata": {},
   "outputs": [],
   "source": [
    "results = np.sum(pred_df==test_df, axis=0)\n",
    "print(results[0], results[1], results[2])"
   ]
  },
  {
   "cell_type": "code",
   "execution_count": null,
   "metadata": {},
   "outputs": [],
   "source": [
    "# Accuracy for teochew_tones, teochew_initials, and teochew_finals \n",
    "print('accuracy for tones prediction: {}%'.format(results[0]/pred_tone.shape[0]*100))\n",
    "print('accuracy for initials prediction: {}%'.format(results[1]/pred_initial.shape[0]*100))\n",
    "print('accuracy for finals prediction: {}%'.format(results[2]/pred_final.shape[0]*100))"
   ]
  },
  {
   "cell_type": "code",
   "execution_count": null,
   "metadata": {},
   "outputs": [],
   "source": [
    "cols = [['citation', 'initial', 'final', 'pred_citation', 'pred_initial', 'pred_final']]\n",
    "result_df = pd.DataFrame(np.concatenate([test_df, pred_df], axis=1), columns=cols)"
   ]
  },
  {
   "cell_type": "code",
   "execution_count": null,
   "metadata": {},
   "outputs": [],
   "source": [
    "result_df.sample(30)"
   ]
  },
  {
   "cell_type": "code",
   "execution_count": null,
   "metadata": {},
   "outputs": [],
   "source": [
    "result_df.columns = ['citation','initial','final',\n",
    "                     'pred_citation','pred_initial','pred_final']\n",
    "result_df.columns"
   ]
  },
  {
   "cell_type": "code",
   "execution_count": null,
   "metadata": {},
   "outputs": [],
   "source": [
    "result_df[(result_df['citation']==result_df['pred_citation'])\n",
    "          &(result_df['initial']==result_df['pred_initial'])\n",
    "          &(result_df['final']==result_df['pred_final'])]"
   ]
  },
  {
   "cell_type": "code",
   "execution_count": null,
   "metadata": {},
   "outputs": [],
   "source": [
    "# harsh metrics, when all three predictions are equal \n",
    "5/pred_tone.shape[0]*100"
   ]
  }
 ],
 "metadata": {
  "kernelspec": {
   "display_name": "Python 3",
   "language": "python",
   "name": "python3"
  },
  "language_info": {
   "codemirror_mode": {
    "name": "ipython",
    "version": 3
   },
   "file_extension": ".py",
   "mimetype": "text/x-python",
   "name": "python",
   "nbconvert_exporter": "python",
   "pygments_lexer": "ipython3",
   "version": "3.7.4"
  }
 },
 "nbformat": 4,
 "nbformat_minor": 2
}
