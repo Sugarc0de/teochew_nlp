{
 "cells": [
  {
   "cell_type": "code",
   "execution_count": 1,
   "metadata": {},
   "outputs": [],
   "source": [
    "import sys\n",
    "import pandas as pd \n",
    "import numpy as np \n",
    "sys.path.append('../src/')\n",
    "import load_transform_data\n",
    "\n",
    "transformed = load_transform_data.TransformXY()\n",
    "transformed.transform_data('LabelEncoder')"
   ]
  },
  {
   "cell_type": "code",
   "execution_count": 2,
   "metadata": {},
   "outputs": [],
   "source": [
    "#from sklearn.svm import LinearSVC\n",
    "from sklearn.ensemble import RandomForestClassifier\n",
    "\n",
    "RFs = [RandomForestClassifier(n_estimators=100, max_samples=0.6) for i in range(3)]\n",
    "\n",
    "train_models = [transformed.X_train_tone,transformed.Y_train_tone,\n",
    "                transformed.X_train_initial,transformed.Y_train_initial,\n",
    "                transformed.X_train_final,transformed.Y_train_final]\n",
    "\n",
    "for idx, rf in enumerate(RFs):\n",
    "    rf.fit(train_models[2*idx], train_models[2*idx+1])\n",
    "\n",
    "pred_tone = np.array(RFs[0].predict(transformed.X_test_tone))\n",
    "pred_initial = np.array(RFs[1].predict(transformed.X_test_initial))\n",
    "pred_final = np.array(RFs[2].predict(transformed.X_test_final))"
   ]
  },
  {
   "cell_type": "code",
   "execution_count": 3,
   "metadata": {},
   "outputs": [
    {
     "data": {
      "text/plain": [
       "((161,), (161,), (161,))"
      ]
     },
     "execution_count": 3,
     "metadata": {},
     "output_type": "execute_result"
    }
   ],
   "source": [
    "pred_tone.shape, pred_initial.shape, pred_final.shape"
   ]
  },
  {
   "cell_type": "code",
   "execution_count": 4,
   "metadata": {},
   "outputs": [],
   "source": [
    "pred_tone_df = transformed.encT.inverse_transform(pred_tone)\n",
    "pred_initial_df = transformed.encI.inverse_transform(pred_initial)\n",
    "pred_final_df = transformed.encF.inverse_transform(pred_final)"
   ]
  },
  {
   "cell_type": "code",
   "execution_count": 5,
   "metadata": {},
   "outputs": [],
   "source": [
    "pred_df = np.column_stack((pred_tone_df.T, pred_initial_df.T, pred_final_df.T))\n",
    "#len(pred_tone_df), len(pred_initial_df), len(pred_final_df), pred_tone.shape"
   ]
  },
  {
   "cell_type": "code",
   "execution_count": 6,
   "metadata": {},
   "outputs": [],
   "source": [
    "test_tone_df = transformed.encT.inverse_transform(transformed.Y_test_tone)\n",
    "test_initial_df = transformed.encI.inverse_transform(transformed.Y_test_initial)\n",
    "test_final_df = transformed.encF.inverse_transform(transformed.Y_test_final)\n",
    "\n",
    "test_df = np.column_stack((test_tone_df.T, test_initial_df.T, test_final_df.T))"
   ]
  },
  {
   "cell_type": "code",
   "execution_count": 7,
   "metadata": {},
   "outputs": [
    {
     "name": "stdout",
     "output_type": "stream",
     "text": [
      "91 110 52\n"
     ]
    }
   ],
   "source": [
    "results = np.sum(pred_df==test_df, axis=0)\n",
    "print(results[0], results[1], results[2])"
   ]
  },
  {
   "cell_type": "code",
   "execution_count": 8,
   "metadata": {
    "scrolled": true
   },
   "outputs": [
    {
     "name": "stdout",
     "output_type": "stream",
     "text": [
      "accuracy for tones prediction: 56.52173913043478%\n",
      "accuracy for initials prediction: 68.32298136645963%\n",
      "accuracy for finals prediction: 32.298136645962735%\n"
     ]
    }
   ],
   "source": [
    "# Accuracy for teochew_tones, teochew_initials, and teochew_finals \n",
    "print('accuracy for tones prediction: {}%'.format(results[0]/pred_tone.shape[0]*100))\n",
    "print('accuracy for initials prediction: {}%'.format(results[1]/pred_initial.shape[0]*100))\n",
    "print('accuracy for finals prediction: {}%'.format(results[2]/pred_final.shape[0]*100))"
   ]
  },
  {
   "cell_type": "code",
   "execution_count": 9,
   "metadata": {},
   "outputs": [],
   "source": [
    "cols = [['citation', 'initial', 'final', 'pred_citation', 'pred_initial', 'pred_final']]\n",
    "result_df = pd.DataFrame(np.concatenate([test_df, pred_df], axis=1), columns=cols)"
   ]
  },
  {
   "cell_type": "code",
   "execution_count": 10,
   "metadata": {},
   "outputs": [
    {
     "data": {
      "text/html": [
       "<div>\n",
       "<style scoped>\n",
       "    .dataframe tbody tr th:only-of-type {\n",
       "        vertical-align: middle;\n",
       "    }\n",
       "\n",
       "    .dataframe tbody tr th {\n",
       "        vertical-align: top;\n",
       "    }\n",
       "\n",
       "    .dataframe thead tr th {\n",
       "        text-align: left;\n",
       "    }\n",
       "</style>\n",
       "<table border=\"1\" class=\"dataframe\">\n",
       "  <thead>\n",
       "    <tr>\n",
       "      <th></th>\n",
       "      <th>citation</th>\n",
       "      <th>initial</th>\n",
       "      <th>final</th>\n",
       "      <th>pred_citation</th>\n",
       "      <th>pred_initial</th>\n",
       "      <th>pred_final</th>\n",
       "    </tr>\n",
       "  </thead>\n",
       "  <tbody>\n",
       "    <tr>\n",
       "      <td>92</td>\n",
       "      <td>33</td>\n",
       "      <td>ts</td>\n",
       "      <td>ɯŋ</td>\n",
       "      <td>33</td>\n",
       "      <td>ts</td>\n",
       "      <td>ɯŋ</td>\n",
       "    </tr>\n",
       "    <tr>\n",
       "      <td>56</td>\n",
       "      <td>55</td>\n",
       "      <td></td>\n",
       "      <td>ĩẽ∼</td>\n",
       "      <td>55</td>\n",
       "      <td></td>\n",
       "      <td>ɯŋ</td>\n",
       "    </tr>\n",
       "    <tr>\n",
       "      <td>132</td>\n",
       "      <td>4</td>\n",
       "      <td>b</td>\n",
       "      <td>ak</td>\n",
       "      <td>213</td>\n",
       "      <td>m</td>\n",
       "      <td>ou</td>\n",
       "    </tr>\n",
       "    <tr>\n",
       "      <td>10</td>\n",
       "      <td>53</td>\n",
       "      <td>ts</td>\n",
       "      <td>ui</td>\n",
       "      <td>53</td>\n",
       "      <td>s</td>\n",
       "      <td>ui</td>\n",
       "    </tr>\n",
       "    <tr>\n",
       "      <td>108</td>\n",
       "      <td>55</td>\n",
       "      <td>h</td>\n",
       "      <td>aŋ</td>\n",
       "      <td>55</td>\n",
       "      <td>s</td>\n",
       "      <td>eŋ</td>\n",
       "    </tr>\n",
       "    <tr>\n",
       "      <td>83</td>\n",
       "      <td>55</td>\n",
       "      <td></td>\n",
       "      <td>ẽ∼</td>\n",
       "      <td>55</td>\n",
       "      <td></td>\n",
       "      <td>eŋ</td>\n",
       "    </tr>\n",
       "    <tr>\n",
       "      <td>124</td>\n",
       "      <td>213</td>\n",
       "      <td>pʰ</td>\n",
       "      <td>ue</td>\n",
       "      <td>213</td>\n",
       "      <td>pʰ</td>\n",
       "      <td>ue</td>\n",
       "    </tr>\n",
       "    <tr>\n",
       "      <td>118</td>\n",
       "      <td>35</td>\n",
       "      <td>l</td>\n",
       "      <td>ai</td>\n",
       "      <td>213</td>\n",
       "      <td>n</td>\n",
       "      <td>ue</td>\n",
       "    </tr>\n",
       "    <tr>\n",
       "      <td>98</td>\n",
       "      <td>53</td>\n",
       "      <td>p</td>\n",
       "      <td>ou</td>\n",
       "      <td>53</td>\n",
       "      <td>h</td>\n",
       "      <td>ou</td>\n",
       "    </tr>\n",
       "    <tr>\n",
       "      <td>151</td>\n",
       "      <td>55</td>\n",
       "      <td>m</td>\n",
       "      <td>e</td>\n",
       "      <td>213</td>\n",
       "      <td></td>\n",
       "      <td>o</td>\n",
       "    </tr>\n",
       "    <tr>\n",
       "      <td>24</td>\n",
       "      <td>4</td>\n",
       "      <td>t</td>\n",
       "      <td>iap</td>\n",
       "      <td>55</td>\n",
       "      <td>s</td>\n",
       "      <td>o</td>\n",
       "    </tr>\n",
       "    <tr>\n",
       "      <td>16</td>\n",
       "      <td>53</td>\n",
       "      <td>ts</td>\n",
       "      <td>au</td>\n",
       "      <td>53</td>\n",
       "      <td>ts</td>\n",
       "      <td>au</td>\n",
       "    </tr>\n",
       "    <tr>\n",
       "      <td>125</td>\n",
       "      <td>213</td>\n",
       "      <td>p</td>\n",
       "      <td>aŋ</td>\n",
       "      <td>213</td>\n",
       "      <td>h</td>\n",
       "      <td>ɯŋ</td>\n",
       "    </tr>\n",
       "    <tr>\n",
       "      <td>139</td>\n",
       "      <td>213</td>\n",
       "      <td>k</td>\n",
       "      <td>ai</td>\n",
       "      <td>213</td>\n",
       "      <td>k</td>\n",
       "      <td>ai</td>\n",
       "    </tr>\n",
       "    <tr>\n",
       "      <td>127</td>\n",
       "      <td>55</td>\n",
       "      <td>h</td>\n",
       "      <td>ueŋ</td>\n",
       "      <td>55</td>\n",
       "      <td>h</td>\n",
       "      <td>ũã∼</td>\n",
       "    </tr>\n",
       "    <tr>\n",
       "      <td>134</td>\n",
       "      <td>33</td>\n",
       "      <td>p</td>\n",
       "      <td>a</td>\n",
       "      <td>213</td>\n",
       "      <td>p</td>\n",
       "      <td>e</td>\n",
       "    </tr>\n",
       "    <tr>\n",
       "      <td>103</td>\n",
       "      <td>35</td>\n",
       "      <td>t</td>\n",
       "      <td>õĩ∼</td>\n",
       "      <td>213</td>\n",
       "      <td>t</td>\n",
       "      <td>i</td>\n",
       "    </tr>\n",
       "    <tr>\n",
       "      <td>111</td>\n",
       "      <td>53</td>\n",
       "      <td></td>\n",
       "      <td>iəu</td>\n",
       "      <td>33</td>\n",
       "      <td></td>\n",
       "      <td>o</td>\n",
       "    </tr>\n",
       "    <tr>\n",
       "      <td>93</td>\n",
       "      <td>11</td>\n",
       "      <td>b</td>\n",
       "      <td>o</td>\n",
       "      <td>213</td>\n",
       "      <td>m</td>\n",
       "      <td>o</td>\n",
       "    </tr>\n",
       "    <tr>\n",
       "      <td>70</td>\n",
       "      <td>35</td>\n",
       "      <td>kʰ</td>\n",
       "      <td>ia</td>\n",
       "      <td>53</td>\n",
       "      <td>kʰ</td>\n",
       "      <td>i</td>\n",
       "    </tr>\n",
       "    <tr>\n",
       "      <td>153</td>\n",
       "      <td>4</td>\n",
       "      <td>b</td>\n",
       "      <td>eʔ</td>\n",
       "      <td>213</td>\n",
       "      <td>m</td>\n",
       "      <td>ai</td>\n",
       "    </tr>\n",
       "    <tr>\n",
       "      <td>42</td>\n",
       "      <td>35</td>\n",
       "      <td>k</td>\n",
       "      <td>au</td>\n",
       "      <td>213</td>\n",
       "      <td>h</td>\n",
       "      <td>au</td>\n",
       "    </tr>\n",
       "    <tr>\n",
       "      <td>113</td>\n",
       "      <td>55</td>\n",
       "      <td>p</td>\n",
       "      <td>ue</td>\n",
       "      <td>55</td>\n",
       "      <td>pʰ</td>\n",
       "      <td>ue</td>\n",
       "    </tr>\n",
       "    <tr>\n",
       "      <td>2</td>\n",
       "      <td>4</td>\n",
       "      <td>l</td>\n",
       "      <td>aʔ</td>\n",
       "      <td>213</td>\n",
       "      <td>l</td>\n",
       "      <td>e</td>\n",
       "    </tr>\n",
       "    <tr>\n",
       "      <td>12</td>\n",
       "      <td>21</td>\n",
       "      <td>s</td>\n",
       "      <td>uk</td>\n",
       "      <td>213</td>\n",
       "      <td>s</td>\n",
       "      <td>ɯ</td>\n",
       "    </tr>\n",
       "    <tr>\n",
       "      <td>18</td>\n",
       "      <td>213</td>\n",
       "      <td>h</td>\n",
       "      <td>ue</td>\n",
       "      <td>53</td>\n",
       "      <td>h</td>\n",
       "      <td>ui</td>\n",
       "    </tr>\n",
       "    <tr>\n",
       "      <td>21</td>\n",
       "      <td>33</td>\n",
       "      <td>ts</td>\n",
       "      <td>am</td>\n",
       "      <td>33</td>\n",
       "      <td>ts</td>\n",
       "      <td>uŋ</td>\n",
       "    </tr>\n",
       "    <tr>\n",
       "      <td>30</td>\n",
       "      <td>55</td>\n",
       "      <td>t</td>\n",
       "      <td>aŋ</td>\n",
       "      <td>55</td>\n",
       "      <td>tʰ</td>\n",
       "      <td>aŋ</td>\n",
       "    </tr>\n",
       "    <tr>\n",
       "      <td>59</td>\n",
       "      <td>53</td>\n",
       "      <td></td>\n",
       "      <td>ĩ∼</td>\n",
       "      <td>53</td>\n",
       "      <td></td>\n",
       "      <td>i</td>\n",
       "    </tr>\n",
       "    <tr>\n",
       "      <td>8</td>\n",
       "      <td>33</td>\n",
       "      <td>p</td>\n",
       "      <td>aŋ</td>\n",
       "      <td>33</td>\n",
       "      <td>p</td>\n",
       "      <td>ɯŋ</td>\n",
       "    </tr>\n",
       "  </tbody>\n",
       "</table>\n",
       "</div>"
      ],
      "text/plain": [
       "    citation initial final pred_citation pred_initial pred_final\n",
       "92        33      ts    ɯŋ            33           ts         ɯŋ\n",
       "56        55           ĩẽ∼            55                      ɯŋ\n",
       "132        4       b    ak           213            m         ou\n",
       "10        53      ts    ui            53            s         ui\n",
       "108       55       h    aŋ            55            s         eŋ\n",
       "83        55            ẽ∼            55                      eŋ\n",
       "124      213      pʰ    ue           213           pʰ         ue\n",
       "118       35       l    ai           213            n         ue\n",
       "98        53       p    ou            53            h         ou\n",
       "151       55       m     e           213                       o\n",
       "24         4       t   iap            55            s          o\n",
       "16        53      ts    au            53           ts         au\n",
       "125      213       p    aŋ           213            h         ɯŋ\n",
       "139      213       k    ai           213            k         ai\n",
       "127       55       h   ueŋ            55            h        ũã∼\n",
       "134       33       p     a           213            p          e\n",
       "103       35       t   õĩ∼           213            t          i\n",
       "111       53           iəu            33                       o\n",
       "93        11       b     o           213            m          o\n",
       "70        35      kʰ    ia            53           kʰ          i\n",
       "153        4       b    eʔ           213            m         ai\n",
       "42        35       k    au           213            h         au\n",
       "113       55       p    ue            55           pʰ         ue\n",
       "2          4       l    aʔ           213            l          e\n",
       "12        21       s    uk           213            s          ɯ\n",
       "18       213       h    ue            53            h         ui\n",
       "21        33      ts    am            33           ts         uŋ\n",
       "30        55       t    aŋ            55           tʰ         aŋ\n",
       "59        53            ĩ∼            53                       i\n",
       "8         33       p    aŋ            33            p         ɯŋ"
      ]
     },
     "execution_count": 10,
     "metadata": {},
     "output_type": "execute_result"
    }
   ],
   "source": [
    "result_df.sample(30)"
   ]
  },
  {
   "cell_type": "code",
   "execution_count": 11,
   "metadata": {},
   "outputs": [
    {
     "data": {
      "text/plain": [
       "Index(['citation', 'initial', 'final', 'pred_citation', 'pred_initial',\n",
       "       'pred_final'],\n",
       "      dtype='object')"
      ]
     },
     "execution_count": 11,
     "metadata": {},
     "output_type": "execute_result"
    }
   ],
   "source": [
    "result_df.columns = ['citation','initial','final',\n",
    "                     'pred_citation','pred_initial','pred_final']\n",
    "result_df.columns"
   ]
  },
  {
   "cell_type": "code",
   "execution_count": 12,
   "metadata": {},
   "outputs": [
    {
     "data": {
      "text/plain": [
       "citation         26\n",
       "initial          26\n",
       "final            26\n",
       "pred_citation    26\n",
       "pred_initial     26\n",
       "pred_final       26\n",
       "dtype: int64"
      ]
     },
     "execution_count": 12,
     "metadata": {},
     "output_type": "execute_result"
    }
   ],
   "source": [
    "result_df[(result_df['citation']==result_df['pred_citation'])\n",
    "          &(result_df['initial']==result_df['pred_initial'])\n",
    "          &(result_df['final']==result_df['pred_final'])].count()"
   ]
  },
  {
   "cell_type": "code",
   "execution_count": 13,
   "metadata": {},
   "outputs": [
    {
     "data": {
      "text/plain": [
       "16.149068322981368"
      ]
     },
     "execution_count": 13,
     "metadata": {},
     "output_type": "execute_result"
    }
   ],
   "source": [
    "# harsh metrics, when all three predictions are equal \n",
    "26/pred_tone.shape[0]*100"
   ]
  }
 ],
 "metadata": {
  "kernelspec": {
   "display_name": "Python 3",
   "language": "python",
   "name": "python3"
  },
  "language_info": {
   "codemirror_mode": {
    "name": "ipython",
    "version": 3
   },
   "file_extension": ".py",
   "mimetype": "text/x-python",
   "name": "python",
   "nbconvert_exporter": "python",
   "pygments_lexer": "ipython3",
   "version": "3.7.4"
  }
 },
 "nbformat": 4,
 "nbformat_minor": 2
}
