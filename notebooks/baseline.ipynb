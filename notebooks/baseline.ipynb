{
 "cells": [
  {
   "cell_type": "code",
   "execution_count": 1,
   "metadata": {},
   "outputs": [],
   "source": [
    "import sys\n",
    "import pandas as pd \n",
    "import numpy as np \n",
    "sys.path.append('../src/')\n",
    "import load_transform_data\n",
    "\n",
    "transformed = load_transform_data.TransformXY()\n",
    "transformed.transform_data('LabelEncoder')"
   ]
  },
  {
   "cell_type": "code",
   "execution_count": 2,
   "metadata": {},
   "outputs": [],
   "source": [
    "#from sklearn.svm import LinearSVC\n",
    "from sklearn.ensemble import RandomForestClassifier\n",
    "\n",
    "RFs = [RandomForestClassifier(n_estimators=100, max_samples=0.6) for i in range(3)]\n",
    "\n",
    "train_models = [transformed.X_train_tone,transformed.Y_train_tone,\n",
    "                transformed.X_train_initial,transformed.Y_train_initial,\n",
    "                transformed.X_train_final,transformed.Y_train_final]\n",
    "\n",
    "for idx, rf in enumerate(RFs):\n",
    "    rf.fit(train_models[2*idx], train_models[2*idx+1])\n",
    "\n",
    "pred_tone = np.array(RFs[0].predict(transformed.X_test_tone))\n",
    "pred_initial = np.array(RFs[1].predict(transformed.X_test_initial))\n",
    "pred_final = np.array(RFs[2].predict(transformed.X_test_final))"
   ]
  },
  {
   "cell_type": "code",
   "execution_count": 15,
   "metadata": {},
   "outputs": [
    {
     "data": {
      "text/plain": [
       "((640,), (161,))"
      ]
     },
     "execution_count": 15,
     "metadata": {},
     "output_type": "execute_result"
    }
   ],
   "source": [
    "transformed.Y_train_tone.shape, transformed.Y_test_tone.shape"
   ]
  },
  {
   "cell_type": "code",
   "execution_count": 4,
   "metadata": {},
   "outputs": [
    {
     "data": {
      "text/plain": [
       "((161,), (161,), (161,))"
      ]
     },
     "execution_count": 4,
     "metadata": {},
     "output_type": "execute_result"
    }
   ],
   "source": [
    "pred_tone.shape, pred_initial.shape, pred_final.shape"
   ]
  },
  {
   "cell_type": "code",
   "execution_count": 5,
   "metadata": {},
   "outputs": [],
   "source": [
    "pred_tone_df = transformed.encT.inverse_transform(pred_tone)\n",
    "pred_initial_df = transformed.encI.inverse_transform(pred_initial)\n",
    "pred_final_df = transformed.encF.inverse_transform(pred_final)"
   ]
  },
  {
   "cell_type": "code",
   "execution_count": 6,
   "metadata": {},
   "outputs": [],
   "source": [
    "pred_df = np.column_stack((pred_tone_df.T, pred_initial_df.T, pred_final_df.T))\n",
    "#len(pred_tone_df), len(pred_initial_df), len(pred_final_df), pred_tone.shape"
   ]
  },
  {
   "cell_type": "code",
   "execution_count": 7,
   "metadata": {},
   "outputs": [],
   "source": [
    "test_tone_df = transformed.encT.inverse_transform(transformed.Y_test_tone)\n",
    "test_initial_df = transformed.encI.inverse_transform(transformed.Y_test_initial)\n",
    "test_final_df = transformed.encF.inverse_transform(transformed.Y_test_final)\n",
    "\n",
    "test_df = np.column_stack((test_tone_df.T, test_initial_df.T, test_final_df.T))"
   ]
  },
  {
   "cell_type": "code",
   "execution_count": 8,
   "metadata": {},
   "outputs": [
    {
     "name": "stdout",
     "output_type": "stream",
     "text": [
      "91 108 51\n"
     ]
    }
   ],
   "source": [
    "results = np.sum(pred_df==test_df, axis=0)\n",
    "print(results[0], results[1], results[2])"
   ]
  },
  {
   "cell_type": "code",
   "execution_count": 9,
   "metadata": {
    "scrolled": true
   },
   "outputs": [
    {
     "name": "stdout",
     "output_type": "stream",
     "text": [
      "accuracy for tones prediction: 56.52173913043478%\n",
      "accuracy for initials prediction: 67.08074534161491%\n",
      "accuracy for finals prediction: 31.67701863354037%\n"
     ]
    }
   ],
   "source": [
    "# Accuracy for teochew_tones, teochew_initials, and teochew_finals \n",
    "print('accuracy for tones prediction: {}%'.format(results[0]/pred_tone.shape[0]*100))\n",
    "print('accuracy for initials prediction: {}%'.format(results[1]/pred_initial.shape[0]*100))\n",
    "print('accuracy for finals prediction: {}%'.format(results[2]/pred_final.shape[0]*100))"
   ]
  },
  {
   "cell_type": "code",
   "execution_count": 10,
   "metadata": {},
   "outputs": [],
   "source": [
    "cols = [['citation', 'initial', 'final', 'pred_citation', 'pred_initial', 'pred_final']]\n",
    "result_df = pd.DataFrame(np.concatenate([test_df, pred_df], axis=1), columns=cols)"
   ]
  },
  {
   "cell_type": "code",
   "execution_count": 11,
   "metadata": {},
   "outputs": [
    {
     "data": {
      "text/html": [
       "<div>\n",
       "<style scoped>\n",
       "    .dataframe tbody tr th:only-of-type {\n",
       "        vertical-align: middle;\n",
       "    }\n",
       "\n",
       "    .dataframe tbody tr th {\n",
       "        vertical-align: top;\n",
       "    }\n",
       "\n",
       "    .dataframe thead tr th {\n",
       "        text-align: left;\n",
       "    }\n",
       "</style>\n",
       "<table border=\"1\" class=\"dataframe\">\n",
       "  <thead>\n",
       "    <tr>\n",
       "      <th></th>\n",
       "      <th>citation</th>\n",
       "      <th>initial</th>\n",
       "      <th>final</th>\n",
       "      <th>pred_citation</th>\n",
       "      <th>pred_initial</th>\n",
       "      <th>pred_final</th>\n",
       "    </tr>\n",
       "  </thead>\n",
       "  <tbody>\n",
       "    <tr>\n",
       "      <td>126</td>\n",
       "      <td>55</td>\n",
       "      <td>m</td>\n",
       "      <td>oŋ</td>\n",
       "      <td>33</td>\n",
       "      <td>m</td>\n",
       "      <td>ak</td>\n",
       "    </tr>\n",
       "    <tr>\n",
       "      <td>100</td>\n",
       "      <td>4</td>\n",
       "      <td>t</td>\n",
       "      <td>ieʔ</td>\n",
       "      <td>55</td>\n",
       "      <td>ts</td>\n",
       "      <td>o</td>\n",
       "    </tr>\n",
       "    <tr>\n",
       "      <td>160</td>\n",
       "      <td>4</td>\n",
       "      <td>m</td>\n",
       "      <td>uəʔ</td>\n",
       "      <td>213</td>\n",
       "      <td></td>\n",
       "      <td>ou</td>\n",
       "    </tr>\n",
       "    <tr>\n",
       "      <td>49</td>\n",
       "      <td>21</td>\n",
       "      <td>p</td>\n",
       "      <td>iaʔ</td>\n",
       "      <td>213</td>\n",
       "      <td>p</td>\n",
       "      <td>i</td>\n",
       "    </tr>\n",
       "    <tr>\n",
       "      <td>46</td>\n",
       "      <td>213</td>\n",
       "      <td>tʰ</td>\n",
       "      <td>ɯŋ</td>\n",
       "      <td>213</td>\n",
       "      <td>tʰ</td>\n",
       "      <td>ɯŋ</td>\n",
       "    </tr>\n",
       "    <tr>\n",
       "      <td>157</td>\n",
       "      <td>33</td>\n",
       "      <td>p</td>\n",
       "      <td>ũã∼</td>\n",
       "      <td>33</td>\n",
       "      <td>p</td>\n",
       "      <td>ũã∼</td>\n",
       "    </tr>\n",
       "    <tr>\n",
       "      <td>1</td>\n",
       "      <td>33</td>\n",
       "      <td>t</td>\n",
       "      <td>i</td>\n",
       "      <td>33</td>\n",
       "      <td>ts</td>\n",
       "      <td>i</td>\n",
       "    </tr>\n",
       "    <tr>\n",
       "      <td>3</td>\n",
       "      <td>21</td>\n",
       "      <td>k</td>\n",
       "      <td>eʔ</td>\n",
       "      <td>55</td>\n",
       "      <td>k</td>\n",
       "      <td>o</td>\n",
       "    </tr>\n",
       "    <tr>\n",
       "      <td>53</td>\n",
       "      <td>213</td>\n",
       "      <td>tʰ</td>\n",
       "      <td>o</td>\n",
       "      <td>213</td>\n",
       "      <td>tʰ</td>\n",
       "      <td>ui</td>\n",
       "    </tr>\n",
       "    <tr>\n",
       "      <td>47</td>\n",
       "      <td>21</td>\n",
       "      <td></td>\n",
       "      <td>iak</td>\n",
       "      <td>33</td>\n",
       "      <td></td>\n",
       "      <td>iaʔ</td>\n",
       "    </tr>\n",
       "    <tr>\n",
       "      <td>150</td>\n",
       "      <td>55</td>\n",
       "      <td>l</td>\n",
       "      <td>iəm</td>\n",
       "      <td>55</td>\n",
       "      <td>l</td>\n",
       "      <td>iəm</td>\n",
       "    </tr>\n",
       "    <tr>\n",
       "      <td>82</td>\n",
       "      <td>33</td>\n",
       "      <td>ts</td>\n",
       "      <td>ie</td>\n",
       "      <td>33</td>\n",
       "      <td>k</td>\n",
       "      <td>iəu</td>\n",
       "    </tr>\n",
       "    <tr>\n",
       "      <td>116</td>\n",
       "      <td>55</td>\n",
       "      <td>l</td>\n",
       "      <td>o</td>\n",
       "      <td>55</td>\n",
       "      <td>l</td>\n",
       "      <td>o</td>\n",
       "    </tr>\n",
       "    <tr>\n",
       "      <td>6</td>\n",
       "      <td>33</td>\n",
       "      <td>p</td>\n",
       "      <td>ĩã∼</td>\n",
       "      <td>33</td>\n",
       "      <td>p</td>\n",
       "      <td>eŋ</td>\n",
       "    </tr>\n",
       "    <tr>\n",
       "      <td>45</td>\n",
       "      <td>4</td>\n",
       "      <td></td>\n",
       "      <td>oiʔ</td>\n",
       "      <td>55</td>\n",
       "      <td>s</td>\n",
       "      <td>e</td>\n",
       "    </tr>\n",
       "    <tr>\n",
       "      <td>10</td>\n",
       "      <td>53</td>\n",
       "      <td>ts</td>\n",
       "      <td>ui</td>\n",
       "      <td>53</td>\n",
       "      <td>s</td>\n",
       "      <td>ui</td>\n",
       "    </tr>\n",
       "    <tr>\n",
       "      <td>78</td>\n",
       "      <td>33</td>\n",
       "      <td>l</td>\n",
       "      <td>aŋ</td>\n",
       "      <td>55</td>\n",
       "      <td>l</td>\n",
       "      <td>ũã∼</td>\n",
       "    </tr>\n",
       "    <tr>\n",
       "      <td>61</td>\n",
       "      <td>55</td>\n",
       "      <td>ŋ</td>\n",
       "      <td>iəm</td>\n",
       "      <td>213</td>\n",
       "      <td></td>\n",
       "      <td>ũã∼</td>\n",
       "    </tr>\n",
       "    <tr>\n",
       "      <td>90</td>\n",
       "      <td>33</td>\n",
       "      <td>tʰ</td>\n",
       "      <td>ẽ∼</td>\n",
       "      <td>33</td>\n",
       "      <td>tsʰ</td>\n",
       "      <td>aŋ</td>\n",
       "    </tr>\n",
       "    <tr>\n",
       "      <td>62</td>\n",
       "      <td>213</td>\n",
       "      <td>tʰ</td>\n",
       "      <td>i</td>\n",
       "      <td>213</td>\n",
       "      <td>tʰ</td>\n",
       "      <td>i</td>\n",
       "    </tr>\n",
       "    <tr>\n",
       "      <td>9</td>\n",
       "      <td>55</td>\n",
       "      <td>b</td>\n",
       "      <td>o</td>\n",
       "      <td>55</td>\n",
       "      <td></td>\n",
       "      <td>ou</td>\n",
       "    </tr>\n",
       "    <tr>\n",
       "      <td>107</td>\n",
       "      <td>213</td>\n",
       "      <td></td>\n",
       "      <td>ãĩ∼</td>\n",
       "      <td>213</td>\n",
       "      <td></td>\n",
       "      <td>ai</td>\n",
       "    </tr>\n",
       "    <tr>\n",
       "      <td>118</td>\n",
       "      <td>35</td>\n",
       "      <td>l</td>\n",
       "      <td>ai</td>\n",
       "      <td>213</td>\n",
       "      <td>n</td>\n",
       "      <td>ue</td>\n",
       "    </tr>\n",
       "    <tr>\n",
       "      <td>124</td>\n",
       "      <td>213</td>\n",
       "      <td>pʰ</td>\n",
       "      <td>ue</td>\n",
       "      <td>213</td>\n",
       "      <td>pʰ</td>\n",
       "      <td>ue</td>\n",
       "    </tr>\n",
       "    <tr>\n",
       "      <td>92</td>\n",
       "      <td>33</td>\n",
       "      <td>ts</td>\n",
       "      <td>ɯŋ</td>\n",
       "      <td>33</td>\n",
       "      <td>ts</td>\n",
       "      <td>ɯŋ</td>\n",
       "    </tr>\n",
       "    <tr>\n",
       "      <td>85</td>\n",
       "      <td>213</td>\n",
       "      <td>l</td>\n",
       "      <td>iu</td>\n",
       "      <td>33</td>\n",
       "      <td>l</td>\n",
       "      <td>iu</td>\n",
       "    </tr>\n",
       "    <tr>\n",
       "      <td>159</td>\n",
       "      <td>55</td>\n",
       "      <td>h</td>\n",
       "      <td>u</td>\n",
       "      <td>55</td>\n",
       "      <td>h</td>\n",
       "      <td>ou</td>\n",
       "    </tr>\n",
       "    <tr>\n",
       "      <td>109</td>\n",
       "      <td>21</td>\n",
       "      <td>p</td>\n",
       "      <td>ak</td>\n",
       "      <td>53</td>\n",
       "      <td>p</td>\n",
       "      <td>ue</td>\n",
       "    </tr>\n",
       "    <tr>\n",
       "      <td>111</td>\n",
       "      <td>53</td>\n",
       "      <td></td>\n",
       "      <td>iəu</td>\n",
       "      <td>33</td>\n",
       "      <td></td>\n",
       "      <td>o</td>\n",
       "    </tr>\n",
       "    <tr>\n",
       "      <td>54</td>\n",
       "      <td>4</td>\n",
       "      <td>h</td>\n",
       "      <td>iaʔ</td>\n",
       "      <td>55</td>\n",
       "      <td></td>\n",
       "      <td>o</td>\n",
       "    </tr>\n",
       "  </tbody>\n",
       "</table>\n",
       "</div>"
      ],
      "text/plain": [
       "    citation initial final pred_citation pred_initial pred_final\n",
       "126       55       m    oŋ            33            m         ak\n",
       "100        4       t   ieʔ            55           ts          o\n",
       "160        4       m   uəʔ           213                      ou\n",
       "49        21       p   iaʔ           213            p          i\n",
       "46       213      tʰ    ɯŋ           213           tʰ         ɯŋ\n",
       "157       33       p   ũã∼            33            p        ũã∼\n",
       "1         33       t     i            33           ts          i\n",
       "3         21       k    eʔ            55            k          o\n",
       "53       213      tʰ     o           213           tʰ         ui\n",
       "47        21           iak            33                     iaʔ\n",
       "150       55       l   iəm            55            l        iəm\n",
       "82        33      ts    ie            33            k        iəu\n",
       "116       55       l     o            55            l          o\n",
       "6         33       p   ĩã∼            33            p         eŋ\n",
       "45         4           oiʔ            55            s          e\n",
       "10        53      ts    ui            53            s         ui\n",
       "78        33       l    aŋ            55            l        ũã∼\n",
       "61        55       ŋ   iəm           213                     ũã∼\n",
       "90        33      tʰ    ẽ∼            33          tsʰ         aŋ\n",
       "62       213      tʰ     i           213           tʰ          i\n",
       "9         55       b     o            55                      ou\n",
       "107      213           ãĩ∼           213                      ai\n",
       "118       35       l    ai           213            n         ue\n",
       "124      213      pʰ    ue           213           pʰ         ue\n",
       "92        33      ts    ɯŋ            33           ts         ɯŋ\n",
       "85       213       l    iu            33            l         iu\n",
       "159       55       h     u            55            h         ou\n",
       "109       21       p    ak            53            p         ue\n",
       "111       53           iəu            33                       o\n",
       "54         4       h   iaʔ            55                       o"
      ]
     },
     "execution_count": 11,
     "metadata": {},
     "output_type": "execute_result"
    }
   ],
   "source": [
    "result_df.sample(30)"
   ]
  },
  {
   "cell_type": "code",
   "execution_count": 12,
   "metadata": {},
   "outputs": [
    {
     "data": {
      "text/plain": [
       "Index(['citation', 'initial', 'final', 'pred_citation', 'pred_initial',\n",
       "       'pred_final'],\n",
       "      dtype='object')"
      ]
     },
     "execution_count": 12,
     "metadata": {},
     "output_type": "execute_result"
    }
   ],
   "source": [
    "result_df.columns = ['citation','initial','final',\n",
    "                     'pred_citation','pred_initial','pred_final']\n",
    "result_df.columns"
   ]
  },
  {
   "cell_type": "code",
   "execution_count": 13,
   "metadata": {},
   "outputs": [
    {
     "data": {
      "text/plain": [
       "citation         26\n",
       "initial          26\n",
       "final            26\n",
       "pred_citation    26\n",
       "pred_initial     26\n",
       "pred_final       26\n",
       "dtype: int64"
      ]
     },
     "execution_count": 13,
     "metadata": {},
     "output_type": "execute_result"
    }
   ],
   "source": [
    "result_df[(result_df['citation']==result_df['pred_citation'])\n",
    "          &(result_df['initial']==result_df['pred_initial'])\n",
    "          &(result_df['final']==result_df['pred_final'])].count()"
   ]
  },
  {
   "cell_type": "code",
   "execution_count": 14,
   "metadata": {},
   "outputs": [
    {
     "data": {
      "text/plain": [
       "16.149068322981368"
      ]
     },
     "execution_count": 14,
     "metadata": {},
     "output_type": "execute_result"
    }
   ],
   "source": [
    "# harsh metrics, when all three predictions are equal \n",
    "26/pred_tone.shape[0]*100"
   ]
  }
 ],
 "metadata": {
  "kernelspec": {
   "display_name": "Python 3",
   "language": "python",
   "name": "python3"
  },
  "language_info": {
   "codemirror_mode": {
    "name": "ipython",
    "version": 3
   },
   "file_extension": ".py",
   "mimetype": "text/x-python",
   "name": "python",
   "nbconvert_exporter": "python",
   "pygments_lexer": "ipython3",
   "version": "3.7.4"
  }
 },
 "nbformat": 4,
 "nbformat_minor": 2
}
