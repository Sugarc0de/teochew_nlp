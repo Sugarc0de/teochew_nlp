{
 "cells": [
  {
   "cell_type": "code",
   "execution_count": 1,
   "metadata": {},
   "outputs": [],
   "source": [
    "import pandas as pd \n",
    "import seaborn as sns\n",
    "import numpy as np \n",
    "from xpinyin import Pinyin\n",
    "import re \n",
    "import sys \n",
    "# sys.path.append('/Users/elaineye/data_science/teochew_nlp/src/')\n",
    "from pinyin_utils import extract_pinyin_tones"
   ]
  },
  {
   "cell_type": "code",
   "execution_count": 2,
   "metadata": {},
   "outputs": [],
   "source": [
    "data = pd.read_csv(\"../clean_data/teochew-bai-clean-data.txt\", names=['teochew', 'word'], sep='-')"
   ]
  },
  {
   "cell_type": "code",
   "execution_count": 3,
   "metadata": {},
   "outputs": [],
   "source": [
    "def replace_tilde(tones):\n",
    "    tones = tones.strip() \n",
    "    return tones.replace('~', 'n')\n",
    "\n",
    "data['teochew'] = data['teochew'].apply(replace_tilde)\n",
    "data.word = data.word.apply(lambda x: x.strip())"
   ]
  },
  {
   "cell_type": "markdown",
   "metadata": {},
   "source": [
    "### converted word to pinyin "
   ]
  },
  {
   "cell_type": "code",
   "execution_count": 4,
   "metadata": {},
   "outputs": [
    {
     "data": {
      "text/html": [
       "<div>\n",
       "<style scoped>\n",
       "    .dataframe tbody tr th:only-of-type {\n",
       "        vertical-align: middle;\n",
       "    }\n",
       "\n",
       "    .dataframe tbody tr th {\n",
       "        vertical-align: top;\n",
       "    }\n",
       "\n",
       "    .dataframe thead th {\n",
       "        text-align: right;\n",
       "    }\n",
       "</style>\n",
       "<table border=\"1\" class=\"dataframe\">\n",
       "  <thead>\n",
       "    <tr style=\"text-align: right;\">\n",
       "      <th></th>\n",
       "      <th>teochew</th>\n",
       "      <th>word</th>\n",
       "      <th>mandarin</th>\n",
       "    </tr>\n",
       "  </thead>\n",
       "  <tbody>\n",
       "    <tr>\n",
       "      <td>0</td>\n",
       "      <td>ua52</td>\n",
       "      <td>我</td>\n",
       "      <td>wo3</td>\n",
       "    </tr>\n",
       "    <tr>\n",
       "      <td>1</td>\n",
       "      <td>le52</td>\n",
       "      <td>你</td>\n",
       "      <td>ni3</td>\n",
       "    </tr>\n",
       "    <tr>\n",
       "      <td>2</td>\n",
       "      <td>i3</td>\n",
       "      <td>他</td>\n",
       "      <td>ta1</td>\n",
       "    </tr>\n",
       "    <tr>\n",
       "      <td>3</td>\n",
       "      <td>eui21</td>\n",
       "      <td>会</td>\n",
       "      <td>hui4</td>\n",
       "    </tr>\n",
       "    <tr>\n",
       "      <td>4</td>\n",
       "      <td>da5</td>\n",
       "      <td>说</td>\n",
       "      <td>shuo1</td>\n",
       "    </tr>\n",
       "  </tbody>\n",
       "</table>\n",
       "</div>"
      ],
      "text/plain": [
       "  teochew word mandarin\n",
       "0    ua52    我      wo3\n",
       "1    le52    你      ni3\n",
       "2      i3    他      ta1\n",
       "3   eui21    会     hui4\n",
       "4     da5    说    shuo1"
      ]
     },
     "execution_count": 4,
     "metadata": {},
     "output_type": "execute_result"
    }
   ],
   "source": [
    "p = Pinyin()\n",
    "data['mandarin'] = data['word'].apply(lambda x: p.get_pinyin(x, tone_marks='numbers'))\n",
    "data.head()"
   ]
  },
  {
   "cell_type": "code",
   "execution_count": 5,
   "metadata": {},
   "outputs": [],
   "source": [
    "data['teochew_length'] = data.teochew.apply(lambda x: len(x.split()))\n",
    "data['word_length'] = data.word.apply(lambda x: len(x))\n",
    "data2 = data[data.teochew_length == data.word_length]"
   ]
  },
  {
   "cell_type": "code",
   "execution_count": 6,
   "metadata": {},
   "outputs": [],
   "source": [
    "def extract_teochew_tones(input_teochew):\n",
    "    return \"\".join([c for c in input_teochew if not c.isalpha()])"
   ]
  },
  {
   "cell_type": "code",
   "execution_count": 7,
   "metadata": {},
   "outputs": [
    {
     "name": "stdout",
     "output_type": "stream",
     "text": [
      "   word teochew teochew_tone mandarin mandarin_tone\n",
      "23    的    gai1            1      de5             5\n",
      "28    吗   bue35           35      ma5             5\n",
      "29    么    gai5            5      me5             5\n",
      "49    了   lyo52           52      le5             5\n"
     ]
    }
   ],
   "source": [
    "# split the teochew/mandarin tones\n",
    "pd_word = pd.DataFrame(data2.word.apply(lambda x: list(x)[-1]))\n",
    "pd_teochew = pd.DataFrame(data2.teochew.apply(lambda x: x.split(' ')[-1]))\n",
    "pd_mandarin = pd.DataFrame(data2.mandarin.apply(lambda x: x.split('-')[-1]))\n",
    "\n",
    "pd_word = pd_word.explode('word')\n",
    "pd_teochew = pd_teochew.explode('teochew')\n",
    "pd_mandarin = pd_mandarin.explode('mandarin')\n",
    "\n",
    "pd_teochew['teochew_tone'] = pd_teochew.teochew.apply(extract_teochew_tones)\n",
    "pd_mandarin['mandarin_tone'] = pd_mandarin.mandarin.apply(lambda x: list(x)[-1])\n",
    "                           \n",
    "combined_data = pd.concat([pd_word, pd_teochew, pd_mandarin], axis=1)\n",
    "combined_data.drop_duplicates(subset='word', keep='first', inplace=True)\n",
    "print(combined_data.loc[combined_data['mandarin_tone']=='5'])"
   ]
  },
  {
   "cell_type": "code",
   "execution_count": 8,
   "metadata": {},
   "outputs": [],
   "source": [
    "teochew_tone = combined_data['teochew_tone'].values.tolist()\n",
    "mandarin_tone = combined_data['mandarin_tone'].values.tolist()"
   ]
  },
  {
   "cell_type": "code",
   "execution_count": 9,
   "metadata": {},
   "outputs": [
    {
     "data": {
      "text/plain": [
       "Text(0.5,1,'teochew tones countplot')"
      ]
     },
     "execution_count": 9,
     "metadata": {},
     "output_type": "execute_result"
    },
    {
     "data": {
      "image/png": "[encoded data removed]",
      "text/plain": [
       "<matplotlib.figure.Figure at 0x10e018588>"
      ]
     },
     "metadata": {},
     "output_type": "display_data"
    }
   ],
   "source": [
    "teochew_tone = np.array(teochew_tone) \n",
    "sns.countplot(teochew_tone).set_title(\"teochew tones countplot\")"
   ]
  },
  {
   "cell_type": "code",
   "execution_count": 10,
   "metadata": {},
   "outputs": [
    {
     "data": {
      "text/plain": [
       "Text(0.5,1,'mandarin tones countplot')"
      ]
     },
     "execution_count": 10,
     "metadata": {},
     "output_type": "execute_result"
    },
    {
     "data": {
      "image/png": "[encoded data removed]",
      "text/plain": [
       "<matplotlib.figure.Figure at 0x1a142f4be0>"
      ]
     },
     "metadata": {},
     "output_type": "display_data"
    }
   ],
   "source": [
    "mandarin_tone = np.array(mandarin_tone) \n",
    "sns.countplot(mandarin_tone).set_title(\"mandarin tones countplot\")"
   ]
  },
  {
   "cell_type": "code",
   "execution_count": 11,
   "metadata": {},
   "outputs": [
    {
     "name": "stdout",
     "output_type": "stream",
     "text": [
      "dict_values([25, 30, 13, 23, 29, 15, 12, 17, 15, 14, 13])\n"
     ]
    }
   ],
   "source": [
    "from collections import Counter \n",
    "c = Counter(zip(teochew_tone, mandarin_tone))\n",
    "nc = Counter(el for el in c.elements() if c[el] >= 10)\n",
    "print(nc.values())"
   ]
  },
  {
   "cell_type": "markdown",
   "metadata": {},
   "source": [
    "### Histogram of Teochew and Manderin Tones "
   ]
  },
  {
   "cell_type": "code",
   "execution_count": 12,
   "metadata": {},
   "outputs": [],
   "source": [
    "import matplotlib.pyplot as plt\n",
    "%matplotlib inline\n",
    "import seaborn as sns\n",
    "from matplotlib.pyplot import figure"
   ]
  },
  {
   "cell_type": "code",
   "execution_count": 13,
   "metadata": {},
   "outputs": [
    {
     "data": {
      "image/png": "[encoded data removed]",
      "text/plain": [
       "<matplotlib.figure.Figure at 0x1a1f6910b8>"
      ]
     },
     "metadata": {},
     "output_type": "display_data"
    }
   ],
   "source": [
    "plt.bar([str(k) for k in (nc.keys())], nc.values(), width=0.5, color='g')\n",
    "plt.xticks(rotation='vertical')\n",
    "plt.show()"
   ]
  }
 ],
 "metadata": {
  "kernelspec": {
   "display_name": "Python 3",
   "language": "python",
   "name": "python3"
  },
  "language_info": {
   "codemirror_mode": {
    "name": "ipython",
    "version": 3
   },
   "file_extension": ".py",
   "mimetype": "text/x-python",
   "name": "python",
   "nbconvert_exporter": "python",
   "pygments_lexer": "ipython3",
   "version": "3.6.8"
  }
 },
 "nbformat": 4,
 "nbformat_minor": 2
}
