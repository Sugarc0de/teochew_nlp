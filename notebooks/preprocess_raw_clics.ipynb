{
 "cells": [
  {
   "cell_type": "markdown",
   "metadata": {},
   "source": [
    "### Correspondence between Standard Mandarin and Teochew Language "
   ]
  },
  {
   "cell_type": "code",
   "execution_count": 1,
   "metadata": {},
   "outputs": [],
   "source": [
    "import pandas as pd \n",
    "import sys \n",
    "import re"
   ]
  },
  {
   "cell_type": "code",
   "execution_count": 2,
   "metadata": {},
   "outputs": [],
   "source": [
    "%config IPCompleter.greedy=True"
   ]
  },
  {
   "cell_type": "code",
   "execution_count": 3,
   "metadata": {},
   "outputs": [],
   "source": [
    "# used online tool to convert .tsv to .csv\n",
    "clics_raw = '../data/raw_data/lexibank-beidasinitic-a94870e/raw/'\n",
    "raw_data = '../data/raw_data/'"
   ]
  },
  {
   "cell_type": "code",
   "execution_count": 4,
   "metadata": {
    "scrolled": true
   },
   "outputs": [],
   "source": [
    "dialects_pd = pd.read_csv(raw_data+'output-dialects.txt')\n",
    "\n",
    "# get all teochew data\n",
    "teochew_pd = dialects_pd[dialects_pd.DOCULECT=='Chaozhou']"
   ]
  },
  {
   "cell_type": "code",
   "execution_count": 5,
   "metadata": {},
   "outputs": [
    {
     "data": {
      "text/html": [
       "<div>\n",
       "<style scoped>\n",
       "    .dataframe tbody tr th:only-of-type {\n",
       "        vertical-align: middle;\n",
       "    }\n",
       "\n",
       "    .dataframe tbody tr th {\n",
       "        vertical-align: top;\n",
       "    }\n",
       "\n",
       "    .dataframe thead th {\n",
       "        text-align: right;\n",
       "    }\n",
       "</style>\n",
       "<table border=\"1\" class=\"dataframe\">\n",
       "  <thead>\n",
       "    <tr style=\"text-align: right;\">\n",
       "      <th></th>\n",
       "      <th>BENZI_IN_SOURCE_teo</th>\n",
       "      <th>SEGMENTS_teo</th>\n",
       "      <th>CHINESE</th>\n",
       "    </tr>\n",
       "  </thead>\n",
       "  <tbody>\n",
       "    <tr>\n",
       "      <td>20</td>\n",
       "      <td>三十夜</td>\n",
       "      <td>s ã ∼ ²³/³³ ts a p ²¹/⁴ m e ⁵⁵</td>\n",
       "      <td>除夕</td>\n",
       "    </tr>\n",
       "    <tr>\n",
       "      <td>40</td>\n",
       "      <td>我</td>\n",
       "      <td>u a ⁵³</td>\n",
       "      <td>我</td>\n",
       "    </tr>\n",
       "    <tr>\n",
       "      <td>59</td>\n",
       "      <td>裌裘</td>\n",
       "      <td>k o i ʔ ⁴/²¹ h ĩ ũ ∼ ⁵⁵</td>\n",
       "      <td>夾祅</td>\n",
       "    </tr>\n",
       "    <tr>\n",
       "      <td>76</td>\n",
       "      <td>!</td>\n",
       "      <td>s u ²³/³³ s u ³³</td>\n",
       "      <td>稍微</td>\n",
       "    </tr>\n",
       "    <tr>\n",
       "      <td>91</td>\n",
       "      <td>下</td>\n",
       "      <td>e ¹¹</td>\n",
       "      <td>下(打一下)</td>\n",
       "    </tr>\n",
       "  </tbody>\n",
       "</table>\n",
       "</div>"
      ],
      "text/plain": [
       "   BENZI_IN_SOURCE_teo                    SEGMENTS_teo CHINESE\n",
       "20                 三十夜  s ã ∼ ²³/³³ ts a p ²¹/⁴ m e ⁵⁵      除夕\n",
       "40                   我                          u a ⁵³       我\n",
       "59                  裌裘         k o i ʔ ⁴/²¹ h ĩ ũ ∼ ⁵⁵      夾祅\n",
       "76                   !                s u ²³/³³ s u ³³      稍微\n",
       "91                   下                            e ¹¹  下(打一下)"
      ]
     },
     "execution_count": 5,
     "metadata": {},
     "output_type": "execute_result"
    }
   ],
   "source": [
    "merged_pd = teochew_pd.copy()\n",
    "merged_pd = merged_pd[['BENZI_IN_SOURCE','SEGMENTS','CHINESE']]\n",
    "merged_pd = merged_pd.rename(columns={'BENZI_IN_SOURCE': 'BENZI_IN_SOURCE_teo', \n",
    "                                      'SEGMENTS': 'SEGMENTS_teo', 'CHINESE': 'CHINESE'})\n",
    "merged_pd.head()"
   ]
  },
  {
   "cell_type": "markdown",
   "metadata": {},
   "source": [
    "### Data Wrangling"
   ]
  },
  {
   "cell_type": "code",
   "execution_count": 6,
   "metadata": {},
   "outputs": [
    {
     "data": {
      "text/html": [
       "<div>\n",
       "<style scoped>\n",
       "    .dataframe tbody tr th:only-of-type {\n",
       "        vertical-align: middle;\n",
       "    }\n",
       "\n",
       "    .dataframe tbody tr th {\n",
       "        vertical-align: top;\n",
       "    }\n",
       "\n",
       "    .dataframe thead th {\n",
       "        text-align: right;\n",
       "    }\n",
       "</style>\n",
       "<table border=\"1\" class=\"dataframe\">\n",
       "  <thead>\n",
       "    <tr style=\"text-align: right;\">\n",
       "      <th></th>\n",
       "      <th>BENZI_IN_SOURCE_teo</th>\n",
       "      <th>SEGMENTS_teo</th>\n",
       "      <th>CHINESE</th>\n",
       "    </tr>\n",
       "  </thead>\n",
       "  <tbody>\n",
       "    <tr>\n",
       "      <td>20</td>\n",
       "      <td>三十夜</td>\n",
       "      <td>s ã ∼ ²³/³³ ts a p ²¹/⁴ m e ⁵⁵</td>\n",
       "      <td>除夕</td>\n",
       "    </tr>\n",
       "    <tr>\n",
       "      <td>40</td>\n",
       "      <td>我</td>\n",
       "      <td>u a ⁵³</td>\n",
       "      <td>我</td>\n",
       "    </tr>\n",
       "    <tr>\n",
       "      <td>59</td>\n",
       "      <td>裌裘</td>\n",
       "      <td>k o i ʔ ⁴/²¹ h ĩ ũ ∼ ⁵⁵</td>\n",
       "      <td>夾祅</td>\n",
       "    </tr>\n",
       "    <tr>\n",
       "      <td>91</td>\n",
       "      <td>下</td>\n",
       "      <td>e ¹¹</td>\n",
       "      <td>下(打一下)</td>\n",
       "    </tr>\n",
       "    <tr>\n",
       "      <td>114</td>\n",
       "      <td>算盤</td>\n",
       "      <td>s ɯ ŋ ⁵³/²¹³ p ũ ã ∼ ⁵⁵</td>\n",
       "      <td>算盤</td>\n",
       "    </tr>\n",
       "  </tbody>\n",
       "</table>\n",
       "</div>"
      ],
      "text/plain": [
       "    BENZI_IN_SOURCE_teo                    SEGMENTS_teo CHINESE\n",
       "20                  三十夜  s ã ∼ ²³/³³ ts a p ²¹/⁴ m e ⁵⁵      除夕\n",
       "40                    我                          u a ⁵³       我\n",
       "59                   裌裘         k o i ʔ ⁴/²¹ h ĩ ũ ∼ ⁵⁵      夾祅\n",
       "91                    下                            e ¹¹  下(打一下)\n",
       "114                  算盤         s ɯ ŋ ⁵³/²¹³ p ũ ã ∼ ⁵⁵      算盤"
      ]
     },
     "execution_count": 6,
     "metadata": {},
     "output_type": "execute_result"
    }
   ],
   "source": [
    "merged_pd.drop_duplicates(subset=\"BENZI_IN_SOURCE_teo\", keep='first', inplace=True)\n",
    "\n",
    "# removes extra characters and spaces from beizi_in_source \n",
    "merged_pd['BENZI_IN_SOURCE_teo'] = merged_pd['BENZI_IN_SOURCE_teo'].apply(lambda x: re.sub('[a-zA-Z0-9’!\"#$%&\\'() \\\n",
    "                                                                    *+,-./:;<=>?@，。?★、…【】□\\\n",
    "                                                                    《》？“”‘’！[\\\\]^_`{|}~\\s]+', \"\", str(x)))\n",
    "# removes rows that no chinese words can be found for teochew pronounciation\n",
    "merged_pd = merged_pd.loc[merged_pd['BENZI_IN_SOURCE_teo']!=\"\"]\n",
    "merged_pd.head()"
   ]
  },
  {
   "cell_type": "markdown",
   "metadata": {},
   "source": [
    "### Convert Traditional Chinese to Simplified Chinese/Pinyin"
   ]
  },
  {
   "cell_type": "code",
   "execution_count": 7,
   "metadata": {},
   "outputs": [],
   "source": [
    "from hanziconv import HanziConv\n",
    "from xpinyin import Pinyin"
   ]
  },
  {
   "cell_type": "code",
   "execution_count": 8,
   "metadata": {},
   "outputs": [],
   "source": [
    "merged_pd['BENZI_man'] = merged_pd['BENZI_IN_SOURCE_teo'].apply(lambda x: HanziConv.toSimplified(x))\n",
    "p = Pinyin()\n",
    "merged_pd['pinyin'] = merged_pd['BENZI_man'].apply(lambda x: p.get_pinyin(x, tone_marks='numbers'))"
   ]
  },
  {
   "cell_type": "code",
   "execution_count": 9,
   "metadata": {},
   "outputs": [
    {
     "data": {
      "text/html": [
       "<div>\n",
       "<style scoped>\n",
       "    .dataframe tbody tr th:only-of-type {\n",
       "        vertical-align: middle;\n",
       "    }\n",
       "\n",
       "    .dataframe tbody tr th {\n",
       "        vertical-align: top;\n",
       "    }\n",
       "\n",
       "    .dataframe thead th {\n",
       "        text-align: right;\n",
       "    }\n",
       "</style>\n",
       "<table border=\"1\" class=\"dataframe\">\n",
       "  <thead>\n",
       "    <tr style=\"text-align: right;\">\n",
       "      <th></th>\n",
       "      <th>BENZI_IN_SOURCE_teo</th>\n",
       "      <th>SEGMENTS_teo</th>\n",
       "      <th>CHINESE</th>\n",
       "      <th>BENZI_man</th>\n",
       "      <th>pinyin</th>\n",
       "    </tr>\n",
       "  </thead>\n",
       "  <tbody>\n",
       "    <tr>\n",
       "      <td>20</td>\n",
       "      <td>三十夜</td>\n",
       "      <td>s ã ∼ ²³/³³ ts a p ²¹/⁴ m e ⁵⁵</td>\n",
       "      <td>除夕</td>\n",
       "      <td>三十夜</td>\n",
       "      <td>san1-shi2-ye4</td>\n",
       "    </tr>\n",
       "    <tr>\n",
       "      <td>40</td>\n",
       "      <td>我</td>\n",
       "      <td>u a ⁵³</td>\n",
       "      <td>我</td>\n",
       "      <td>我</td>\n",
       "      <td>wo3</td>\n",
       "    </tr>\n",
       "    <tr>\n",
       "      <td>59</td>\n",
       "      <td>裌裘</td>\n",
       "      <td>k o i ʔ ⁴/²¹ h ĩ ũ ∼ ⁵⁵</td>\n",
       "      <td>夾祅</td>\n",
       "      <td>裌裘</td>\n",
       "      <td>jia2-qiu2</td>\n",
       "    </tr>\n",
       "    <tr>\n",
       "      <td>91</td>\n",
       "      <td>下</td>\n",
       "      <td>e ¹¹</td>\n",
       "      <td>下(打一下)</td>\n",
       "      <td>下</td>\n",
       "      <td>xia4</td>\n",
       "    </tr>\n",
       "    <tr>\n",
       "      <td>114</td>\n",
       "      <td>算盤</td>\n",
       "      <td>s ɯ ŋ ⁵³/²¹³ p ũ ã ∼ ⁵⁵</td>\n",
       "      <td>算盤</td>\n",
       "      <td>算盘</td>\n",
       "      <td>suan4-pan2</td>\n",
       "    </tr>\n",
       "    <tr>\n",
       "      <td>132</td>\n",
       "      <td>伴</td>\n",
       "      <td>pʰ ũ ã ∼ ³⁵</td>\n",
       "      <td>陪</td>\n",
       "      <td>伴</td>\n",
       "      <td>ban4</td>\n",
       "    </tr>\n",
       "    <tr>\n",
       "      <td>133</td>\n",
       "      <td>陪</td>\n",
       "      <td>p u e ⁵⁵</td>\n",
       "      <td>陪</td>\n",
       "      <td>陪</td>\n",
       "      <td>pei2</td>\n",
       "    </tr>\n",
       "    <tr>\n",
       "      <td>154</td>\n",
       "      <td>疊</td>\n",
       "      <td>tʰ i ə p ⁴</td>\n",
       "      <td>疊(堆疊)</td>\n",
       "      <td>叠</td>\n",
       "      <td>die2</td>\n",
       "    </tr>\n",
       "    <tr>\n",
       "      <td>172</td>\n",
       "      <td>事</td>\n",
       "      <td>s ɿ ¹¹</td>\n",
       "      <td>事情</td>\n",
       "      <td>事</td>\n",
       "      <td>shi4</td>\n",
       "    </tr>\n",
       "    <tr>\n",
       "      <td>192</td>\n",
       "      <td>下掛</td>\n",
       "      <td>e ²¹/³⁵ k u a ²¹³</td>\n",
       "      <td>下午</td>\n",
       "      <td>下挂</td>\n",
       "      <td>xia4-gua4</td>\n",
       "    </tr>\n",
       "  </tbody>\n",
       "</table>\n",
       "</div>"
      ],
      "text/plain": [
       "    BENZI_IN_SOURCE_teo                    SEGMENTS_teo CHINESE BENZI_man  \\\n",
       "20                  三十夜  s ã ∼ ²³/³³ ts a p ²¹/⁴ m e ⁵⁵      除夕       三十夜   \n",
       "40                    我                          u a ⁵³       我         我   \n",
       "59                   裌裘         k o i ʔ ⁴/²¹ h ĩ ũ ∼ ⁵⁵      夾祅        裌裘   \n",
       "91                    下                            e ¹¹  下(打一下)         下   \n",
       "114                  算盤         s ɯ ŋ ⁵³/²¹³ p ũ ã ∼ ⁵⁵      算盤        算盘   \n",
       "132                   伴                     pʰ ũ ã ∼ ³⁵       陪         伴   \n",
       "133                   陪                        p u e ⁵⁵       陪         陪   \n",
       "154                   疊                      tʰ i ə p ⁴   疊(堆疊)         叠   \n",
       "172                   事                          s ɿ ¹¹      事情         事   \n",
       "192                  下掛               e ²¹/³⁵ k u a ²¹³      下午        下挂   \n",
       "\n",
       "            pinyin  \n",
       "20   san1-shi2-ye4  \n",
       "40             wo3  \n",
       "59       jia2-qiu2  \n",
       "91            xia4  \n",
       "114     suan4-pan2  \n",
       "132           ban4  \n",
       "133           pei2  \n",
       "154           die2  \n",
       "172           shi4  \n",
       "192      xia4-gua4  "
      ]
     },
     "execution_count": 9,
     "metadata": {},
     "output_type": "execute_result"
    }
   ],
   "source": [
    "merged_pd.head(10)"
   ]
  },
  {
   "cell_type": "markdown",
   "metadata": {},
   "source": [
    "### Separate Citation tones with Sandhi Tones for Teochew"
   ]
  },
  {
   "cell_type": "code",
   "execution_count": 10,
   "metadata": {},
   "outputs": [
    {
     "name": "stdout",
     "output_type": "stream",
     "text": [
      "(['213', '55'], ['s', 'p'], ['ɯŋ', 'ũã∼'])\n"
     ]
    }
   ],
   "source": [
    "SUB = str.maketrans(\"₀₁₂₃₄₅₆₇₈₉\", \"0123456789\")\n",
    "SUP = str.maketrans(\"⁰¹²³⁴⁵⁶⁷⁸⁹\", \"0123456789\")\n",
    "\n",
    "CONSONANTS = {'m', 'n', 'ŋ', 'pʰ', 'tʰ', 'kʰ', 'p', 't', 'k', 'g',\n",
    "              'b', 'tsʰ', 'ts', 's', 'z', 'dz', 'l', 'h', 'h̃'}\n",
    "\n",
    "merged_pd['citation_teo'] = merged_pd['SEGMENTS_teo'].apply(lambda x: x.translate(SUP))\n",
    "\n",
    "def get_teochew_parts(s, delimit=' '):\n",
    "    s = s.translate(SUP)\n",
    "    citation, initials, finals = [], [], [] \n",
    "    placeholder = \"\" \n",
    "    blocks = s.split(delimit)\n",
    "    for idx, block in enumerate(blocks):\n",
    "        if any(c.isdigit() for c in block):\n",
    "            citation.append(block.split('/')[-1]) \n",
    "            finals.append(placeholder)\n",
    "            placeholder = \"\"\n",
    "        elif block in CONSONANTS and blocks[idx-1][-1].isdigit():\n",
    "            initials.append(block)\n",
    "        else:\n",
    "            if blocks[idx-1][-1].isdigit():\n",
    "                initials.append(\"\")\n",
    "            placeholder = placeholder + block\n",
    "            \n",
    "    return citation, initials, finals  \n",
    "\n",
    "print(get_teochew_parts('s ɯ ŋ ⁵³/²¹³ p ũ ã ∼ ⁵⁵'))\n",
    "merged_pd['citation_teo'], merged_pd['initial_teo'], merged_pd['final_teo'] = \\\n",
    "zip(*merged_pd['citation_teo'].apply(lambda x: get_teochew_parts(x)))"
   ]
  },
  {
   "cell_type": "code",
   "execution_count": 11,
   "metadata": {},
   "outputs": [
    {
     "data": {
      "text/html": [
       "<div>\n",
       "<style scoped>\n",
       "    .dataframe tbody tr th:only-of-type {\n",
       "        vertical-align: middle;\n",
       "    }\n",
       "\n",
       "    .dataframe tbody tr th {\n",
       "        vertical-align: top;\n",
       "    }\n",
       "\n",
       "    .dataframe thead th {\n",
       "        text-align: right;\n",
       "    }\n",
       "</style>\n",
       "<table border=\"1\" class=\"dataframe\">\n",
       "  <thead>\n",
       "    <tr style=\"text-align: right;\">\n",
       "      <th></th>\n",
       "      <th>BENZI_IN_SOURCE_teo</th>\n",
       "      <th>SEGMENTS_teo</th>\n",
       "      <th>CHINESE</th>\n",
       "      <th>BENZI_man</th>\n",
       "      <th>pinyin</th>\n",
       "      <th>citation_teo</th>\n",
       "      <th>initial_teo</th>\n",
       "      <th>final_teo</th>\n",
       "    </tr>\n",
       "  </thead>\n",
       "  <tbody>\n",
       "    <tr>\n",
       "      <td>20</td>\n",
       "      <td>三十夜</td>\n",
       "      <td>s ã ∼ ²³/³³ ts a p ²¹/⁴ m e ⁵⁵</td>\n",
       "      <td>除夕</td>\n",
       "      <td>三十夜</td>\n",
       "      <td>san1-shi2-ye4</td>\n",
       "      <td>[33, 4, 55]</td>\n",
       "      <td>[s, ts, m]</td>\n",
       "      <td>[ã∼, ap, e]</td>\n",
       "    </tr>\n",
       "    <tr>\n",
       "      <td>40</td>\n",
       "      <td>我</td>\n",
       "      <td>u a ⁵³</td>\n",
       "      <td>我</td>\n",
       "      <td>我</td>\n",
       "      <td>wo3</td>\n",
       "      <td>[53]</td>\n",
       "      <td>[]</td>\n",
       "      <td>[ua]</td>\n",
       "    </tr>\n",
       "    <tr>\n",
       "      <td>59</td>\n",
       "      <td>裌裘</td>\n",
       "      <td>k o i ʔ ⁴/²¹ h ĩ ũ ∼ ⁵⁵</td>\n",
       "      <td>夾祅</td>\n",
       "      <td>裌裘</td>\n",
       "      <td>jia2-qiu2</td>\n",
       "      <td>[21, 55]</td>\n",
       "      <td>[k, h]</td>\n",
       "      <td>[oiʔ, ĩũ∼]</td>\n",
       "    </tr>\n",
       "    <tr>\n",
       "      <td>91</td>\n",
       "      <td>下</td>\n",
       "      <td>e ¹¹</td>\n",
       "      <td>下(打一下)</td>\n",
       "      <td>下</td>\n",
       "      <td>xia4</td>\n",
       "      <td>[11]</td>\n",
       "      <td>[]</td>\n",
       "      <td>[e]</td>\n",
       "    </tr>\n",
       "    <tr>\n",
       "      <td>114</td>\n",
       "      <td>算盤</td>\n",
       "      <td>s ɯ ŋ ⁵³/²¹³ p ũ ã ∼ ⁵⁵</td>\n",
       "      <td>算盤</td>\n",
       "      <td>算盘</td>\n",
       "      <td>suan4-pan2</td>\n",
       "      <td>[213, 55]</td>\n",
       "      <td>[s, p]</td>\n",
       "      <td>[ɯŋ, ũã∼]</td>\n",
       "    </tr>\n",
       "  </tbody>\n",
       "</table>\n",
       "</div>"
      ],
      "text/plain": [
       "    BENZI_IN_SOURCE_teo                    SEGMENTS_teo CHINESE BENZI_man  \\\n",
       "20                  三十夜  s ã ∼ ²³/³³ ts a p ²¹/⁴ m e ⁵⁵      除夕       三十夜   \n",
       "40                    我                          u a ⁵³       我         我   \n",
       "59                   裌裘         k o i ʔ ⁴/²¹ h ĩ ũ ∼ ⁵⁵      夾祅        裌裘   \n",
       "91                    下                            e ¹¹  下(打一下)         下   \n",
       "114                  算盤         s ɯ ŋ ⁵³/²¹³ p ũ ã ∼ ⁵⁵      算盤        算盘   \n",
       "\n",
       "            pinyin citation_teo initial_teo    final_teo  \n",
       "20   san1-shi2-ye4  [33, 4, 55]  [s, ts, m]  [ã∼, ap, e]  \n",
       "40             wo3         [53]          []         [ua]  \n",
       "59       jia2-qiu2     [21, 55]      [k, h]   [oiʔ, ĩũ∼]  \n",
       "91            xia4         [11]          []          [e]  \n",
       "114     suan4-pan2    [213, 55]      [s, p]    [ɯŋ, ũã∼]  "
      ]
     },
     "execution_count": 11,
     "metadata": {},
     "output_type": "execute_result"
    }
   ],
   "source": [
    "merged_pd.head()"
   ]
  },
  {
   "cell_type": "code",
   "execution_count": 12,
   "metadata": {},
   "outputs": [
    {
     "name": "stdout",
     "output_type": "stream",
     "text": [
      "Total number of initials is 23 and finals is 34\n"
     ]
    }
   ],
   "source": [
    "# initials and finals for pinyin\n",
    "INITIALS = {'b', 'p', 'm', 'f', 'd', 't', 'n', 'l', 'g', 'k', 'h', 'j',\n",
    "                'q', 'x', 'zh', 'ch', 'sh', 'r', 'z', 'c', 's', 'w', 'y'}\n",
    "\n",
    "FINALS = {'in', 'ao', 've', 'en', 'ai', 'ei', 'ie', 'an', 'ong', 'ui', 'eng', \n",
    "          'e', 'ing', 'u', 'v', 'er', 'i', 'a', 'ang', 'un', 'o', 'iu', 'vn',\n",
    "          'ia', 'ian', 'iang', 'iao', 'iong', 'ua', 'uai', 'uan', 'uang', 'uo', 'van'}\n",
    "\n",
    "print(\"Total number of initials is {} and finals is {}\".format(len(INITIALS), len(FINALS)))"
   ]
  },
  {
   "cell_type": "code",
   "execution_count": 13,
   "metadata": {},
   "outputs": [
    {
     "name": "stdout",
     "output_type": "stream",
     "text": [
      "(['', 'y', 'h', 'y', 'g', 'k', 'k', 'd', 'j', 'b'], ['a', 'vn', 'ui', 'i', 'e', 'uan', 'uo', 'e', 'ian', 'ang'])\n"
     ]
    }
   ],
   "source": [
    "# get_parts returns initials if n = 1, and returns finals if n = 2 \n",
    "def get_parts(x):\n",
    "    pinyin = x.split('-')\n",
    "    initials = []\n",
    "    finals = [] \n",
    "    for syllable in pinyin: \n",
    "        if syllable[0] + syllable[1] in INITIALS:\n",
    "            initials.append(syllable[0]+syllable[1])\n",
    "            finals.append(syllable[2:-1])  \n",
    "            \n",
    "        elif syllable[0] in INITIALS:\n",
    "            initials.append(syllable[0])\n",
    "            # convert u to v for special cases \n",
    "            if syllable[0] in ['j', 'q', 'x', 'y'] and syllable[1] == 'u':\n",
    "                finals.append(syllable[1:-1].replace('u', 'v'))\n",
    "            else:\n",
    "                finals.append(syllable[1:-1])  \n",
    "            \n",
    "        else:\n",
    "            initials.append(\"\")\n",
    "            finals.append(syllable[:-1])\n",
    "    return initials, finals \n",
    "    \n",
    "print(get_parts('a4-yun4-hui4-yi1-ge4-kuan1-kuo4-de5-jian1-bang3'))"
   ]
  },
  {
   "cell_type": "code",
   "execution_count": 14,
   "metadata": {},
   "outputs": [
    {
     "name": "stderr",
     "output_type": "stream",
     "text": [
      "/Users/elaineye/anaconda3/lib/python3.6/site-packages/ipykernel_launcher.py:4: FutureWarning: The reduce argument is deprecated and will be removed in a future version. You can specify result_type='reduce' to try to reduce the result to the original dimensions\n",
      "  after removing the cwd from sys.path.\n"
     ]
    },
    {
     "ename": "AttributeError",
     "evalue": "(\"'str' object has no attribute 'isascii'\", 'occurred at index 20')",
     "output_type": "error",
     "traceback": [
      "\u001b[0;31m---------------------------------------------------------------------------\u001b[0m",
      "\u001b[0;31mAttributeError\u001b[0m                            Traceback (most recent call last)",
      "\u001b[0;32m<ipython-input-14-428eff4195d4>\u001b[0m in \u001b[0;36m<module>\u001b[0;34m()\u001b[0m\n\u001b[1;32m      2\u001b[0m     \u001b[0;32mreturn\u001b[0m \u001b[0mdf\u001b[0m\u001b[0;34m[\u001b[0m\u001b[0;34m'pinyin'\u001b[0m\u001b[0;34m]\u001b[0m\u001b[0;34m.\u001b[0m\u001b[0mreplace\u001b[0m\u001b[0;34m(\u001b[0m\u001b[0;34m\" \"\u001b[0m\u001b[0;34m,\u001b[0m \u001b[0;34m\"\"\u001b[0m\u001b[0;34m)\u001b[0m\u001b[0;34m.\u001b[0m\u001b[0misascii\u001b[0m\u001b[0;34m(\u001b[0m\u001b[0;34m)\u001b[0m\u001b[0;34m\u001b[0m\u001b[0;34m\u001b[0m\u001b[0m\n\u001b[1;32m      3\u001b[0m \u001b[0;34m\u001b[0m\u001b[0m\n\u001b[0;32m----> 4\u001b[0;31m \u001b[0mmerged_pd\u001b[0m \u001b[0;34m=\u001b[0m \u001b[0mmerged_pd\u001b[0m\u001b[0;34m[\u001b[0m\u001b[0mmerged_pd\u001b[0m\u001b[0;34m.\u001b[0m\u001b[0mapply\u001b[0m\u001b[0;34m(\u001b[0m\u001b[0mfilter_non_pinyin\u001b[0m\u001b[0;34m,\u001b[0m \u001b[0maxis\u001b[0m\u001b[0;34m=\u001b[0m\u001b[0;36m1\u001b[0m\u001b[0;34m,\u001b[0m \u001b[0mreduce\u001b[0m\u001b[0;34m=\u001b[0m\u001b[0;32mTrue\u001b[0m\u001b[0;34m)\u001b[0m\u001b[0;34m]\u001b[0m\u001b[0;34m\u001b[0m\u001b[0;34m\u001b[0m\u001b[0m\n\u001b[0m",
      "\u001b[0;32m~/anaconda3/lib/python3.6/site-packages/pandas/core/frame.py\u001b[0m in \u001b[0;36mapply\u001b[0;34m(self, func, axis, broadcast, raw, reduce, result_type, args, **kwds)\u001b[0m\n\u001b[1;32m   6911\u001b[0m             \u001b[0mkwds\u001b[0m\u001b[0;34m=\u001b[0m\u001b[0mkwds\u001b[0m\u001b[0;34m,\u001b[0m\u001b[0;34m\u001b[0m\u001b[0;34m\u001b[0m\u001b[0m\n\u001b[1;32m   6912\u001b[0m         )\n\u001b[0;32m-> 6913\u001b[0;31m         \u001b[0;32mreturn\u001b[0m \u001b[0mop\u001b[0m\u001b[0;34m.\u001b[0m\u001b[0mget_result\u001b[0m\u001b[0;34m(\u001b[0m\u001b[0;34m)\u001b[0m\u001b[0;34m\u001b[0m\u001b[0;34m\u001b[0m\u001b[0m\n\u001b[0m\u001b[1;32m   6914\u001b[0m \u001b[0;34m\u001b[0m\u001b[0m\n\u001b[1;32m   6915\u001b[0m     \u001b[0;32mdef\u001b[0m \u001b[0mapplymap\u001b[0m\u001b[0;34m(\u001b[0m\u001b[0mself\u001b[0m\u001b[0;34m,\u001b[0m \u001b[0mfunc\u001b[0m\u001b[0;34m)\u001b[0m\u001b[0;34m:\u001b[0m\u001b[0;34m\u001b[0m\u001b[0;34m\u001b[0m\u001b[0m\n",
      "\u001b[0;32m~/anaconda3/lib/python3.6/site-packages/pandas/core/apply.py\u001b[0m in \u001b[0;36mget_result\u001b[0;34m(self)\u001b[0m\n\u001b[1;32m    184\u001b[0m             \u001b[0;32mreturn\u001b[0m \u001b[0mself\u001b[0m\u001b[0;34m.\u001b[0m\u001b[0mapply_raw\u001b[0m\u001b[0;34m(\u001b[0m\u001b[0;34m)\u001b[0m\u001b[0;34m\u001b[0m\u001b[0;34m\u001b[0m\u001b[0m\n\u001b[1;32m    185\u001b[0m \u001b[0;34m\u001b[0m\u001b[0m\n\u001b[0;32m--> 186\u001b[0;31m         \u001b[0;32mreturn\u001b[0m \u001b[0mself\u001b[0m\u001b[0;34m.\u001b[0m\u001b[0mapply_standard\u001b[0m\u001b[0;34m(\u001b[0m\u001b[0;34m)\u001b[0m\u001b[0;34m\u001b[0m\u001b[0;34m\u001b[0m\u001b[0m\n\u001b[0m\u001b[1;32m    187\u001b[0m \u001b[0;34m\u001b[0m\u001b[0m\n\u001b[1;32m    188\u001b[0m     \u001b[0;32mdef\u001b[0m \u001b[0mapply_empty_result\u001b[0m\u001b[0;34m(\u001b[0m\u001b[0mself\u001b[0m\u001b[0;34m)\u001b[0m\u001b[0;34m:\u001b[0m\u001b[0;34m\u001b[0m\u001b[0;34m\u001b[0m\u001b[0m\n",
      "\u001b[0;32m~/anaconda3/lib/python3.6/site-packages/pandas/core/apply.py\u001b[0m in \u001b[0;36mapply_standard\u001b[0;34m(self)\u001b[0m\n\u001b[1;32m    290\u001b[0m \u001b[0;34m\u001b[0m\u001b[0m\n\u001b[1;32m    291\u001b[0m         \u001b[0;31m# compute the result using the series generator\u001b[0m\u001b[0;34m\u001b[0m\u001b[0;34m\u001b[0m\u001b[0;34m\u001b[0m\u001b[0m\n\u001b[0;32m--> 292\u001b[0;31m         \u001b[0mself\u001b[0m\u001b[0;34m.\u001b[0m\u001b[0mapply_series_generator\u001b[0m\u001b[0;34m(\u001b[0m\u001b[0;34m)\u001b[0m\u001b[0;34m\u001b[0m\u001b[0;34m\u001b[0m\u001b[0m\n\u001b[0m\u001b[1;32m    293\u001b[0m \u001b[0;34m\u001b[0m\u001b[0m\n\u001b[1;32m    294\u001b[0m         \u001b[0;31m# wrap results\u001b[0m\u001b[0;34m\u001b[0m\u001b[0;34m\u001b[0m\u001b[0;34m\u001b[0m\u001b[0m\n",
      "\u001b[0;32m~/anaconda3/lib/python3.6/site-packages/pandas/core/apply.py\u001b[0m in \u001b[0;36mapply_series_generator\u001b[0;34m(self)\u001b[0m\n\u001b[1;32m    319\u001b[0m             \u001b[0;32mtry\u001b[0m\u001b[0;34m:\u001b[0m\u001b[0;34m\u001b[0m\u001b[0;34m\u001b[0m\u001b[0m\n\u001b[1;32m    320\u001b[0m                 \u001b[0;32mfor\u001b[0m \u001b[0mi\u001b[0m\u001b[0;34m,\u001b[0m \u001b[0mv\u001b[0m \u001b[0;32min\u001b[0m \u001b[0menumerate\u001b[0m\u001b[0;34m(\u001b[0m\u001b[0mseries_gen\u001b[0m\u001b[0;34m)\u001b[0m\u001b[0;34m:\u001b[0m\u001b[0;34m\u001b[0m\u001b[0;34m\u001b[0m\u001b[0m\n\u001b[0;32m--> 321\u001b[0;31m                     \u001b[0mresults\u001b[0m\u001b[0;34m[\u001b[0m\u001b[0mi\u001b[0m\u001b[0;34m]\u001b[0m \u001b[0;34m=\u001b[0m \u001b[0mself\u001b[0m\u001b[0;34m.\u001b[0m\u001b[0mf\u001b[0m\u001b[0;34m(\u001b[0m\u001b[0mv\u001b[0m\u001b[0;34m)\u001b[0m\u001b[0;34m\u001b[0m\u001b[0;34m\u001b[0m\u001b[0m\n\u001b[0m\u001b[1;32m    322\u001b[0m                     \u001b[0mkeys\u001b[0m\u001b[0;34m.\u001b[0m\u001b[0mappend\u001b[0m\u001b[0;34m(\u001b[0m\u001b[0mv\u001b[0m\u001b[0;34m.\u001b[0m\u001b[0mname\u001b[0m\u001b[0;34m)\u001b[0m\u001b[0;34m\u001b[0m\u001b[0;34m\u001b[0m\u001b[0m\n\u001b[1;32m    323\u001b[0m             \u001b[0;32mexcept\u001b[0m \u001b[0mException\u001b[0m \u001b[0;32mas\u001b[0m \u001b[0me\u001b[0m\u001b[0;34m:\u001b[0m\u001b[0;34m\u001b[0m\u001b[0;34m\u001b[0m\u001b[0m\n",
      "\u001b[0;32m<ipython-input-14-428eff4195d4>\u001b[0m in \u001b[0;36mfilter_non_pinyin\u001b[0;34m(df)\u001b[0m\n\u001b[1;32m      1\u001b[0m \u001b[0;32mdef\u001b[0m \u001b[0mfilter_non_pinyin\u001b[0m\u001b[0;34m(\u001b[0m\u001b[0mdf\u001b[0m\u001b[0;34m)\u001b[0m\u001b[0;34m:\u001b[0m\u001b[0;34m\u001b[0m\u001b[0;34m\u001b[0m\u001b[0m\n\u001b[0;32m----> 2\u001b[0;31m     \u001b[0;32mreturn\u001b[0m \u001b[0mdf\u001b[0m\u001b[0;34m[\u001b[0m\u001b[0;34m'pinyin'\u001b[0m\u001b[0;34m]\u001b[0m\u001b[0;34m.\u001b[0m\u001b[0mreplace\u001b[0m\u001b[0;34m(\u001b[0m\u001b[0;34m\" \"\u001b[0m\u001b[0;34m,\u001b[0m \u001b[0;34m\"\"\u001b[0m\u001b[0;34m)\u001b[0m\u001b[0;34m.\u001b[0m\u001b[0misascii\u001b[0m\u001b[0;34m(\u001b[0m\u001b[0;34m)\u001b[0m\u001b[0;34m\u001b[0m\u001b[0;34m\u001b[0m\u001b[0m\n\u001b[0m\u001b[1;32m      3\u001b[0m \u001b[0;34m\u001b[0m\u001b[0m\n\u001b[1;32m      4\u001b[0m \u001b[0mmerged_pd\u001b[0m \u001b[0;34m=\u001b[0m \u001b[0mmerged_pd\u001b[0m\u001b[0;34m[\u001b[0m\u001b[0mmerged_pd\u001b[0m\u001b[0;34m.\u001b[0m\u001b[0mapply\u001b[0m\u001b[0;34m(\u001b[0m\u001b[0mfilter_non_pinyin\u001b[0m\u001b[0;34m,\u001b[0m \u001b[0maxis\u001b[0m\u001b[0;34m=\u001b[0m\u001b[0;36m1\u001b[0m\u001b[0;34m,\u001b[0m \u001b[0mreduce\u001b[0m\u001b[0;34m=\u001b[0m\u001b[0;32mTrue\u001b[0m\u001b[0;34m)\u001b[0m\u001b[0;34m]\u001b[0m\u001b[0;34m\u001b[0m\u001b[0;34m\u001b[0m\u001b[0m\n",
      "\u001b[0;31mAttributeError\u001b[0m: (\"'str' object has no attribute 'isascii'\", 'occurred at index 20')"
     ]
    }
   ],
   "source": [
    "def filter_non_pinyin(df):\n",
    "    return df['pinyin'].replace(\" \", \"\").isascii() \n",
    "\n",
    "merged_pd = merged_pd[merged_pd.apply(filter_non_pinyin, axis=1, reduce=True)]"
   ]
  },
  {
   "cell_type": "code",
   "execution_count": null,
   "metadata": {},
   "outputs": [],
   "source": [
    "merged_pd['citation_man'] = merged_pd['pinyin'].apply(lambda x: [t[-1] for t in x.split('-')])\n",
    "merged_pd['initial_man'], merged_pd['final_man'] = zip(*merged_pd['pinyin'].apply(lambda x: get_parts(x))) "
   ]
  },
  {
   "cell_type": "code",
   "execution_count": null,
   "metadata": {},
   "outputs": [],
   "source": [
    "merged_pd_copy = pd.DataFrame(merged_pd,columns=['BENZI_IN_SOURCE_teo','BENZI_man','citation_teo',\n",
    "                                                 'initial_teo','final_teo', \n",
    "                                                 'citation_man','initial_man','final_man'])\n",
    "\n",
    "merged_pd_copy = merged_pd_copy[merged_pd_copy.citation_teo.map(len)==merged_pd_copy.citation_man.map(len)]\n",
    "\n",
    "pd1 = pd.DataFrame(merged_pd_copy['BENZI_IN_SOURCE_teo'].apply(lambda x: list(x)))\n",
    "pd2 = pd.DataFrame(merged_pd_copy['BENZI_man'].apply(lambda x: list(x)))\n",
    "pd3 = pd.DataFrame(merged_pd_copy['citation_teo'])\n",
    "pd4 = pd.DataFrame(merged_pd_copy['initial_teo'])\n",
    "pd5 = pd.DataFrame(merged_pd_copy['final_teo'])\n",
    "pd6 = pd.DataFrame(merged_pd_copy['citation_man'])\n",
    "pd7 = pd.DataFrame(merged_pd_copy['initial_man'])\n",
    "pd8 = pd.DataFrame(merged_pd_copy['final_man'])\n",
    "\n",
    "pd1 = pd1.explode('BENZI_IN_SOURCE_teo')\n",
    "pd2 = pd2.explode('BENZI_man')\n",
    "pd3 = pd3.explode('citation_teo')\n",
    "pd4 = pd4.explode('initial_teo')\n",
    "pd5 = pd5.explode('final_teo')\n",
    "pd6 = pd6.explode('citation_man')\n",
    "pd7 = pd7.explode('initial_man')\n",
    "pd8 = pd8.explode('final_man')\n",
    "combined_data = pd.concat([pd1, pd2, pd3, pd4, pd5, pd6, pd7, pd8], axis=1)\n",
    "combined_data.drop_duplicates(subset=\"BENZI_IN_SOURCE_teo\", keep='first', inplace=True)"
   ]
  },
  {
   "cell_type": "code",
   "execution_count": null,
   "metadata": {},
   "outputs": [],
   "source": [
    "combined_data.sample(10)"
   ]
  },
  {
   "cell_type": "code",
   "execution_count": null,
   "metadata": {},
   "outputs": [],
   "source": [
    "model_input = combined_data.to_csv('../data/clean_data/model_input.csv', index = None, header=True)"
   ]
  },
  {
   "cell_type": "markdown",
   "metadata": {},
   "source": [
    "### Group the Citation Tones by Teochew/Mandarin"
   ]
  },
  {
   "cell_type": "code",
   "execution_count": null,
   "metadata": {},
   "outputs": [],
   "source": [
    "# drop the 52 tone since there are only two cases, probably transcription error \n",
    "combined_data = combined_data.loc[~combined_data.citation_teo.str.contains('52')]"
   ]
  },
  {
   "cell_type": "code",
   "execution_count": null,
   "metadata": {},
   "outputs": [],
   "source": [
    "teochew_citation = combined_data['citation_teo'].values.tolist() \n",
    "mandarin_citation = combined_data['citation_man'].values.tolist() \n",
    "dic = dict() \n",
    "for tc, mc in zip(teochew_citation, mandarin_citation):\n",
    "    if (tc, mc) not in dic:\n",
    "        dic[(tc, mc)] = 1 \n",
    "        continue \n",
    "    dic[(tc, mc)] += 1 \n",
    "print(sum(dic.values()))"
   ]
  },
  {
   "cell_type": "code",
   "execution_count": null,
   "metadata": {},
   "outputs": [],
   "source": [
    "teochew_mapping = {'33':'mid', '11':'low', '21':'low_checked', \n",
    "                   '213':'low_rising', '35':'high_rising', \n",
    "                   '4':'high_checked', '53':'falling', '55':'high'} \n",
    "\n",
    "mandarin_mapping = {'1': 'high', '2': 'rising', '3': 'dipping', '4': 'falling'}"
   ]
  },
  {
   "cell_type": "code",
   "execution_count": null,
   "metadata": {},
   "outputs": [],
   "source": [
    "freq_pd = pd.DataFrame(columns=['teochew_tone', 'mandarin_tone', 'frequency'])\n",
    "idx = 0\n",
    "for (teochew_tone, mandarin_tone), freq in dic.items():\n",
    "    freq_pd.loc[idx] = [teochew_mapping[teochew_tone]+'({})'.format(teochew_tone), \n",
    "                        mandarin_mapping[mandarin_tone]+'({})'.format(mandarin_tone), freq]\n",
    "    idx += 1 \n",
    "freq_pd.head()"
   ]
  },
  {
   "cell_type": "markdown",
   "metadata": {},
   "source": [
    "### Data Visualization"
   ]
  },
  {
   "cell_type": "code",
   "execution_count": null,
   "metadata": {},
   "outputs": [],
   "source": [
    "pd.crosstab(freq_pd[\"teochew_tone\"], freq_pd['mandarin_tone'], values=freq_pd['frequency'],\n",
    "           aggfunc=lambda x: x)"
   ]
  },
  {
   "cell_type": "markdown",
   "metadata": {},
   "source": [
    "### Export the dataframe to R for Visualization "
   ]
  },
  {
   "cell_type": "code",
   "execution_count": null,
   "metadata": {},
   "outputs": [],
   "source": [
    "#export_csv = freq_pd.to_csv('../output/r_input.csv', index = None, header=True)"
   ]
  }
 ],
 "metadata": {
  "kernelspec": {
   "display_name": "Python 3",
   "language": "python",
   "name": "python3"
  },
  "language_info": {
   "codemirror_mode": {
    "name": "ipython",
    "version": 3
   },
   "file_extension": ".py",
   "mimetype": "text/x-python",
   "name": "python",
   "nbconvert_exporter": "python",
   "pygments_lexer": "ipython3",
   "version": "3.6.8"
  }
 },
 "nbformat": 4,
 "nbformat_minor": 2
}
