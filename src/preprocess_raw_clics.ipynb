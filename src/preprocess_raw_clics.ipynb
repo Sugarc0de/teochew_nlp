{
 "cells": [
  {
   "cell_type": "markdown",
   "metadata": {},
   "source": [
    "### Correspondence between Beijing Mandarin and Teochew Language "
   ]
  },
  {
   "cell_type": "code",
   "execution_count": 1,
   "metadata": {},
   "outputs": [],
   "source": [
    "import pandas as pd \n",
    "import sys \n",
    "import re"
   ]
  },
  {
   "cell_type": "code",
   "execution_count": 2,
   "metadata": {},
   "outputs": [],
   "source": [
    "%config IPCompleter.greedy=True"
   ]
  },
  {
   "cell_type": "code",
   "execution_count": 3,
   "metadata": {},
   "outputs": [],
   "source": [
    "# used online tool to convert .tsv to .csv\n",
    "clics_raw = '../raw_data/lexibank-beidasinitic-a94870e/raw/'\n",
    "raw_data = '../raw_data/'"
   ]
  },
  {
   "cell_type": "code",
   "execution_count": 4,
   "metadata": {
    "scrolled": true
   },
   "outputs": [],
   "source": [
    "dialects_pd = pd.read_csv(raw_data+'output-dialects.txt')"
   ]
  },
  {
   "cell_type": "markdown",
   "metadata": {},
   "source": [
    "### Extract All Pairs from Mandarin and Teochew "
   ]
  },
  {
   "cell_type": "code",
   "execution_count": 5,
   "metadata": {},
   "outputs": [],
   "source": [
    "teochew_pd = dialects_pd[dialects_pd.DOCULECT=='Chaozhou']\n",
    "mandarin_pd = dialects_pd[dialects_pd.DOCULECT=='Beijing']"
   ]
  },
  {
   "cell_type": "code",
   "execution_count": 6,
   "metadata": {},
   "outputs": [
    {
     "data": {
      "text/plain": [
       "Index(['ID', 'DOCULECT', 'GLOTTOLOG', 'ISO', 'CONCEPT', 'CONCEPTICON_ID',\n",
       "       'CHINESE', 'PINYIN', 'BENZI', 'BENZI_IN_SOURCE', 'VALUE', 'FORM',\n",
       "       'SEGMENTS', 'COGID', 'COGIDS', 'NOTE', 'SOURCE', 'BEIDA_ID', 'PAGE',\n",
       "       'ORDER', 'ALIGNMENTS'],\n",
       "      dtype='object')"
      ]
     },
     "execution_count": 6,
     "metadata": {},
     "output_type": "execute_result"
    }
   ],
   "source": [
    "teochew_pd.columns"
   ]
  },
  {
   "cell_type": "code",
   "execution_count": 7,
   "metadata": {},
   "outputs": [],
   "source": [
    "merged_pd = pd.merge(teochew_pd, mandarin_pd, how=\"inner\", on=\"BEIDA_ID\", suffixes=('_teo', '_man'))"
   ]
  },
  {
   "cell_type": "markdown",
   "metadata": {},
   "source": [
    "### Data Wrangling"
   ]
  },
  {
   "cell_type": "code",
   "execution_count": 8,
   "metadata": {},
   "outputs": [
    {
     "data": {
      "text/html": [
       "<div>\n",
       "<style scoped>\n",
       "    .dataframe tbody tr th:only-of-type {\n",
       "        vertical-align: middle;\n",
       "    }\n",
       "\n",
       "    .dataframe tbody tr th {\n",
       "        vertical-align: top;\n",
       "    }\n",
       "\n",
       "    .dataframe thead th {\n",
       "        text-align: right;\n",
       "    }\n",
       "</style>\n",
       "<table border=\"1\" class=\"dataframe\">\n",
       "  <thead>\n",
       "    <tr style=\"text-align: right;\">\n",
       "      <th></th>\n",
       "      <th>BENZI_IN_SOURCE_teo</th>\n",
       "      <th>SEGMENTS_teo</th>\n",
       "      <th>CHINESE_man</th>\n",
       "    </tr>\n",
       "  </thead>\n",
       "  <tbody>\n",
       "    <tr>\n",
       "      <td>count</td>\n",
       "      <td>890</td>\n",
       "      <td>890</td>\n",
       "      <td>890</td>\n",
       "    </tr>\n",
       "    <tr>\n",
       "      <td>unique</td>\n",
       "      <td>879</td>\n",
       "      <td>868</td>\n",
       "      <td>810</td>\n",
       "    </tr>\n",
       "    <tr>\n",
       "      <td>top</td>\n",
       "      <td>擔</td>\n",
       "      <td>k ɯ ŋ ³³</td>\n",
       "      <td>剛才</td>\n",
       "    </tr>\n",
       "    <tr>\n",
       "      <td>freq</td>\n",
       "      <td>2</td>\n",
       "      <td>3</td>\n",
       "      <td>3</td>\n",
       "    </tr>\n",
       "  </tbody>\n",
       "</table>\n",
       "</div>"
      ],
      "text/plain": [
       "       BENZI_IN_SOURCE_teo SEGMENTS_teo CHINESE_man\n",
       "count                  890          890         890\n",
       "unique                 879          868         810\n",
       "top                      擔     k ɯ ŋ ³³          剛才\n",
       "freq                     2            3           3"
      ]
     },
     "execution_count": 8,
     "metadata": {},
     "output_type": "execute_result"
    }
   ],
   "source": [
    "merged_pd = merged_pd[['BENZI_IN_SOURCE_teo','SEGMENTS_teo','CHINESE_man']]\n",
    "merged_pd.drop_duplicates(subset=\"BENZI_IN_SOURCE_teo\", keep='first', inplace=True)\n",
    "\n",
    "# removes extra characters and spaces from beizi_in_source \n",
    "merged_pd['BENZI_IN_SOURCE_teo'] = merged_pd['BENZI_IN_SOURCE_teo'].apply(lambda x: re.sub('[a-zA-Z0-9’!\"#$%&\\'() \\\n",
    "                                                                    *+,-./:;<=>?@，。?★、…【】□\\\n",
    "                                                                    《》？“”‘’！[\\\\]^_`{|}~\\s]+', \"\", str(x)))\n",
    "# removes rows that no chinese words can be found for teochew pronounciation\n",
    "merged_pd = merged_pd.loc[merged_pd['BENZI_IN_SOURCE_teo']!=\"\"]\n",
    "merged_pd.describe()"
   ]
  },
  {
   "cell_type": "markdown",
   "metadata": {},
   "source": [
    "### Convert Traditional Chinese to Simplified Chinese/Pinyin"
   ]
  },
  {
   "cell_type": "code",
   "execution_count": 9,
   "metadata": {},
   "outputs": [],
   "source": [
    "from hanziconv import HanziConv\n",
    "from xpinyin import Pinyin"
   ]
  },
  {
   "cell_type": "code",
   "execution_count": 10,
   "metadata": {},
   "outputs": [],
   "source": [
    "merged_pd['BENZI_man'] = merged_pd['BENZI_IN_SOURCE_teo'].apply(lambda x: HanziConv.toSimplified(x))\n",
    "p = Pinyin()\n",
    "merged_pd['pinyin'] = merged_pd['BENZI_man'].apply(lambda x: p.get_pinyin(x, tone_marks='numbers'))"
   ]
  },
  {
   "cell_type": "code",
   "execution_count": 11,
   "metadata": {},
   "outputs": [
    {
     "data": {
      "text/html": [
       "<div>\n",
       "<style scoped>\n",
       "    .dataframe tbody tr th:only-of-type {\n",
       "        vertical-align: middle;\n",
       "    }\n",
       "\n",
       "    .dataframe tbody tr th {\n",
       "        vertical-align: top;\n",
       "    }\n",
       "\n",
       "    .dataframe thead th {\n",
       "        text-align: right;\n",
       "    }\n",
       "</style>\n",
       "<table border=\"1\" class=\"dataframe\">\n",
       "  <thead>\n",
       "    <tr style=\"text-align: right;\">\n",
       "      <th></th>\n",
       "      <th>BENZI_IN_SOURCE_teo</th>\n",
       "      <th>SEGMENTS_teo</th>\n",
       "      <th>CHINESE_man</th>\n",
       "      <th>BENZI_man</th>\n",
       "      <th>pinyin</th>\n",
       "    </tr>\n",
       "  </thead>\n",
       "  <tbody>\n",
       "    <tr>\n",
       "      <td>count</td>\n",
       "      <td>890</td>\n",
       "      <td>890</td>\n",
       "      <td>890</td>\n",
       "      <td>890</td>\n",
       "      <td>890</td>\n",
       "    </tr>\n",
       "    <tr>\n",
       "      <td>unique</td>\n",
       "      <td>879</td>\n",
       "      <td>868</td>\n",
       "      <td>810</td>\n",
       "      <td>879</td>\n",
       "      <td>816</td>\n",
       "    </tr>\n",
       "    <tr>\n",
       "      <td>top</td>\n",
       "      <td>擔</td>\n",
       "      <td>k ɯ ŋ ³³</td>\n",
       "      <td>剛才</td>\n",
       "      <td>咀</td>\n",
       "      <td>shi4</td>\n",
       "    </tr>\n",
       "    <tr>\n",
       "      <td>freq</td>\n",
       "      <td>2</td>\n",
       "      <td>3</td>\n",
       "      <td>3</td>\n",
       "      <td>2</td>\n",
       "      <td>5</td>\n",
       "    </tr>\n",
       "  </tbody>\n",
       "</table>\n",
       "</div>"
      ],
      "text/plain": [
       "       BENZI_IN_SOURCE_teo SEGMENTS_teo CHINESE_man BENZI_man pinyin\n",
       "count                  890          890         890       890    890\n",
       "unique                 879          868         810       879    816\n",
       "top                      擔     k ɯ ŋ ³³          剛才         咀   shi4\n",
       "freq                     2            3           3         2      5"
      ]
     },
     "execution_count": 11,
     "metadata": {},
     "output_type": "execute_result"
    }
   ],
   "source": [
    "merged_pd.describe()"
   ]
  },
  {
   "cell_type": "markdown",
   "metadata": {},
   "source": [
    "### Separate Citation tones with Sandhi Tones for Teochew"
   ]
  },
  {
   "cell_type": "code",
   "execution_count": 12,
   "metadata": {},
   "outputs": [],
   "source": [
    "SUB = str.maketrans(\"₀₁₂₃₄₅₆₇₈₉\", \"0123456789\")\n",
    "SUP = str.maketrans(\"⁰¹²³⁴⁵⁶⁷⁸⁹\", \"0123456789\")\n",
    "\n",
    "merged_pd['citation_teo'] = merged_pd['SEGMENTS_teo'].apply(lambda x: x.translate(SUP))\n",
    "\n",
    "def extract_citation(s, delimit=' '):\n",
    "    ans = [] \n",
    "    blocks = s.split(delimit)\n",
    "    for block in blocks:\n",
    "        if any(c.isdigit() for c in block):\n",
    "            ans.append(block.split('/')[-1]) \n",
    "    return \" \".join(ans)\n",
    "\n",
    "merged_pd['citation_teo'] = merged_pd['citation_teo'].apply(lambda x: extract_citation(x))"
   ]
  },
  {
   "cell_type": "code",
   "execution_count": 13,
   "metadata": {},
   "outputs": [
    {
     "name": "stderr",
     "output_type": "stream",
     "text": [
      "/Users/elaineye/anaconda3/lib/python3.6/site-packages/ipykernel_launcher.py:6: FutureWarning: The reduce argument is deprecated and will be removed in a future version. You can specify result_type='reduce' to try to reduce the result to the original dimensions\n",
      "  \n"
     ]
    }
   ],
   "source": [
    "merged_pd['citation_man'] = merged_pd['pinyin'].apply(lambda x: \" \".join([t[-1] for t in x.split('-')]))\n",
    "\n",
    "def filter_row(row):\n",
    "    return row['citation_man'].replace(\" \", \"\").isdigit() \n",
    "\n",
    "merged_pd = merged_pd[merged_pd.apply(filter_row, axis=1, reduce=True)]"
   ]
  },
  {
   "cell_type": "code",
   "execution_count": 17,
   "metadata": {},
   "outputs": [
    {
     "data": {
      "text/html": [
       "<div>\n",
       "<style scoped>\n",
       "    .dataframe tbody tr th:only-of-type {\n",
       "        vertical-align: middle;\n",
       "    }\n",
       "\n",
       "    .dataframe tbody tr th {\n",
       "        vertical-align: top;\n",
       "    }\n",
       "\n",
       "    .dataframe thead th {\n",
       "        text-align: right;\n",
       "    }\n",
       "</style>\n",
       "<table border=\"1\" class=\"dataframe\">\n",
       "  <thead>\n",
       "    <tr style=\"text-align: right;\">\n",
       "      <th></th>\n",
       "      <th>BENZI_IN_SOURCE_teo</th>\n",
       "      <th>BENZI_man</th>\n",
       "      <th>citation_teo</th>\n",
       "      <th>citation_man</th>\n",
       "    </tr>\n",
       "  </thead>\n",
       "  <tbody>\n",
       "    <tr>\n",
       "      <td>count</td>\n",
       "      <td>803</td>\n",
       "      <td>803</td>\n",
       "      <td>803</td>\n",
       "      <td>803</td>\n",
       "    </tr>\n",
       "    <tr>\n",
       "      <td>unique</td>\n",
       "      <td>803</td>\n",
       "      <td>803</td>\n",
       "      <td>9</td>\n",
       "      <td>4</td>\n",
       "    </tr>\n",
       "    <tr>\n",
       "      <td>top</td>\n",
       "      <td>妖</td>\n",
       "      <td>妖</td>\n",
       "      <td>33</td>\n",
       "      <td>4</td>\n",
       "    </tr>\n",
       "    <tr>\n",
       "      <td>freq</td>\n",
       "      <td>1</td>\n",
       "      <td>1</td>\n",
       "      <td>187</td>\n",
       "      <td>232</td>\n",
       "    </tr>\n",
       "  </tbody>\n",
       "</table>\n",
       "</div>"
      ],
      "text/plain": [
       "       BENZI_IN_SOURCE_teo BENZI_man citation_teo citation_man\n",
       "count                  803       803          803          803\n",
       "unique                 803       803            9            4\n",
       "top                      妖         妖           33            4\n",
       "freq                     1         1          187          232"
      ]
     },
     "execution_count": 17,
     "metadata": {},
     "output_type": "execute_result"
    }
   ],
   "source": [
    "merged_pd_copy = pd.DataFrame(merged_pd,columns=['BENZI_IN_SOURCE_teo','BENZI_man','citation_teo','citation_man'])\n",
    "merged_pd_copy['citation_teo'] = merged_pd_copy['citation_teo'].apply(lambda x: x.split(' '))\n",
    "merged_pd_copy['citation_man'] = merged_pd_copy['citation_man'].apply(lambda x: x.split(' '))\n",
    "merged_pd_copy = merged_pd_copy[merged_pd_copy.citation_teo.map(len)==merged_pd_copy.citation_man.map(len)]\n",
    "\n",
    "pd1 = pd.DataFrame(merged_pd_copy['BENZI_IN_SOURCE_teo'].apply(lambda x: list(x)))\n",
    "pd2 = pd.DataFrame(merged_pd_copy['BENZI_man'].apply(lambda x: list(x)))\n",
    "pd3 = pd.DataFrame(merged_pd_copy['citation_teo'])\n",
    "pd4 = pd.DataFrame(merged_pd_copy['citation_man'])\n",
    "\n",
    "pd1 = pd1.explode('BENZI_IN_SOURCE_teo')\n",
    "pd2 = pd2.explode('BENZI_man')\n",
    "pd3 = pd3.explode('citation_teo')\n",
    "pd4 = pd4.explode('citation_man')\n",
    "combined_data = pd.concat([pd1, pd2, pd3, pd4], axis=1)\n",
    "combined_data.drop_duplicates(subset=\"BENZI_IN_SOURCE_teo\", keep='first', inplace=True)\n",
    "combined_data.describe()"
   ]
  },
  {
   "cell_type": "markdown",
   "metadata": {},
   "source": [
    "### Group the Citation Tones by Teochew/Mandarin"
   ]
  },
  {
   "cell_type": "code",
   "execution_count": 29,
   "metadata": {},
   "outputs": [],
   "source": [
    "# drop the 52 tone since there are only two cases, probably transcription error \n",
    "combined_data = combined_data.loc[~combined_data.citation_teo.str.contains('52')]"
   ]
  },
  {
   "cell_type": "code",
   "execution_count": 35,
   "metadata": {},
   "outputs": [
    {
     "name": "stdout",
     "output_type": "stream",
     "text": [
      "801\n"
     ]
    }
   ],
   "source": [
    "teochew_citation = combined_data['citation_teo'].values.tolist() \n",
    "mandarin_citation = combined_data['citation_man'].values.tolist() \n",
    "dic = dict() \n",
    "for tc, mc in zip(teochew_citation, mandarin_citation):\n",
    "    if (tc, mc) not in dic:\n",
    "        dic[(tc, mc)] = 1 \n",
    "        continue \n",
    "    dic[(tc, mc)] += 1 \n",
    "print(sum(dic.values()))"
   ]
  },
  {
   "cell_type": "code",
   "execution_count": 31,
   "metadata": {},
   "outputs": [],
   "source": [
    "teochew_mapping = {'33':'mid', '11':'low', '21':'low_checked', \n",
    "                   '213':'low_rising', '35':'high_rising', \n",
    "                   '4':'high_checked', '53':'falling', '55':'high'} \n",
    "\n",
    "mandarin_mapping = {'1': 'high', '2': 'rising', '3': 'dipping', '4': 'falling'}"
   ]
  },
  {
   "cell_type": "code",
   "execution_count": 32,
   "metadata": {},
   "outputs": [
    {
     "data": {
      "text/html": [
       "<div>\n",
       "<style scoped>\n",
       "    .dataframe tbody tr th:only-of-type {\n",
       "        vertical-align: middle;\n",
       "    }\n",
       "\n",
       "    .dataframe tbody tr th {\n",
       "        vertical-align: top;\n",
       "    }\n",
       "\n",
       "    .dataframe thead th {\n",
       "        text-align: right;\n",
       "    }\n",
       "</style>\n",
       "<table border=\"1\" class=\"dataframe\">\n",
       "  <thead>\n",
       "    <tr style=\"text-align: right;\">\n",
       "      <th></th>\n",
       "      <th>teochew_tone</th>\n",
       "      <th>mandarin_tone</th>\n",
       "      <th>frequency</th>\n",
       "    </tr>\n",
       "  </thead>\n",
       "  <tbody>\n",
       "    <tr>\n",
       "      <td>0</td>\n",
       "      <td>mid(33)</td>\n",
       "      <td>high(1)</td>\n",
       "      <td>168</td>\n",
       "    </tr>\n",
       "    <tr>\n",
       "      <td>1</td>\n",
       "      <td>high_checked(4)</td>\n",
       "      <td>rising(2)</td>\n",
       "      <td>32</td>\n",
       "    </tr>\n",
       "    <tr>\n",
       "      <td>2</td>\n",
       "      <td>high(55)</td>\n",
       "      <td>falling(4)</td>\n",
       "      <td>10</td>\n",
       "    </tr>\n",
       "    <tr>\n",
       "      <td>3</td>\n",
       "      <td>falling(53)</td>\n",
       "      <td>dipping(3)</td>\n",
       "      <td>111</td>\n",
       "    </tr>\n",
       "    <tr>\n",
       "      <td>4</td>\n",
       "      <td>low_checked(21)</td>\n",
       "      <td>rising(2)</td>\n",
       "      <td>18</td>\n",
       "    </tr>\n",
       "  </tbody>\n",
       "</table>\n",
       "</div>"
      ],
      "text/plain": [
       "      teochew_tone mandarin_tone frequency\n",
       "0          mid(33)       high(1)       168\n",
       "1  high_checked(4)     rising(2)        32\n",
       "2         high(55)    falling(4)        10\n",
       "3      falling(53)    dipping(3)       111\n",
       "4  low_checked(21)     rising(2)        18"
      ]
     },
     "execution_count": 32,
     "metadata": {},
     "output_type": "execute_result"
    }
   ],
   "source": [
    "freq_pd = pd.DataFrame(columns=['teochew_tone', 'mandarin_tone', 'frequency'])\n",
    "idx = 0\n",
    "for (teochew_tone, mandarin_tone), freq in dic.items():\n",
    "    freq_pd.loc[idx] = [teochew_mapping[teochew_tone]+'({})'.format(teochew_tone), \n",
    "                        mandarin_mapping[mandarin_tone]+'({})'.format(mandarin_tone), freq]\n",
    "    idx += 1 \n",
    "freq_pd.head()"
   ]
  },
  {
   "cell_type": "markdown",
   "metadata": {},
   "source": [
    "### Data Visualization"
   ]
  },
  {
   "cell_type": "code",
   "execution_count": 33,
   "metadata": {},
   "outputs": [
    {
     "data": {
      "text/html": [
       "<div>\n",
       "<style scoped>\n",
       "    .dataframe tbody tr th:only-of-type {\n",
       "        vertical-align: middle;\n",
       "    }\n",
       "\n",
       "    .dataframe tbody tr th {\n",
       "        vertical-align: top;\n",
       "    }\n",
       "\n",
       "    .dataframe thead th {\n",
       "        text-align: right;\n",
       "    }\n",
       "</style>\n",
       "<table border=\"1\" class=\"dataframe\">\n",
       "  <thead>\n",
       "    <tr style=\"text-align: right;\">\n",
       "      <th>mandarin_tone</th>\n",
       "      <th>dipping(3)</th>\n",
       "      <th>falling(4)</th>\n",
       "      <th>high(1)</th>\n",
       "      <th>rising(2)</th>\n",
       "    </tr>\n",
       "    <tr>\n",
       "      <th>teochew_tone</th>\n",
       "      <th></th>\n",
       "      <th></th>\n",
       "      <th></th>\n",
       "      <th></th>\n",
       "    </tr>\n",
       "  </thead>\n",
       "  <tbody>\n",
       "    <tr>\n",
       "      <td>falling(53)</td>\n",
       "      <td>111.0</td>\n",
       "      <td>7.0</td>\n",
       "      <td>4.0</td>\n",
       "      <td>3.0</td>\n",
       "    </tr>\n",
       "    <tr>\n",
       "      <td>high(55)</td>\n",
       "      <td>4.0</td>\n",
       "      <td>10.0</td>\n",
       "      <td>7.0</td>\n",
       "      <td>135.0</td>\n",
       "    </tr>\n",
       "    <tr>\n",
       "      <td>high_checked(4)</td>\n",
       "      <td>1.0</td>\n",
       "      <td>24.0</td>\n",
       "      <td>3.0</td>\n",
       "      <td>32.0</td>\n",
       "    </tr>\n",
       "    <tr>\n",
       "      <td>high_rising(35)</td>\n",
       "      <td>12.0</td>\n",
       "      <td>40.0</td>\n",
       "      <td>NaN</td>\n",
       "      <td>3.0</td>\n",
       "    </tr>\n",
       "    <tr>\n",
       "      <td>low(11)</td>\n",
       "      <td>5.0</td>\n",
       "      <td>32.0</td>\n",
       "      <td>NaN</td>\n",
       "      <td>4.0</td>\n",
       "    </tr>\n",
       "    <tr>\n",
       "      <td>low_checked(21)</td>\n",
       "      <td>9.0</td>\n",
       "      <td>18.0</td>\n",
       "      <td>23.0</td>\n",
       "      <td>18.0</td>\n",
       "    </tr>\n",
       "    <tr>\n",
       "      <td>low_rising(213)</td>\n",
       "      <td>9.0</td>\n",
       "      <td>92.0</td>\n",
       "      <td>5.0</td>\n",
       "      <td>3.0</td>\n",
       "    </tr>\n",
       "    <tr>\n",
       "      <td>mid(33)</td>\n",
       "      <td>3.0</td>\n",
       "      <td>9.0</td>\n",
       "      <td>168.0</td>\n",
       "      <td>7.0</td>\n",
       "    </tr>\n",
       "  </tbody>\n",
       "</table>\n",
       "</div>"
      ],
      "text/plain": [
       "mandarin_tone    dipping(3)  falling(4)  high(1)  rising(2)\n",
       "teochew_tone                                               \n",
       "falling(53)           111.0         7.0      4.0        3.0\n",
       "high(55)                4.0        10.0      7.0      135.0\n",
       "high_checked(4)         1.0        24.0      3.0       32.0\n",
       "high_rising(35)        12.0        40.0      NaN        3.0\n",
       "low(11)                 5.0        32.0      NaN        4.0\n",
       "low_checked(21)         9.0        18.0     23.0       18.0\n",
       "low_rising(213)         9.0        92.0      5.0        3.0\n",
       "mid(33)                 3.0         9.0    168.0        7.0"
      ]
     },
     "execution_count": 33,
     "metadata": {},
     "output_type": "execute_result"
    }
   ],
   "source": [
    "pd.crosstab(freq_pd[\"teochew_tone\"], freq_pd['mandarin_tone'], values=freq_pd['frequency'],\n",
    "           aggfunc=lambda x: x)"
   ]
  },
  {
   "cell_type": "markdown",
   "metadata": {},
   "source": [
    "### Export the dataframe to R for Visualization "
   ]
  },
  {
   "cell_type": "code",
   "execution_count": 37,
   "metadata": {},
   "outputs": [],
   "source": [
    "export_csv = freq_pd.to_csv('../output/r_input.csv', index = None, header=True)"
   ]
  }
 ],
 "metadata": {
  "kernelspec": {
   "display_name": "Python 3",
   "language": "python",
   "name": "python3"
  },
  "language_info": {
   "codemirror_mode": {
    "name": "ipython",
    "version": 3
   },
   "file_extension": ".py",
   "mimetype": "text/x-python",
   "name": "python",
   "nbconvert_exporter": "python",
   "pygments_lexer": "ipython3",
   "version": "3.6.8"
  }
 },
 "nbformat": 4,
 "nbformat_minor": 2
}
