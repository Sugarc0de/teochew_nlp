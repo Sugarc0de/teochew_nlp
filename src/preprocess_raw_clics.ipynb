{
 "cells": [
  {
   "cell_type": "markdown",
   "metadata": {},
   "source": [
    "### Correspondence between Beijing Mandarin and Teochew Language "
   ]
  },
  {
   "cell_type": "code",
   "execution_count": 163,
   "metadata": {},
   "outputs": [],
   "source": [
    "import pandas as pd \n",
    "import sys \n",
    "import re"
   ]
  },
  {
   "cell_type": "code",
   "execution_count": 164,
   "metadata": {},
   "outputs": [],
   "source": [
    "%config IPCompleter.greedy=True"
   ]
  },
  {
   "cell_type": "code",
   "execution_count": 165,
   "metadata": {},
   "outputs": [],
   "source": [
    "# used online tool to convert .tsv to .csv\n",
    "clics_raw = '../raw_data/lexibank-beidasinitic-a94870e/raw/'\n",
    "raw_data = '../raw_data/'"
   ]
  },
  {
   "cell_type": "code",
   "execution_count": 166,
   "metadata": {
    "scrolled": true
   },
   "outputs": [],
   "source": [
    "dialects_pd = pd.read_csv(raw_data+'output-dialects.txt')"
   ]
  },
  {
   "cell_type": "code",
   "execution_count": 167,
   "metadata": {},
   "outputs": [
    {
     "data": {
      "text/html": [
       "<div>\n",
       "<style scoped>\n",
       "    .dataframe tbody tr th:only-of-type {\n",
       "        vertical-align: middle;\n",
       "    }\n",
       "\n",
       "    .dataframe tbody tr th {\n",
       "        vertical-align: top;\n",
       "    }\n",
       "\n",
       "    .dataframe thead th {\n",
       "        text-align: right;\n",
       "    }\n",
       "</style>\n",
       "<table border=\"1\" class=\"dataframe\">\n",
       "  <thead>\n",
       "    <tr style=\"text-align: right;\">\n",
       "      <th></th>\n",
       "      <th>ID</th>\n",
       "      <th>DOCULECT</th>\n",
       "      <th>GLOTTOLOG</th>\n",
       "      <th>ISO</th>\n",
       "      <th>CONCEPT</th>\n",
       "      <th>CONCEPTICON_ID</th>\n",
       "      <th>CHINESE</th>\n",
       "      <th>PINYIN</th>\n",
       "      <th>BENZI</th>\n",
       "      <th>BENZI_IN_SOURCE</th>\n",
       "      <th>...</th>\n",
       "      <th>FORM</th>\n",
       "      <th>SEGMENTS</th>\n",
       "      <th>COGID</th>\n",
       "      <th>COGIDS</th>\n",
       "      <th>NOTE</th>\n",
       "      <th>SOURCE</th>\n",
       "      <th>BEIDA_ID</th>\n",
       "      <th>PAGE</th>\n",
       "      <th>ORDER</th>\n",
       "      <th>ALIGNMENTS</th>\n",
       "    </tr>\n",
       "  </thead>\n",
       "  <tbody>\n",
       "    <tr>\n",
       "      <td>0</td>\n",
       "      <td>16629</td>\n",
       "      <td>Beijing</td>\n",
       "      <td>beij1234</td>\n",
       "      <td>cmn</td>\n",
       "      <td>Chinese New Year's Eve (chú xī 除夕)</td>\n",
       "      <td>2188.0</td>\n",
       "      <td>除夕</td>\n",
       "      <td>chú xī</td>\n",
       "      <td>大 年 三 十</td>\n",
       "      <td>大年三十兒</td>\n",
       "      <td>...</td>\n",
       "      <td>ta⁵¹nian³⁵san⁵⁵ʂʅr³⁵</td>\n",
       "      <td>t a ⁵¹ n i a n ³⁵ s a n ⁵⁵ ʂ */ʅ ³⁵</td>\n",
       "      <td>1.0</td>\n",
       "      <td>47 391 392 393</td>\n",
       "      <td>NaN</td>\n",
       "      <td>BeijingDaxue1964</td>\n",
       "      <td>48</td>\n",
       "      <td>24</td>\n",
       "      <td>1</td>\n",
       "      <td>t a - - ⁵¹ + n i - a n - ³⁵ + s a n ⁵⁵ + ʂ */ʅ...</td>\n",
       "    </tr>\n",
       "    <tr>\n",
       "      <td>1</td>\n",
       "      <td>16630</td>\n",
       "      <td>Beijing</td>\n",
       "      <td>beij1234</td>\n",
       "      <td>cmn</td>\n",
       "      <td>Chinese New Year's Eve (chú xī 除夕)</td>\n",
       "      <td>2188.0</td>\n",
       "      <td>除夕</td>\n",
       "      <td>chú xī</td>\n",
       "      <td>三 十 晚 上</td>\n",
       "      <td>三十兒晚上</td>\n",
       "      <td>...</td>\n",
       "      <td>san⁵⁵ʂʅr³⁵uan²¹⁴₂₁ʂaŋ⁰</td>\n",
       "      <td>s a n ⁵⁵ ʂ */ʅ ³⁵ u a n ²¹/²¹⁴ ʂ a ŋ ⁰</td>\n",
       "      <td>2.0</td>\n",
       "      <td>392 393 394 96</td>\n",
       "      <td>[2]</td>\n",
       "      <td>BeijingDaxue1964</td>\n",
       "      <td>48</td>\n",
       "      <td>24</td>\n",
       "      <td>2</td>\n",
       "      <td>s a n ⁵⁵ + ʂ */ʅ - - ³⁵ + - u a n - ²¹/²¹⁴ + ʂ...</td>\n",
       "    </tr>\n",
       "    <tr>\n",
       "      <td>2</td>\n",
       "      <td>16631</td>\n",
       "      <td>Jinan</td>\n",
       "      <td>jina1245</td>\n",
       "      <td>cmn</td>\n",
       "      <td>Chinese New Year's Eve (chú xī 除夕)</td>\n",
       "      <td>2188.0</td>\n",
       "      <td>除夕</td>\n",
       "      <td>chú xī</td>\n",
       "      <td>三 十</td>\n",
       "      <td>三十兒</td>\n",
       "      <td>...</td>\n",
       "      <td>sæ̃²¹³ʂʅr⁴²</td>\n",
       "      <td>s æ̃ ∼ ²¹³ ʂ */ʅ ⁴²</td>\n",
       "      <td>3.0</td>\n",
       "      <td>392 393</td>\n",
       "      <td>NaN</td>\n",
       "      <td>BeijingDaxue1964</td>\n",
       "      <td>48</td>\n",
       "      <td>24</td>\n",
       "      <td>1</td>\n",
       "      <td>s æ̃ ∼ ²¹³ + ʂ */ʅ - - ⁴²</td>\n",
       "    </tr>\n",
       "    <tr>\n",
       "      <td>3</td>\n",
       "      <td>16632</td>\n",
       "      <td>Shenyang</td>\n",
       "      <td>shen1252</td>\n",
       "      <td>cmn</td>\n",
       "      <td>Chinese New Year's Eve (chú xī 除夕)</td>\n",
       "      <td>2188.0</td>\n",
       "      <td>除夕</td>\n",
       "      <td>chú xī</td>\n",
       "      <td>三 十</td>\n",
       "      <td>三十兒</td>\n",
       "      <td>...</td>\n",
       "      <td>san³³sɿr³⁵</td>\n",
       "      <td>s a n ³³ s */ɿ ³⁵</td>\n",
       "      <td>3.0</td>\n",
       "      <td>392 393</td>\n",
       "      <td>NaN</td>\n",
       "      <td>BeijingDaxue1964</td>\n",
       "      <td>48</td>\n",
       "      <td>24</td>\n",
       "      <td>1</td>\n",
       "      <td>s a n ³³ + s */ɿ - - ³⁵</td>\n",
       "    </tr>\n",
       "    <tr>\n",
       "      <td>4</td>\n",
       "      <td>16633</td>\n",
       "      <td>Xi_an</td>\n",
       "      <td>xian1253</td>\n",
       "      <td>cmn</td>\n",
       "      <td>Chinese New Year's Eve (chú xī 除夕)</td>\n",
       "      <td>2188.0</td>\n",
       "      <td>除夕</td>\n",
       "      <td>chú xī</td>\n",
       "      <td>三 十</td>\n",
       "      <td>三十兒〔晚上〕</td>\n",
       "      <td>...</td>\n",
       "      <td>sæ̃²¹ʂʅr²⁴</td>\n",
       "      <td>s æ̃ ∼ ²¹ ʂ */ʅ ²⁴</td>\n",
       "      <td>3.0</td>\n",
       "      <td>392 393</td>\n",
       "      <td>NaN</td>\n",
       "      <td>BeijingDaxue1964</td>\n",
       "      <td>48</td>\n",
       "      <td>24</td>\n",
       "      <td>1</td>\n",
       "      <td>s æ̃ ∼ ²¹ + ʂ */ʅ - - ²⁴</td>\n",
       "    </tr>\n",
       "  </tbody>\n",
       "</table>\n",
       "<p>5 rows × 21 columns</p>\n",
       "</div>"
      ],
      "text/plain": [
       "      ID  DOCULECT GLOTTOLOG  ISO                             CONCEPT  \\\n",
       "0  16629   Beijing  beij1234  cmn  Chinese New Year's Eve (chú xī 除夕)   \n",
       "1  16630   Beijing  beij1234  cmn  Chinese New Year's Eve (chú xī 除夕)   \n",
       "2  16631     Jinan  jina1245  cmn  Chinese New Year's Eve (chú xī 除夕)   \n",
       "3  16632  Shenyang  shen1252  cmn  Chinese New Year's Eve (chú xī 除夕)   \n",
       "4  16633     Xi_an  xian1253  cmn  Chinese New Year's Eve (chú xī 除夕)   \n",
       "\n",
       "   CONCEPTICON_ID CHINESE  PINYIN    BENZI BENZI_IN_SOURCE  ...  \\\n",
       "0          2188.0      除夕  chú xī  大 年 三 十           大年三十兒  ...   \n",
       "1          2188.0      除夕  chú xī  三 十 晚 上           三十兒晚上  ...   \n",
       "2          2188.0      除夕  chú xī      三 十             三十兒  ...   \n",
       "3          2188.0      除夕  chú xī      三 十             三十兒  ...   \n",
       "4          2188.0      除夕  chú xī      三 十         三十兒〔晚上〕  ...   \n",
       "\n",
       "                     FORM                                SEGMENTS COGID  \\\n",
       "0    ta⁵¹nian³⁵san⁵⁵ʂʅr³⁵     t a ⁵¹ n i a n ³⁵ s a n ⁵⁵ ʂ */ʅ ³⁵   1.0   \n",
       "1  san⁵⁵ʂʅr³⁵uan²¹⁴₂₁ʂaŋ⁰  s a n ⁵⁵ ʂ */ʅ ³⁵ u a n ²¹/²¹⁴ ʂ a ŋ ⁰   2.0   \n",
       "2             sæ̃²¹³ʂʅr⁴²                     s æ̃ ∼ ²¹³ ʂ */ʅ ⁴²   3.0   \n",
       "3              san³³sɿr³⁵                       s a n ³³ s */ɿ ³⁵   3.0   \n",
       "4              sæ̃²¹ʂʅr²⁴                      s æ̃ ∼ ²¹ ʂ */ʅ ²⁴   3.0   \n",
       "\n",
       "           COGIDS NOTE            SOURCE BEIDA_ID  PAGE  ORDER  \\\n",
       "0  47 391 392 393  NaN  BeijingDaxue1964       48    24      1   \n",
       "1  392 393 394 96  [2]  BeijingDaxue1964       48    24      2   \n",
       "2         392 393  NaN  BeijingDaxue1964       48    24      1   \n",
       "3         392 393  NaN  BeijingDaxue1964       48    24      1   \n",
       "4         392 393  NaN  BeijingDaxue1964       48    24      1   \n",
       "\n",
       "                                          ALIGNMENTS  \n",
       "0  t a - - ⁵¹ + n i - a n - ³⁵ + s a n ⁵⁵ + ʂ */ʅ...  \n",
       "1  s a n ⁵⁵ + ʂ */ʅ - - ³⁵ + - u a n - ²¹/²¹⁴ + ʂ...  \n",
       "2                          s æ̃ ∼ ²¹³ + ʂ */ʅ - - ⁴²  \n",
       "3                            s a n ³³ + s */ɿ - - ³⁵  \n",
       "4                           s æ̃ ∼ ²¹ + ʂ */ʅ - - ²⁴  \n",
       "\n",
       "[5 rows x 21 columns]"
      ]
     },
     "execution_count": 167,
     "metadata": {},
     "output_type": "execute_result"
    }
   ],
   "source": [
    "dialects_pd.head()"
   ]
  },
  {
   "cell_type": "markdown",
   "metadata": {},
   "source": [
    "### Extract All Pairs from Mandarin and Teochew "
   ]
  },
  {
   "cell_type": "code",
   "execution_count": 168,
   "metadata": {},
   "outputs": [],
   "source": [
    "teochew_pd = dialects_pd[dialects_pd.DOCULECT=='Chaozhou']\n",
    "mandarin_pd = dialects_pd[dialects_pd.DOCULECT=='Beijing']"
   ]
  },
  {
   "cell_type": "code",
   "execution_count": 169,
   "metadata": {},
   "outputs": [
    {
     "data": {
      "text/plain": [
       "Index(['ID', 'DOCULECT', 'GLOTTOLOG', 'ISO', 'CONCEPT', 'CONCEPTICON_ID',\n",
       "       'CHINESE', 'PINYIN', 'BENZI', 'BENZI_IN_SOURCE', 'VALUE', 'FORM',\n",
       "       'SEGMENTS', 'COGID', 'COGIDS', 'NOTE', 'SOURCE', 'BEIDA_ID', 'PAGE',\n",
       "       'ORDER', 'ALIGNMENTS'],\n",
       "      dtype='object')"
      ]
     },
     "execution_count": 169,
     "metadata": {},
     "output_type": "execute_result"
    }
   ],
   "source": [
    "teochew_pd.columns"
   ]
  },
  {
   "cell_type": "code",
   "execution_count": 170,
   "metadata": {},
   "outputs": [],
   "source": [
    "merged_pd = pd.merge(teochew_pd, mandarin_pd, how=\"inner\", on=\"BEIDA_ID\", suffixes=('_teo', '_man'))"
   ]
  },
  {
   "cell_type": "code",
   "execution_count": 171,
   "metadata": {},
   "outputs": [],
   "source": [
    "merged_pd = merged_pd[['BENZI_IN_SOURCE_teo','SEGMENTS_teo','CHINESE_man']]\n",
    "\n",
    "# removes extra characters and spaces from beizi_in_source \n",
    "merged_pd['BENZI_IN_SOURCE_teo'] = merged_pd['BENZI_IN_SOURCE_teo'].apply(lambda x: re.sub('[a-zA-Z0-9’!\"#$%&\\'() \\\n",
    "                                                                    *+,-./:;<=>?@，。?★、…【】\\\n",
    "                                                                    《》？“”‘’！[\\\\]^_`{|}~\\s]+', \"\", str(x)))\n",
    "# removes rows that no chinese words can be found for teochew pronounciation\n",
    "merged_pd = merged_pd.loc[merged_pd['BENZI_IN_SOURCE_teo']!=\"\"]"
   ]
  },
  {
   "cell_type": "code",
   "execution_count": 172,
   "metadata": {},
   "outputs": [
    {
     "data": {
      "text/html": [
       "<div>\n",
       "<style scoped>\n",
       "    .dataframe tbody tr th:only-of-type {\n",
       "        vertical-align: middle;\n",
       "    }\n",
       "\n",
       "    .dataframe tbody tr th {\n",
       "        vertical-align: top;\n",
       "    }\n",
       "\n",
       "    .dataframe thead th {\n",
       "        text-align: right;\n",
       "    }\n",
       "</style>\n",
       "<table border=\"1\" class=\"dataframe\">\n",
       "  <thead>\n",
       "    <tr style=\"text-align: right;\">\n",
       "      <th></th>\n",
       "      <th>BENZI_IN_SOURCE_teo</th>\n",
       "      <th>SEGMENTS_teo</th>\n",
       "      <th>CHINESE_man</th>\n",
       "    </tr>\n",
       "  </thead>\n",
       "  <tbody>\n",
       "    <tr>\n",
       "      <td>0</td>\n",
       "      <td>三十夜</td>\n",
       "      <td>s ã ∼ ²³/³³ ts a p ²¹/⁴ m e ⁵⁵</td>\n",
       "      <td>除夕</td>\n",
       "    </tr>\n",
       "    <tr>\n",
       "      <td>1</td>\n",
       "      <td>三十夜</td>\n",
       "      <td>s ã ∼ ²³/³³ ts a p ²¹/⁴ m e ⁵⁵</td>\n",
       "      <td>除夕</td>\n",
       "    </tr>\n",
       "    <tr>\n",
       "      <td>2</td>\n",
       "      <td>我</td>\n",
       "      <td>u a ⁵³</td>\n",
       "      <td>我</td>\n",
       "    </tr>\n",
       "    <tr>\n",
       "      <td>3</td>\n",
       "      <td>裌裘</td>\n",
       "      <td>k o i ʔ ⁴/²¹ h ĩ ũ ∼ ⁵⁵</td>\n",
       "      <td>夾祅</td>\n",
       "    </tr>\n",
       "    <tr>\n",
       "      <td>5</td>\n",
       "      <td>下</td>\n",
       "      <td>e ¹¹</td>\n",
       "      <td>下(打一下)</td>\n",
       "    </tr>\n",
       "  </tbody>\n",
       "</table>\n",
       "</div>"
      ],
      "text/plain": [
       "  BENZI_IN_SOURCE_teo                    SEGMENTS_teo CHINESE_man\n",
       "0                 三十夜  s ã ∼ ²³/³³ ts a p ²¹/⁴ m e ⁵⁵          除夕\n",
       "1                 三十夜  s ã ∼ ²³/³³ ts a p ²¹/⁴ m e ⁵⁵          除夕\n",
       "2                   我                          u a ⁵³           我\n",
       "3                  裌裘         k o i ʔ ⁴/²¹ h ĩ ũ ∼ ⁵⁵          夾祅\n",
       "5                   下                            e ¹¹      下(打一下)"
      ]
     },
     "execution_count": 172,
     "metadata": {},
     "output_type": "execute_result"
    }
   ],
   "source": [
    "merged_pd.head()"
   ]
  },
  {
   "cell_type": "markdown",
   "metadata": {},
   "source": [
    "### Convert Traditional Chinese to Simplified Chinese/Pinyin"
   ]
  },
  {
   "cell_type": "code",
   "execution_count": 173,
   "metadata": {},
   "outputs": [],
   "source": [
    "from hanziconv import HanziConv\n",
    "from xpinyin import Pinyin"
   ]
  },
  {
   "cell_type": "code",
   "execution_count": 174,
   "metadata": {},
   "outputs": [],
   "source": [
    "merged_pd['BENZI_man'] = merged_pd['BENZI_IN_SOURCE_teo'].apply(lambda x: HanziConv.toSimplified(x))\n",
    "p = Pinyin()\n",
    "merged_pd['pinyin'] = merged_pd['BENZI_man'].apply(lambda x: p.get_pinyin(x, tone_marks='numbers'))"
   ]
  },
  {
   "cell_type": "code",
   "execution_count": 175,
   "metadata": {},
   "outputs": [
    {
     "data": {
      "text/html": [
       "<div>\n",
       "<style scoped>\n",
       "    .dataframe tbody tr th:only-of-type {\n",
       "        vertical-align: middle;\n",
       "    }\n",
       "\n",
       "    .dataframe tbody tr th {\n",
       "        vertical-align: top;\n",
       "    }\n",
       "\n",
       "    .dataframe thead th {\n",
       "        text-align: right;\n",
       "    }\n",
       "</style>\n",
       "<table border=\"1\" class=\"dataframe\">\n",
       "  <thead>\n",
       "    <tr style=\"text-align: right;\">\n",
       "      <th></th>\n",
       "      <th>BENZI_IN_SOURCE_teo</th>\n",
       "      <th>SEGMENTS_teo</th>\n",
       "      <th>CHINESE_man</th>\n",
       "      <th>BENZI_man</th>\n",
       "      <th>pinyin</th>\n",
       "    </tr>\n",
       "  </thead>\n",
       "  <tbody>\n",
       "    <tr>\n",
       "      <td>0</td>\n",
       "      <td>三十夜</td>\n",
       "      <td>s ã ∼ ²³/³³ ts a p ²¹/⁴ m e ⁵⁵</td>\n",
       "      <td>除夕</td>\n",
       "      <td>三十夜</td>\n",
       "      <td>san1-shi2-ye4</td>\n",
       "    </tr>\n",
       "    <tr>\n",
       "      <td>2</td>\n",
       "      <td>我</td>\n",
       "      <td>u a ⁵³</td>\n",
       "      <td>我</td>\n",
       "      <td>我</td>\n",
       "      <td>wo3</td>\n",
       "    </tr>\n",
       "    <tr>\n",
       "      <td>3</td>\n",
       "      <td>裌裘</td>\n",
       "      <td>k o i ʔ ⁴/²¹ h ĩ ũ ∼ ⁵⁵</td>\n",
       "      <td>夾祅</td>\n",
       "      <td>裌裘</td>\n",
       "      <td>jia2-qiu2</td>\n",
       "    </tr>\n",
       "    <tr>\n",
       "      <td>5</td>\n",
       "      <td>下</td>\n",
       "      <td>e ¹¹</td>\n",
       "      <td>下(打一下)</td>\n",
       "      <td>下</td>\n",
       "      <td>xia4</td>\n",
       "    </tr>\n",
       "    <tr>\n",
       "      <td>6</td>\n",
       "      <td>算盤</td>\n",
       "      <td>s ɯ ŋ ⁵³/²¹³ p ũ ã ∼ ⁵⁵</td>\n",
       "      <td>算盤</td>\n",
       "      <td>算盘</td>\n",
       "      <td>suan4-pan2</td>\n",
       "    </tr>\n",
       "  </tbody>\n",
       "</table>\n",
       "</div>"
      ],
      "text/plain": [
       "  BENZI_IN_SOURCE_teo                    SEGMENTS_teo CHINESE_man BENZI_man  \\\n",
       "0                 三十夜  s ã ∼ ²³/³³ ts a p ²¹/⁴ m e ⁵⁵          除夕       三十夜   \n",
       "2                   我                          u a ⁵³           我         我   \n",
       "3                  裌裘         k o i ʔ ⁴/²¹ h ĩ ũ ∼ ⁵⁵          夾祅        裌裘   \n",
       "5                   下                            e ¹¹      下(打一下)         下   \n",
       "6                  算盤         s ɯ ŋ ⁵³/²¹³ p ũ ã ∼ ⁵⁵          算盤        算盘   \n",
       "\n",
       "          pinyin  \n",
       "0  san1-shi2-ye4  \n",
       "2            wo3  \n",
       "3      jia2-qiu2  \n",
       "5           xia4  \n",
       "6     suan4-pan2  "
      ]
     },
     "execution_count": 175,
     "metadata": {},
     "output_type": "execute_result"
    }
   ],
   "source": [
    "merged_pd.drop_duplicates(subset=\"SEGMENTS_teo\", keep='first', inplace=True)\n",
    "merged_pd.head()"
   ]
  },
  {
   "cell_type": "markdown",
   "metadata": {},
   "source": [
    "### Separate Citation tones with Sandhi Tones for Teochew"
   ]
  },
  {
   "cell_type": "code",
   "execution_count": 176,
   "metadata": {},
   "outputs": [],
   "source": [
    "SUB = str.maketrans(\"₀₁₂₃₄₅₆₇₈₉\", \"0123456789\")\n",
    "SUP = str.maketrans(\"⁰¹²³⁴⁵⁶⁷⁸⁹\", \"0123456789\")\n",
    "\n",
    "merged_pd['citation_teo'] = merged_pd['SEGMENTS_teo'].apply(lambda x: x.translate(SUP))\n",
    "\n",
    "def extract_citation(s, delimit=' '):\n",
    "    ans = [] \n",
    "    blocks = s.split(delimit)\n",
    "    for block in blocks:\n",
    "        if any(c.isdigit() for c in block):\n",
    "            ans.append(block.split('/')[-1]) \n",
    "    return \" \".join(ans)\n",
    "\n",
    "merged_pd['citation_teo'] = merged_pd['citation_teo'].apply(lambda x: extract_citation(x))"
   ]
  },
  {
   "cell_type": "code",
   "execution_count": 177,
   "metadata": {},
   "outputs": [
    {
     "name": "stderr",
     "output_type": "stream",
     "text": [
      "/Users/elaineye/anaconda3/lib/python3.6/site-packages/ipykernel_launcher.py:6: FutureWarning: The reduce argument is deprecated and will be removed in a future version. You can specify result_type='reduce' to try to reduce the result to the original dimensions\n",
      "  \n"
     ]
    },
    {
     "data": {
      "text/html": [
       "<div>\n",
       "<style scoped>\n",
       "    .dataframe tbody tr th:only-of-type {\n",
       "        vertical-align: middle;\n",
       "    }\n",
       "\n",
       "    .dataframe tbody tr th {\n",
       "        vertical-align: top;\n",
       "    }\n",
       "\n",
       "    .dataframe thead th {\n",
       "        text-align: right;\n",
       "    }\n",
       "</style>\n",
       "<table border=\"1\" class=\"dataframe\">\n",
       "  <thead>\n",
       "    <tr style=\"text-align: right;\">\n",
       "      <th></th>\n",
       "      <th>BENZI_IN_SOURCE_teo</th>\n",
       "      <th>SEGMENTS_teo</th>\n",
       "      <th>CHINESE_man</th>\n",
       "      <th>BENZI_man</th>\n",
       "      <th>pinyin</th>\n",
       "      <th>citation_teo</th>\n",
       "      <th>citation_man</th>\n",
       "    </tr>\n",
       "  </thead>\n",
       "  <tbody>\n",
       "    <tr>\n",
       "      <td>2</td>\n",
       "      <td>我</td>\n",
       "      <td>u a ⁵³</td>\n",
       "      <td>我</td>\n",
       "      <td>我</td>\n",
       "      <td>wo3</td>\n",
       "      <td>53</td>\n",
       "      <td>3</td>\n",
       "    </tr>\n",
       "    <tr>\n",
       "      <td>5</td>\n",
       "      <td>下</td>\n",
       "      <td>e ¹¹</td>\n",
       "      <td>下(打一下)</td>\n",
       "      <td>下</td>\n",
       "      <td>xia4</td>\n",
       "      <td>11</td>\n",
       "      <td>4</td>\n",
       "    </tr>\n",
       "    <tr>\n",
       "      <td>7</td>\n",
       "      <td>伴</td>\n",
       "      <td>pʰ ũ ã ∼ ³⁵</td>\n",
       "      <td>陪</td>\n",
       "      <td>伴</td>\n",
       "      <td>ban4</td>\n",
       "      <td>35</td>\n",
       "      <td>4</td>\n",
       "    </tr>\n",
       "    <tr>\n",
       "      <td>8</td>\n",
       "      <td>陪</td>\n",
       "      <td>p u e ⁵⁵</td>\n",
       "      <td>陪</td>\n",
       "      <td>陪</td>\n",
       "      <td>pei2</td>\n",
       "      <td>55</td>\n",
       "      <td>2</td>\n",
       "    </tr>\n",
       "    <tr>\n",
       "      <td>9</td>\n",
       "      <td>疊</td>\n",
       "      <td>tʰ i ə p ⁴</td>\n",
       "      <td>疊(堆疊)</td>\n",
       "      <td>叠</td>\n",
       "      <td>die2</td>\n",
       "      <td>4</td>\n",
       "      <td>2</td>\n",
       "    </tr>\n",
       "  </tbody>\n",
       "</table>\n",
       "</div>"
      ],
      "text/plain": [
       "  BENZI_IN_SOURCE_teo SEGMENTS_teo CHINESE_man BENZI_man pinyin citation_teo  \\\n",
       "2                   我       u a ⁵³           我         我    wo3           53   \n",
       "5                   下         e ¹¹      下(打一下)         下   xia4           11   \n",
       "7                   伴  pʰ ũ ã ∼ ³⁵           陪         伴   ban4           35   \n",
       "8                   陪     p u e ⁵⁵           陪         陪   pei2           55   \n",
       "9                   疊   tʰ i ə p ⁴       疊(堆疊)         叠   die2            4   \n",
       "\n",
       "  citation_man  \n",
       "2            3  \n",
       "5            4  \n",
       "7            4  \n",
       "8            2  \n",
       "9            2  "
      ]
     },
     "execution_count": 177,
     "metadata": {},
     "output_type": "execute_result"
    }
   ],
   "source": [
    "merged_pd['citation_man'] = merged_pd['pinyin'].apply(lambda x: \" \".join([t[-1] for t in x.split('-')]))\n",
    "\n",
    "def filter_row(row):\n",
    "    return row['citation_man'].isdigit() \n",
    "\n",
    "merged_pd = merged_pd[merged_pd.apply(filter_row, axis=1, reduce=True)]\n",
    "\n",
    "merged_pd.head()"
   ]
  },
  {
   "cell_type": "markdown",
   "metadata": {},
   "source": [
    "### Group the Citation Tones by Teochew/Mandarin"
   ]
  },
  {
   "cell_type": "code",
   "execution_count": 181,
   "metadata": {},
   "outputs": [
    {
     "name": "stdout",
     "output_type": "stream",
     "text": [
      "dict_keys([('53', '3'), ('11', '4'), ('35', '4'), ('55', '2'), ('4', '2'), ('213', '4'), ('21', '3'), ('21', '4'), ('21', '2'), ('21', '1'), ('33', '1'), ('35', '3'), ('213', '3'), ('33', '4'), ('55', '1'), ('213', '1'), ('11', '3'), ('33', '3'), ('4', '4'), ('53', '4'), ('4', '3'), ('53', '1'), ('33', '2'), ('53', '2'), ('11', '2'), ('35', '2'), ('213', '2'), ('55', '3'), ('55', '4'), ('4', '1')])\n"
     ]
    }
   ],
   "source": [
    "teochew_citation = merged_pd['citation_teo'].values.tolist() \n",
    "mandarin_citation = merged_pd['citation_man'].values.tolist() \n",
    "dic = dict() \n",
    "for ts, ms in zip(teochew_citation, mandarin_citation):\n",
    "    ts = ts.split(' ')\n",
    "    ms = ms.split(' ')\n",
    "    for tc, mc in zip(ts, ms):\n",
    "        if (tc, mc) not in dic:\n",
    "            dic[(tc, mc)] = 1 \n",
    "            continue \n",
    "        dic[(tc, mc)] += 1 \n",
    "print(dic.keys())"
   ]
  }
 ],
 "metadata": {
  "kernelspec": {
   "display_name": "Python 3",
   "language": "python",
   "name": "python3"
  },
  "language_info": {
   "codemirror_mode": {
    "name": "ipython",
    "version": 3
   },
   "file_extension": ".py",
   "mimetype": "text/x-python",
   "name": "python",
   "nbconvert_exporter": "python",
   "pygments_lexer": "ipython3",
   "version": "3.6.8"
  }
 },
 "nbformat": 4,
 "nbformat_minor": 2
}
